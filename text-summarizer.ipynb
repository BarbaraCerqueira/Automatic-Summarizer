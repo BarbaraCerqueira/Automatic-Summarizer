{
 "cells": [
  {
   "cell_type": "markdown",
   "metadata": {},
   "source": [
    "# Sumarizador Automático de Texto usando Embeddings \n",
    "A proposta deste trabalho é desenvolver uma Prova de Conceito no intuito de demonstrar um sumarizador automático de texto capaz de gerar resumos extrativos de documentos usando embeddings para capturar a semântica das frases. Para os testes e avaliação, será utilizado o dataset CNN/DailyMail; ele contém artigos de notícias e seus resumos, e é amplamente utilizado para tarefas de sumarização. \n",
    "\n",
    "O pipeline de execução do sumarizador será composto, basicamente, pelas seguintes etapas: \n",
    "1. Pré-processamento do texto;\n",
    "2. Transformar cada frase do texto em um vetor (embedding); \n",
    "3. Aplicar clusterização nesses embeddings para agrupar frases contextualmente similares; \n",
    "4. Obter as frases mais representativas de cada cluster; \n",
    "5. Compor o resumo extrativo a partir das frases obtidas.\n",
    "\n",
    "```Observações:```\n",
    "\n",
    "Serão utilizados e testados os seguintes modelos de embedding: ``text-embedding-3-small``, ``text-embedding-3-large`` e ``text-embedding-ada-002`` (OpenAI), ``bert-base-uncased`` (BERT), ``roberta-base`` (RoBERTa), ``paraphrase-MiniLM-L6-v2`` (S-BERT ou Sentence-BERT). Os modelos BERT e RoBERTa foram obtidos através da biblioteca \"transformers\" da Hugging Face, enquanto o S-BERT veio da \"sentence-transformers\". Não confundir o S-BERT com o modelo BERT para frases, são diferentes e possuem arquiteturas diferentes.\n",
    "\n",
    "Para utilizar os modelos da OpenAI é necessário acesso a uma chave de API da OpenAI.\n",
    "\n",
    "```Instruções de Uso:```\n",
    "\n",
    "- Descomentar e executar a primeira célula para instalar as dependências necessárias. As bibliotecas que trazem ferramentas de deep learning são bem pesadas e o processo pode demorar. Lembre-se de reiniciar o kernel após isso.\n",
    "- Descomentar e fazer download do 'punkt' na quarta célula. Ele é necessário para algumas funcionalidades da biblioteca nltk. Talvez também seja necessário reiniciar o kernel após isso.\n",
    "- Criar um arquivo .env para guardar sua chave de API da OpenAI. O arquivo deve conter uma linha com o seguinte:  ```\n",
    "        API_KEY = 'SUA-CHAVE-DE-API-OPENAI'\n",
    "        ```"
   ]
  },
  {
   "cell_type": "markdown",
   "metadata": {},
   "source": [
    "---"
   ]
  },
  {
   "cell_type": "markdown",
   "metadata": {},
   "source": [
    "## Instalação de Dependências"
   ]
  },
  {
   "cell_type": "code",
   "execution_count": 1,
   "metadata": {},
   "outputs": [],
   "source": [
    "# Uncomment to install necessary libraries and packages. Remember to restart kernel afterwards\n",
    "# ! pip install numpy pandas nltk datasets python-dotenv openai matplotlib transformers torch sentence_transformers"
   ]
  },
  {
   "cell_type": "code",
   "execution_count": 126,
   "metadata": {},
   "outputs": [],
   "source": [
    "from transformers import AutoTokenizer, AutoModel, BertTokenizer, BertModel\n",
    "from sentence_transformers import SentenceTransformer\n",
    "from datasets import load_dataset\n",
    "from nltk.cluster import KMeansClusterer\n",
    "import matplotlib.pyplot as plt\n",
    "import matplotlib.cm as cm\n",
    "from dotenv import load_dotenv\n",
    "from openai import OpenAI\n",
    "import pandas as pd\n",
    "import numpy as np\n",
    "import logging\n",
    "import torch\n",
    "import nltk\n",
    "import os\n",
    "import re"
   ]
  },
  {
   "cell_type": "code",
   "execution_count": 113,
   "metadata": {},
   "outputs": [],
   "source": [
    "# Supress excessive warnings from transformers libraries\n",
    "logging.getLogger(\"transformers\").setLevel(logging.ERROR)\n",
    "logging.getLogger(\"sentence_transformers\").setLevel(logging.ERROR)"
   ]
  },
  {
   "cell_type": "code",
   "execution_count": 2,
   "metadata": {},
   "outputs": [],
   "source": [
    "# Uncomment to download relevant tools if not already downloaded\n",
    "# nltk.download('punkt')"
   ]
  },
  {
   "cell_type": "markdown",
   "metadata": {},
   "source": [
    "## Conexão com a OpenAI"
   ]
  },
  {
   "cell_type": "code",
   "execution_count": 3,
   "metadata": {},
   "outputs": [],
   "source": [
    "# Load enviroment variables\n",
    "load_dotenv()\n",
    "\n",
    "# Configure client with API key\n",
    "client_openai = OpenAI(\n",
    "    api_key=os.getenv('API_KEY'),\n",
    ")"
   ]
  },
  {
   "cell_type": "markdown",
   "metadata": {},
   "source": [
    "## Preparação dos Dados"
   ]
  },
  {
   "cell_type": "code",
   "execution_count": 4,
   "metadata": {},
   "outputs": [],
   "source": [
    "# Load CNN/DailyMail Dataset\n",
    "dataset = load_dataset('cnn_dailymail', '3.0.0')"
   ]
  },
  {
   "cell_type": "code",
   "execution_count": 5,
   "metadata": {},
   "outputs": [],
   "source": [
    "# Get data that will be used for evaluation\n",
    "train = dataset['train']\n",
    "data = train.select(range(20))"
   ]
  },
  {
   "cell_type": "code",
   "execution_count": 6,
   "metadata": {},
   "outputs": [
    {
     "name": "stdout",
     "output_type": "stream",
     "text": [
      "LONDON, England (Reuters) -- Harry Potter star Daniel Radcliffe gains access to a reported £20 million ($41.1 million) fortune as he turns 18 on Monday, but he insists the money won't cast a spell on him. Daniel Radcliffe as Harry Potter in \"Harry Potter and the Order of the Phoenix\" To the disappointment of gossip columnists around the world, the young actor says he has no plans to fritter his cash away on fast cars, drink and celebrity parties. \"I don't plan to be one of those people who, as soon as they turn 18, suddenly buy themselves a massive sports car collection or something similar,\" he told an Australian interviewer earlier this month. \"I don't think I'll be particularly extravagant. \"The things I like buying are things that cost about 10 pounds -- books and CDs and DVDs.\" At 18, Radcliffe will be able to gamble in a casino, buy a drink in a pub or see the horror film \"Hostel: Part II,\" currently six places below his number one movie on the UK box office chart. Details of how he'll mark his landmark birthday are under wraps. His agent and publicist had no comment on his plans. \"I'll definitely have some sort of party,\" he said in an interview. \"Hopefully none of you will be reading about it.\" Radcliffe's earnings from the first five Potter films have been held in a trust fund which he has not been able to touch. Despite his growing fame and riches, the actor says he is keeping his feet firmly on the ground. \"People are always looking to say 'kid star goes off the rails,'\" he told reporters last month. \"But I try very hard not to go that way because it would be too easy for them.\" His latest outing as the boy wizard in \"Harry Potter and the Order of the Phoenix\" is breaking records on both sides of the Atlantic and he will reprise the role in the last two films.  Watch I-Reporter give her review of Potter's latest » . There is life beyond Potter, however. The Londoner has filmed a TV movie called \"My Boy Jack,\" about author Rudyard Kipling and his son, due for release later this year. He will also appear in \"December Boys,\" an Australian film about four boys who escape an orphanage. Earlier this year, he made his stage debut playing a tortured teenager in Peter Shaffer's \"Equus.\" Meanwhile, he is braced for even closer media scrutiny now that he's legally an adult: \"I just think I'm going to be more sort of fair game,\" he told Reuters. E-mail to a friend . Copyright 2007 Reuters. All rights reserved.This material may not be published, broadcast, rewritten, or redistributed.\n",
      "\n",
      "Harry Potter star Daniel Radcliffe gets £20M fortune as he turns 18 Monday .\n",
      "Young actor says he has no plans to fritter his cash away .\n",
      "Radcliffe's earnings from first five Potter films have been held in trust fund .\n"
     ]
    }
   ],
   "source": [
    "# Content example from dataset\n",
    "print(data[0]['article'])  # Text\n",
    "print()\n",
    "print(data[0]['highlights'])  # Summary"
   ]
  },
  {
   "cell_type": "markdown",
   "metadata": {},
   "source": [
    "## Funções Auxiliares"
   ]
  },
  {
   "cell_type": "code",
   "execution_count": 96,
   "metadata": {},
   "outputs": [],
   "source": [
    "# Function to get embedding from text using an OpenAI model\n",
    "def get_embedding_openai(text, model):\n",
    "   text = text.replace(\"\\n\", \" \")\n",
    "   return client_openai.embeddings.create(input = [text], model=model).data[0].embedding"
   ]
  },
  {
   "cell_type": "code",
   "execution_count": 103,
   "metadata": {},
   "outputs": [],
   "source": [
    "# Function to get embedding from text using a model from transformers library of Huggings Face\n",
    "def get_embedding_huggingface(text, model_name):\n",
    "    tokenizer = AutoTokenizer.from_pretrained(model_name)\n",
    "    model = AutoModel.from_pretrained(model_name)\n",
    "    text = [text]\n",
    "\n",
    "    # Tokenize sentences and get embeddings\n",
    "    inputs = tokenizer(text, return_tensors='pt', padding='longest')\n",
    "    with torch.no_grad():\n",
    "        outputs = model(**inputs)\n",
    "\n",
    "    # Check if the outputs contain 'last_hidden_state' or 'encoder_last_hidden_state'\n",
    "    if hasattr(outputs, 'encoder_last_hidden_state'):\n",
    "        embeddings = outputs.encoder_last_hidden_state.mean(dim=1)\n",
    "    elif hasattr(outputs, 'last_hidden_state'):\n",
    "        embeddings = outputs.last_hidden_state.mean(dim=1)\n",
    "    else:\n",
    "        raise ValueError(\"The model output does not contain expected attributes.\")\n",
    "\n",
    "    return embeddings[0].numpy()"
   ]
  },
  {
   "cell_type": "code",
   "execution_count": 109,
   "metadata": {},
   "outputs": [],
   "source": [
    "# Function to get embedding from text using model Sentence-BERT\n",
    "def get_embedding_sbert(text, model_name):\n",
    "    model = SentenceTransformer(model_name)\n",
    "    embeddings = model.encode([text])\n",
    "    return embeddings[0]"
   ]
  },
  {
   "cell_type": "code",
   "execution_count": 111,
   "metadata": {},
   "outputs": [],
   "source": [
    "# Works as an 'abstract' function that points to the correct embedding function\n",
    "def get_embedding(text, model):\n",
    "    if model in [\"text-embedding-3-large\", \"text-embedding-3-small\", \"text-embedding-ada-002\"]:\n",
    "        embedding_function = get_embedding_openai\n",
    "    elif model in [\"bert-base-uncased\", \"roberta-base\"]:\n",
    "        embedding_function = get_embedding_huggingface\n",
    "    elif model == \"paraphrase-MiniLM-L6-v2\":\n",
    "        embedding_function = get_embedding_sbert\n",
    "    else:\n",
    "        raise ValueError(\"Model either doesn't exist or isn't available.\")\n",
    "    return embedding_function(text, model)"
   ]
  },
  {
   "cell_type": "code",
   "execution_count": 8,
   "metadata": {},
   "outputs": [],
   "source": [
    "# Calculate similarity between embeddings\n",
    "def cosine_similarity(vec1, vec2):\n",
    "    return np.dot(vec1, vec2) / (np.linalg.norm(vec1) * np.linalg.norm(vec2))"
   ]
  },
  {
   "cell_type": "code",
   "execution_count": 9,
   "metadata": {},
   "outputs": [],
   "source": [
    "# Split text in sentences\n",
    "def tokenize_sentences(text):\n",
    "    sentences = nltk.sent_tokenize(text)\n",
    "    sentences = [sentence.strip() for sentence in sentences]\n",
    "    return sentences"
   ]
  },
  {
   "cell_type": "code",
   "execution_count": 10,
   "metadata": {},
   "outputs": [],
   "source": [
    "# Assign clusters to embeddings and find their centroids\n",
    "def kmeans_clustering(data, n_clusters, iterations=25):\n",
    "    embeddings = np.array(data[\"embeddings\"].tolist())\n",
    "    kclusterer = KMeansClusterer(\n",
    "            n_clusters, \n",
    "            distance=nltk.cluster.util.cosine_distance,\n",
    "            repeats=iterations, \n",
    "            avoid_empty_clusters=True)\n",
    "    \n",
    "    assigned_clusters = kclusterer.cluster(embeddings, assign_clusters=True)\n",
    "    data['cluster'] = pd.Series(assigned_clusters, index=data.index)\n",
    "    data['centroid'] = data['cluster'].apply(lambda x: kclusterer.means()[x])\n",
    "    return data"
   ]
  },
  {
   "cell_type": "code",
   "execution_count": 11,
   "metadata": {},
   "outputs": [],
   "source": [
    "# Calculate distance of each embedding from its cluster centroid\n",
    "def distance_from_centroid(data):\n",
    "    def euclidean_distance(embedding, centroid):\n",
    "        return np.linalg.norm(np.array(embedding) - np.array(centroid))\n",
    "\n",
    "    # Apply to each row\n",
    "    data['distance_from_centroid'] = data.apply(\n",
    "        lambda row: euclidean_distance(row[\"embeddings\"], row[\"centroid\"]), axis=1)\n",
    "    return data"
   ]
  },
  {
   "cell_type": "markdown",
   "metadata": {},
   "source": [
    "## Implementação"
   ]
  },
  {
   "cell_type": "markdown",
   "metadata": {},
   "source": [
    "### Pré-Processamento do Texto\n",
    "Para obter resultados de melhor qualidade no dataset CNN/DailyMail, foi realizado um pré-processamento de texto nos artigos que iremos utilizar. Isso consistiu de:\n",
    "- Remover frases poluentes no início e fim dos artigos, que geralmente são informações referentes ao canal de notícias de onde o texto foi retirado e sem relação direta com o artigo em si.\n",
    "- Limpar o texto de espaços desnecessários e caracteres especiais soltos.\n",
    "- Remover frases muito curtas, com menos de 3 palavras.\n",
    "\n",
    "Devido ao fato da nossa solução usar modelos de embeddings baseados em LLMs e treinados em corpus massivo de dados, capazes de captar as nuances e semântica intrínseca do texto ao invés de pura sintaxe, consideramos desnecessário aplicar técnicas de pré-processamento mais drásticas como remoção de stopwords e stemming, além de que nesse processo parte do significado e contexto poderia ser perdido, o que reduziria o desempenho."
   ]
  },
  {
   "cell_type": "code",
   "execution_count": 74,
   "metadata": {},
   "outputs": [],
   "source": [
    "# Remove sentences at the beginning and end of text that are not useful\n",
    "def remove_polluting_phrases(text):\n",
    "    text = re.sub(r\"Editor's note:\", '', text, flags=re.IGNORECASE).strip()\n",
    "\n",
    "    start_phrase = text.find(\"--\")\n",
    "    if start_phrase != -1:\n",
    "        text = text[start_phrase + 3:]\n",
    "\n",
    "    end_phrase = text.find(\"E-mail to a friend\")\n",
    "    if end_phrase != -1:\n",
    "        text = text[:end_phrase]\n",
    "    \n",
    "    return text"
   ]
  },
  {
   "cell_type": "code",
   "execution_count": 75,
   "metadata": {},
   "outputs": [],
   "source": [
    "# Remove unnecessary spaces and stray special characters\n",
    "def clean_text(text):\n",
    "    text = re.sub(r'\\s+', ' ', text).strip()\n",
    "    text = re.sub(r'\\s+\\.', '.', text).strip()\n",
    "    text = re.sub(r'\\s[^\\w\\s]\\s', ' ', text)\n",
    "    return text"
   ]
  },
  {
   "cell_type": "code",
   "execution_count": 76,
   "metadata": {},
   "outputs": [],
   "source": [
    "# Remove sentences with few words\n",
    "def remove_short_sentences(text, min_length=3):\n",
    "    sentences = tokenize_sentences(text)\n",
    "    filtered_sentences = [sentence.strip() for sentence in sentences if len(sentence.split()) > min_length]\n",
    "    return ' '.join(filtered_sentences)"
   ]
  },
  {
   "cell_type": "code",
   "execution_count": 77,
   "metadata": {},
   "outputs": [],
   "source": [
    "def preprocess_text(text):\n",
    "    text = remove_polluting_phrases(text)\n",
    "    text = remove_short_sentences(text)\n",
    "    text = clean_text(text)\n",
    "    return text"
   ]
  },
  {
   "cell_type": "code",
   "execution_count": 78,
   "metadata": {},
   "outputs": [
    {
     "name": "stdout",
     "output_type": "stream",
     "text": [
      "No Preprocessing:\n",
      "LONDON, England (Reuters) -- Harry Potter star Daniel Radcliffe gains access to a reported £20 million ($41.1 million) fortune as he turns 18 on Monday, but he insists the money won't cast a spell on him. Daniel Radcliffe as Harry Potter in \"Harry Potter and the Order of the Phoenix\" To the disappointment of gossip columnists around the world, the young actor says he has no plans to fritter his cash away on fast cars, drink and celebrity parties. \"I don't plan to be one of those people who, as soon as they turn 18, suddenly buy themselves a massive sports car collection or something similar,\" he told an Australian interviewer earlier this month. \"I don't think I'll be particularly extravagant. \"The things I like buying are things that cost about 10 pounds -- books and CDs and DVDs.\" At 18, Radcliffe will be able to gamble in a casino, buy a drink in a pub or see the horror film \"Hostel: Part II,\" currently six places below his number one movie on the UK box office chart. Details of how he'll mark his landmark birthday are under wraps. His agent and publicist had no comment on his plans. \"I'll definitely have some sort of party,\" he said in an interview. \"Hopefully none of you will be reading about it.\" Radcliffe's earnings from the first five Potter films have been held in a trust fund which he has not been able to touch. Despite his growing fame and riches, the actor says he is keeping his feet firmly on the ground. \"People are always looking to say 'kid star goes off the rails,'\" he told reporters last month. \"But I try very hard not to go that way because it would be too easy for them.\" His latest outing as the boy wizard in \"Harry Potter and the Order of the Phoenix\" is breaking records on both sides of the Atlantic and he will reprise the role in the last two films.  Watch I-Reporter give her review of Potter's latest » . There is life beyond Potter, however. The Londoner has filmed a TV movie called \"My Boy Jack,\" about author Rudyard Kipling and his son, due for release later this year. He will also appear in \"December Boys,\" an Australian film about four boys who escape an orphanage. Earlier this year, he made his stage debut playing a tortured teenager in Peter Shaffer's \"Equus.\" Meanwhile, he is braced for even closer media scrutiny now that he's legally an adult: \"I just think I'm going to be more sort of fair game,\" he told Reuters. E-mail to a friend . Copyright 2007 Reuters. All rights reserved.This material may not be published, broadcast, rewritten, or redistributed.\n",
      "\n",
      "With Preprocessing:\n",
      "Harry Potter star Daniel Radcliffe gains access to a reported £20 million ($41.1 million) fortune as he turns 18 on Monday, but he insists the money won't cast a spell on him. Daniel Radcliffe as Harry Potter in \"Harry Potter and the Order of the Phoenix\" To the disappointment of gossip columnists around the world, the young actor says he has no plans to fritter his cash away on fast cars, drink and celebrity parties. \"I don't plan to be one of those people who, as soon as they turn 18, suddenly buy themselves a massive sports car collection or something similar,\" he told an Australian interviewer earlier this month. \"I don't think I'll be particularly extravagant. \"The things I like buying are things that cost about 10 pounds -- books and CDs and DVDs.\" At 18, Radcliffe will be able to gamble in a casino, buy a drink in a pub or see the horror film \"Hostel: Part II,\" currently six places below his number one movie on the UK box office chart. Details of how he'll mark his landmark birthday are under wraps. His agent and publicist had no comment on his plans. \"I'll definitely have some sort of party,\" he said in an interview. \"Hopefully none of you will be reading about it.\" Radcliffe's earnings from the first five Potter films have been held in a trust fund which he has not been able to touch. Despite his growing fame and riches, the actor says he is keeping his feet firmly on the ground. \"People are always looking to say 'kid star goes off the rails,'\" he told reporters last month. \"But I try very hard not to go that way because it would be too easy for them.\" His latest outing as the boy wizard in \"Harry Potter and the Order of the Phoenix\" is breaking records on both sides of the Atlantic and he will reprise the role in the last two films. Watch I-Reporter give her review of Potter's latest ». There is life beyond Potter, however. The Londoner has filmed a TV movie called \"My Boy Jack,\" about author Rudyard Kipling and his son, due for release later this year. He will also appear in \"December Boys,\" an Australian film about four boys who escape an orphanage. Earlier this year, he made his stage debut playing a tortured teenager in Peter Shaffer's \"Equus.\" Meanwhile, he is braced for even closer media scrutiny now that he's legally an adult: \"I just think I'm going to be more sort of fair game,\" he told Reuters.\n"
     ]
    }
   ],
   "source": [
    "# Sample data for testing\n",
    "text = data[0]['article']\n",
    "print(\"No Preprocessing:\")\n",
    "print(text)\n",
    "print(\"\\nWith Preprocessing:\")\n",
    "print(preprocess_text(text))"
   ]
  },
  {
   "cell_type": "markdown",
   "metadata": {},
   "source": [
    "### Sumarização"
   ]
  },
  {
   "cell_type": "code",
   "execution_count": 79,
   "metadata": {},
   "outputs": [],
   "source": [
    "# Summarize text\n",
    "def summarize_text(text, model, n_clusters=3, output_as_list=False):\n",
    "    # Preprocess text\n",
    "    text = preprocess_text(text)\n",
    "\n",
    "    # Create a dataframe with the text sentences\n",
    "    sentences = tokenize_sentences(text)\n",
    "    df_sentences = pd.DataFrame({\"sentences\" : sentences})\n",
    "\n",
    "    # Transform sentences into embeddings using an NLP model\n",
    "    df_sentences['embeddings'] = df_sentences['sentences'].apply(lambda x: get_embedding(x, model))\n",
    "\n",
    "    # Cluster sentence embeddings with KMeans\n",
    "    df_sentences = kmeans_clustering(df_sentences, n_clusters)\n",
    "\n",
    "    # Find distance of each embedding to its cluster's centroid\n",
    "    df_sentences = distance_from_centroid(df_sentences)\n",
    "\n",
    "    # Compose summary with each cluster's most meaninful sentence - embedding with the least distance to centroid\n",
    "    summary = df_sentences.sort_values('distance_from_centroid', ascending = True) \\\n",
    "                            .groupby('cluster').head(1) \\\n",
    "                            .sort_index()['sentences'] \\\n",
    "                            .tolist()\n",
    "    if output_as_list: \n",
    "        return summary\n",
    "    else:\n",
    "        # Format summary as a string\n",
    "        summary_str = ' '.join(summary)\n",
    "        return summary_str"
   ]
  },
  {
   "cell_type": "code",
   "execution_count": 81,
   "metadata": {},
   "outputs": [
    {
     "name": "stdout",
     "output_type": "stream",
     "text": [
      "Reference Summary:\n",
      "Harry Potter star Daniel Radcliffe gets £20M fortune as he turns 18 Monday .\n",
      "Young actor says he has no plans to fritter his cash away .\n",
      "Radcliffe's earnings from first five Potter films have been held in trust fund .\n",
      "\n",
      "Generated Summary:\n",
      "Daniel Radcliffe as Harry Potter in \"Harry Potter and the Order of the Phoenix\" To the disappointment of gossip columnists around the world, the young actor says he has no plans to fritter his cash away on fast cars, drink and celebrity parties.\n",
      "\"I'll definitely have some sort of party,\" he said in an interview.\n",
      "\"People are always looking to say 'kid star goes off the rails,'\" he told reporters last month.\n"
     ]
    }
   ],
   "source": [
    "# Sample data for testing\n",
    "text = data[0]['article']\n",
    "model = \"text-embedding-3-large\"\n",
    "summary = summarize_text(text, model, 3, True)\n",
    "\n",
    "print(\"Reference Summary:\")\n",
    "print(data[0]['highlights'])\n",
    "\n",
    "print(\"\\nGenerated Summary:\")\n",
    "for sentence in summary:\n",
    "    print(sentence)"
   ]
  },
  {
   "cell_type": "code",
   "execution_count": 142,
   "metadata": {},
   "outputs": [
    {
     "name": "stdout",
     "output_type": "stream",
     "text": [
      "Reference Summary:\n",
      "Parents beam with pride, can't stop from smiling from outpouring of support .\n",
      "Mom: \"I was so happy I didn't know what to do\"\n",
      "Burn center in U.S. has offered to provide treatment for reconstructive surgeries .\n",
      "Dad says, \"Anything for Youssif\"\n",
      "\n",
      "Generated Summary:\n",
      "It's the best birthday present the Iraqi family could ever have imagined for their boy: Youssif turns 6 next Friday.\n",
      "The foundation says it will cover all medical costs -- from surgeries for Youssif to housing costs to any social rehabilitation that might be needed for him.\n",
      "CNN Iraqi staff central to bringing this story together were also overwhelmed with the generosity coming from people outside of their border.\n"
     ]
    }
   ],
   "source": [
    "# Sample data for testing\n",
    "text = data[5]['article']\n",
    "model = \"bert-base-uncased\"\n",
    "summary = summarize_text(text, model, 3, True)\n",
    "\n",
    "print(\"Reference Summary:\")\n",
    "print(data[5]['highlights'])\n",
    "\n",
    "print(\"\\nGenerated Summary:\")\n",
    "for sentence in summary:\n",
    "    print(sentence)"
   ]
  },
  {
   "cell_type": "markdown",
   "metadata": {},
   "source": [
    "## Avaliação da Solução\n",
    "Para tentar evitar o problema de tentar avaliar essa solução com uma métrica ROUGE, visto que os resumos de referência ('highlights') não foram criados da mesma forma que os nossos, que são resumos extrativos, tentamos uma abordagem diferente. Optamos por utilizar os próprios embeddings para avaliação: a ideia foi usar a similaridade entre os embeddings do resumo gerado e do resumo de referência como score de avaliação. Desde que o mesmo modelo de embedding seja utilizado para avaliar todos os resumos gerados, a similaridade de cosseno entre eles é uma comparação válida. Isso permite calcular quantitativamente a semelhança semântica, e não apenas de sintaxe entre resumos; quanto maior essa métrica significa que o resumo gerado está mais próximo do ideal.\n",
    "\n",
    "Essa é uma forma de avaliação parecida com o que foi usado no ROUGE-WE, discutido no artigo \"Better Summarization Evaluation with Word Embeddings for ROUGE\", de Jun-Ping Ng e Viktoria Abrech. O ROUGE-WE é uma métrica baseada no ROUGE, mas que usa embeddings de palavras de forma a aliviar a perda de score que se teria devido a parafraseamento do texto. Neste trabalho, no entanto, usaremos embeddings de texto completo.\n",
    "\n",
    "Assim, vamos avaliar a solução com base na média dos scores de similaridade usando os 20 primeiros artigos do dataset de treinamento do CNN/DailyMail. Vamos comparar os resultados utilizando seis modelos diferentes de embeddings para sumarização de texto: os três modelos de embedding disponíveis da ``OpenAI`` (text-embedding-3-small, text-embedding-3-large e text-embedding-ada-002), além do ``BERT``, ``RoBERTa`` e ``S-BERT`` (Sentence-BERT).\n",
    "\n",
    "Para a avaliação em si, será usado apenas o ``text-embedding-3-small`` para que os embeddings da avaliação sejam gerados no mesmo espaço vetorial e suas distâncias sejam comparáveis, de forma a garantir a consistência e justiça da avaliação."
   ]
  },
  {
   "cell_type": "code",
   "execution_count": 82,
   "metadata": {},
   "outputs": [
    {
     "data": {
      "text/html": [
       "<div>\n",
       "<style scoped>\n",
       "    .dataframe tbody tr th:only-of-type {\n",
       "        vertical-align: middle;\n",
       "    }\n",
       "\n",
       "    .dataframe tbody tr th {\n",
       "        vertical-align: top;\n",
       "    }\n",
       "\n",
       "    .dataframe thead th {\n",
       "        text-align: right;\n",
       "    }\n",
       "</style>\n",
       "<table border=\"1\" class=\"dataframe\">\n",
       "  <thead>\n",
       "    <tr style=\"text-align: right;\">\n",
       "      <th></th>\n",
       "      <th>article</th>\n",
       "      <th>highlights</th>\n",
       "      <th>id</th>\n",
       "    </tr>\n",
       "  </thead>\n",
       "  <tbody>\n",
       "    <tr>\n",
       "      <th>0</th>\n",
       "      <td>LONDON, England (Reuters) -- Harry Potter star...</td>\n",
       "      <td>Harry Potter star Daniel Radcliffe gets £20M f...</td>\n",
       "      <td>42c027e4ff9730fbb3de84c1af0d2c506e41c3e4</td>\n",
       "    </tr>\n",
       "    <tr>\n",
       "      <th>1</th>\n",
       "      <td>Editor's note: In our Behind the Scenes series...</td>\n",
       "      <td>Mentally ill inmates in Miami are housed on th...</td>\n",
       "      <td>ee8871b15c50d0db17b0179a6d2beab35065f1e9</td>\n",
       "    </tr>\n",
       "    <tr>\n",
       "      <th>2</th>\n",
       "      <td>MINNEAPOLIS, Minnesota (CNN) -- Drivers who we...</td>\n",
       "      <td>NEW: \"I thought I was going to die,\" driver sa...</td>\n",
       "      <td>06352019a19ae31e527f37f7571c6dd7f0c5da37</td>\n",
       "    </tr>\n",
       "    <tr>\n",
       "      <th>3</th>\n",
       "      <td>WASHINGTON (CNN) -- Doctors removed five small...</td>\n",
       "      <td>Five small polyps found during procedure; \"non...</td>\n",
       "      <td>24521a2abb2e1f5e34e6824e0f9e56904a2b0e88</td>\n",
       "    </tr>\n",
       "    <tr>\n",
       "      <th>4</th>\n",
       "      <td>(CNN)  -- The National Football League has ind...</td>\n",
       "      <td>NEW: NFL chief, Atlanta Falcons owner critical...</td>\n",
       "      <td>7fe70cc8b12fab2d0a258fababf7d9c6b5e1262a</td>\n",
       "    </tr>\n",
       "  </tbody>\n",
       "</table>\n",
       "</div>"
      ],
      "text/plain": [
       "                                             article  \\\n",
       "0  LONDON, England (Reuters) -- Harry Potter star...   \n",
       "1  Editor's note: In our Behind the Scenes series...   \n",
       "2  MINNEAPOLIS, Minnesota (CNN) -- Drivers who we...   \n",
       "3  WASHINGTON (CNN) -- Doctors removed five small...   \n",
       "4  (CNN)  -- The National Football League has ind...   \n",
       "\n",
       "                                          highlights  \\\n",
       "0  Harry Potter star Daniel Radcliffe gets £20M f...   \n",
       "1  Mentally ill inmates in Miami are housed on th...   \n",
       "2  NEW: \"I thought I was going to die,\" driver sa...   \n",
       "3  Five small polyps found during procedure; \"non...   \n",
       "4  NEW: NFL chief, Atlanta Falcons owner critical...   \n",
       "\n",
       "                                         id  \n",
       "0  42c027e4ff9730fbb3de84c1af0d2c506e41c3e4  \n",
       "1  ee8871b15c50d0db17b0179a6d2beab35065f1e9  \n",
       "2  06352019a19ae31e527f37f7571c6dd7f0c5da37  \n",
       "3  24521a2abb2e1f5e34e6824e0f9e56904a2b0e88  \n",
       "4  7fe70cc8b12fab2d0a258fababf7d9c6b5e1262a  "
      ]
     },
     "execution_count": 82,
     "metadata": {},
     "output_type": "execute_result"
    }
   ],
   "source": [
    "data_df = data.to_pandas()  # contains 20 articles\n",
    "data_df.head()"
   ]
  },
  {
   "cell_type": "code",
   "execution_count": 83,
   "metadata": {},
   "outputs": [],
   "source": [
    "# Get articles and validation summaries we will use for evaluation\n",
    "articles = data_df[\"article\"].tolist()\n",
    "ref_summaries = data_df[\"highlights\"].tolist()"
   ]
  },
  {
   "cell_type": "markdown",
   "metadata": {},
   "source": [
    "### Geração dos Resumos\n",
    "Gerando resumos dos artigos de notícias com nosso sumarizador, usando múltiplos modelos de embeddings."
   ]
  },
  {
   "cell_type": "code",
   "execution_count": 87,
   "metadata": {},
   "outputs": [],
   "source": [
    "model_tel = \"text-embedding-3-large\"\n",
    "gen_summaries_tel = [summarize_text(text=article, model=model_tel, n_clusters=3) for article in articles]"
   ]
  },
  {
   "cell_type": "code",
   "execution_count": 88,
   "metadata": {},
   "outputs": [],
   "source": [
    "model_tes = \"text-embedding-3-small\"\n",
    "gen_summaries_tes = [summarize_text(text=article, model=model_tes, n_clusters=3) for article in articles]"
   ]
  },
  {
   "cell_type": "code",
   "execution_count": 89,
   "metadata": {},
   "outputs": [],
   "source": [
    "model_ada = \"text-embedding-ada-002\"\n",
    "gen_summaries_ada = [summarize_text(text=article, model=model_ada, n_clusters=3) for article in articles]"
   ]
  },
  {
   "cell_type": "code",
   "execution_count": 84,
   "metadata": {},
   "outputs": [],
   "source": [
    "model_bert = \"bert-base-uncased\"\n",
    "gen_summaries_bert = [summarize_text(text=article, model=model_bert, n_clusters=3) for article in articles]"
   ]
  },
  {
   "cell_type": "code",
   "execution_count": 91,
   "metadata": {},
   "outputs": [],
   "source": [
    "model_roberta = \"roberta-base\"\n",
    "gen_summaries_roberta = [summarize_text(text=article, model=model_roberta, n_clusters=3) for article in articles]"
   ]
  },
  {
   "cell_type": "code",
   "execution_count": 114,
   "metadata": {},
   "outputs": [],
   "source": [
    "model_sbert = \"paraphrase-MiniLM-L6-v2\"\n",
    "gen_summaries_sbert = [summarize_text(text=article, model=model_sbert, n_clusters=3) for article in articles]"
   ]
  },
  {
   "cell_type": "markdown",
   "metadata": {},
   "source": [
    "### Comparar com os Resumos de Referência"
   ]
  },
  {
   "cell_type": "code",
   "execution_count": null,
   "metadata": {},
   "outputs": [],
   "source": [
    "# Função para avaliar a solução usando similaridade entre embeddings\n",
    "def evaluate_summaries(generated_summaries, reference_summaries, embedding_model=\"text-embedding-3-small\"):\n",
    "    similarities = []\n",
    "    \n",
    "    for gen_summary, ref_summary in zip(generated_summaries, reference_summaries):\n",
    "        gen_embedding = get_embedding(gen_summary, embedding_model)\n",
    "        ref_embedding = get_embedding(ref_summary, embedding_model)\n",
    "        \n",
    "        similarity = cosine_similarity(gen_embedding, ref_embedding)\n",
    "        similarities.append(similarity)\n",
    "    \n",
    "    mean_similarity = np.mean(similarities)\n",
    "    return mean_similarity"
   ]
  },
  {
   "cell_type": "code",
   "execution_count": 99,
   "metadata": {},
   "outputs": [
    {
     "name": "stdout",
     "output_type": "stream",
     "text": [
      "Using text-embedding-3-large -- Score: 0.7088255374317931\n"
     ]
    }
   ],
   "source": [
    "score_tel = evaluate_summaries(gen_summaries_tel, ref_summaries)\n",
    "print(f\"Using text-embedding-3-large -- Score: {score_tel}\")"
   ]
  },
  {
   "cell_type": "code",
   "execution_count": 96,
   "metadata": {},
   "outputs": [
    {
     "name": "stdout",
     "output_type": "stream",
     "text": [
      "Using text-embedding-3-small -- Score: 0.676615599976754\n"
     ]
    }
   ],
   "source": [
    "score_tes = evaluate_summaries(gen_summaries_tes, ref_summaries)\n",
    "print(f\"Using text-embedding-3-small -- Score: {score_tes}\")"
   ]
  },
  {
   "cell_type": "code",
   "execution_count": 95,
   "metadata": {},
   "outputs": [
    {
     "name": "stdout",
     "output_type": "stream",
     "text": [
      "Using text-embedding-ada-002 -- Score: 0.6761565650747232\n"
     ]
    }
   ],
   "source": [
    "score_ada = evaluate_summaries(gen_summaries_ada, ref_summaries)\n",
    "print(f\"Using text-embedding-ada-002 -- Score: {score_ada}\")"
   ]
  },
  {
   "cell_type": "code",
   "execution_count": 94,
   "metadata": {},
   "outputs": [
    {
     "name": "stdout",
     "output_type": "stream",
     "text": [
      "Using bert-base-uncased -- Score: 0.6524377890385338\n"
     ]
    }
   ],
   "source": [
    "score_bert = evaluate_summaries(gen_summaries_bert, ref_summaries)\n",
    "print(f\"Using bert-base-uncased -- Score: {score_bert}\")"
   ]
  },
  {
   "cell_type": "code",
   "execution_count": 95,
   "metadata": {},
   "outputs": [
    {
     "name": "stdout",
     "output_type": "stream",
     "text": [
      "Using roberta-base -- Score: 0.6120490668791113\n"
     ]
    }
   ],
   "source": [
    "score_roberta = evaluate_summaries(gen_summaries_roberta, ref_summaries)\n",
    "print(f\"Using roberta-base -- Score: {score_roberta}\")"
   ]
  },
  {
   "cell_type": "code",
   "execution_count": 115,
   "metadata": {},
   "outputs": [
    {
     "name": "stdout",
     "output_type": "stream",
     "text": [
      "Using sentence-transformers -- Score: 0.657800673477157\n"
     ]
    }
   ],
   "source": [
    "score_sbert = evaluate_summaries(gen_summaries_sbert, ref_summaries)\n",
    "print(f\"Using sentence-transformers -- Score: {score_sbert}\")"
   ]
  },
  {
   "cell_type": "markdown",
   "metadata": {},
   "source": [
    "## Vizualização dos Resultados"
   ]
  },
  {
   "cell_type": "code",
   "execution_count": 134,
   "metadata": {},
   "outputs": [],
   "source": [
    "scores = {\n",
    "    \"3-small\": 0.676615599976754,\n",
    "    \"3-large\": 0.7088255374317931,\n",
    "    \"ada-002\": 0.6761565650747232,\n",
    "    \"BERT\": 0.6524377890385338,\n",
    "    \"RoBERTa\": 0.6120490668791113,\n",
    "    \"S-BERT\": 0.657800673477157\n",
    "}"
   ]
  },
  {
   "cell_type": "code",
   "execution_count": 140,
   "metadata": {},
   "outputs": [
    {
     "data": {
      "image/png": "[encoded data removed]",
      "text/plain": [
       "<Figure size 1000x600 with 1 Axes>"
      ]
     },
     "metadata": {},
     "output_type": "display_data"
    }
   ],
   "source": [
    "models = list(scores.keys())\n",
    "values = list(scores.values())\n",
    "\n",
    "# Colors\n",
    "cmap = plt.colormaps['viridis']\n",
    "colors = [cmap(i / len(models)) for i in range(len(models))]\n",
    "\n",
    "# Plot bar chart\n",
    "plt.figure(figsize=(10, 6))\n",
    "bars = plt.bar(models, values, color=colors)\n",
    "\n",
    "plt.xlabel('Modelos', fontsize=14)\n",
    "plt.ylabel('Scores', fontsize=14)\n",
    "plt.title('Scores dos Modelos de Sumarização', fontsize=18)\n",
    "plt.ylim(0, 1)\n",
    "\n",
    "# Add values on top of bars\n",
    "for bar in bars:\n",
    "    yval = bar.get_height()\n",
    "    plt.text(bar.get_x() + bar.get_width()/2 - 0.1, yval + 0.01, round(yval, 3))\n",
    "\n",
    "plt.show()"
   ]
  }
 ],
 "metadata": {
  "kernelspec": {
   "display_name": ".venv",
   "language": "python",
   "name": "python3"
  },
  "language_info": {
   "codemirror_mode": {
    "name": "ipython",
    "version": 3
   },
   "file_extension": ".py",
   "mimetype": "text/x-python",
   "name": "python",
   "nbconvert_exporter": "python",
   "pygments_lexer": "ipython3",
   "version": "3.8.10"
  }
 },
 "nbformat": 4,
 "nbformat_minor": 2
}
