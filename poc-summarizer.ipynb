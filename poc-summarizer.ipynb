{
 "cells": [
  {
   "cell_type": "markdown",
   "metadata": {},
   "source": [
    "# Sumarizador Automático de Texto usando Embeddings \n",
    "A proposta deste trabalho é desenvolver uma Prova de Conceito no intuito de demonstrar um sumarizador automático de texto capaz de gerar resumos extrativos de documentos usando embeddings para capturar a semântica das frases. Para os testes e avaliação, será utilizado o dataset CNN/DailyMail; ele contém artigos de notícias e seus resumos, e é amplamente utilizado para tarefas de sumarização. \n",
    "\n",
    "O pipeline de execução do sumarizador será composto, basicamente, pelas seguintes etapas: \n",
    "1. Pré-processar o texto\n",
    "2. Transformar cada frase do texto em um vetor (embedding); \n",
    "3. Aplicar clusterização nesses embeddings para agrupar frases contextualmente similares; \n",
    "4. Obter as frases mais representativas de cada cluster; \n",
    "5. Compor o resumo extrativo a partir das frases obtidas.\n",
    "\n",
    "Neste trabalho serão usados os modelos de embedding da OpenAI ``text-embedding-3-small``, ``text-embedding-3-large`` e ``text-embedding-ada-002``, sendo necessário acesso a uma chave de API da OpenAI para reproduzir."
   ]
  },
  {
   "cell_type": "markdown",
   "metadata": {},
   "source": [
    "---"
   ]
  },
  {
   "cell_type": "markdown",
   "metadata": {},
   "source": [
    "## Instalação de Dependências"
   ]
  },
  {
   "cell_type": "code",
   "execution_count": 1,
   "metadata": {},
   "outputs": [],
   "source": [
    "# Uncomment to install necessary libraries and packages\n",
    "# ! pip install numpy pandas nltk datasets spacy openai scikit-learn"
   ]
  },
  {
   "cell_type": "code",
   "execution_count": 35,
   "metadata": {},
   "outputs": [],
   "source": [
    "from pymilvus import MilvusClient, DataType, Collection, connections, utility\n",
    "from datasets import load_dataset, load_from_disk\n",
    "from nltk.cluster import KMeansClusterer\n",
    "from sklearn.cluster import KMeans\n",
    "from scipy.spatial import distance_matrix\n",
    "from dotenv import load_dotenv\n",
    "from openai import OpenAI\n",
    "from ast import literal_eval\n",
    "import pandas as pd\n",
    "import numpy as np\n",
    "import nltk\n",
    "import spacy\n",
    "import os\n",
    "import re"
   ]
  },
  {
   "cell_type": "code",
   "execution_count": 2,
   "metadata": {},
   "outputs": [],
   "source": [
    "# Uncomment to download relevant tools if not already downloaded\n",
    "# spacy.cli.download(\"en_core_web_sm\")\n",
    "# nltk.download('punkt')"
   ]
  },
  {
   "cell_type": "markdown",
   "metadata": {},
   "source": [
    "## Conexão com a OpenAI"
   ]
  },
  {
   "cell_type": "code",
   "execution_count": 5,
   "metadata": {},
   "outputs": [],
   "source": [
    "# Load enviroment variables\n",
    "load_dotenv()\n",
    "\n",
    "# Configure client with API key\n",
    "client_openai = OpenAI(\n",
    "    api_key=os.getenv('API_KEY'),\n",
    ")"
   ]
  },
  {
   "cell_type": "markdown",
   "metadata": {},
   "source": [
    "## Preparação dos Dados"
   ]
  },
  {
   "cell_type": "code",
   "execution_count": 6,
   "metadata": {},
   "outputs": [],
   "source": [
    "# Load CNN/DailyMail Dataset\n",
    "dataset = load_dataset('cnn_dailymail', '3.0.0')"
   ]
  },
  {
   "cell_type": "code",
   "execution_count": 7,
   "metadata": {},
   "outputs": [],
   "source": [
    "# Get data that will be used for evaluation\n",
    "train = dataset['train']\n",
    "data= train.select(range(100))"
   ]
  },
  {
   "cell_type": "code",
   "execution_count": 8,
   "metadata": {},
   "outputs": [
    {
     "name": "stdout",
     "output_type": "stream",
     "text": [
      "LONDON, England (Reuters) -- Harry Potter star Daniel Radcliffe gains access to a reported £20 million ($41.1 million) fortune as he turns 18 on Monday, but he insists the money won't cast a spell on him. Daniel Radcliffe as Harry Potter in \"Harry Potter and the Order of the Phoenix\" To the disappointment of gossip columnists around the world, the young actor says he has no plans to fritter his cash away on fast cars, drink and celebrity parties. \"I don't plan to be one of those people who, as soon as they turn 18, suddenly buy themselves a massive sports car collection or something similar,\" he told an Australian interviewer earlier this month. \"I don't think I'll be particularly extravagant. \"The things I like buying are things that cost about 10 pounds -- books and CDs and DVDs.\" At 18, Radcliffe will be able to gamble in a casino, buy a drink in a pub or see the horror film \"Hostel: Part II,\" currently six places below his number one movie on the UK box office chart. Details of how he'll mark his landmark birthday are under wraps. His agent and publicist had no comment on his plans. \"I'll definitely have some sort of party,\" he said in an interview. \"Hopefully none of you will be reading about it.\" Radcliffe's earnings from the first five Potter films have been held in a trust fund which he has not been able to touch. Despite his growing fame and riches, the actor says he is keeping his feet firmly on the ground. \"People are always looking to say 'kid star goes off the rails,'\" he told reporters last month. \"But I try very hard not to go that way because it would be too easy for them.\" His latest outing as the boy wizard in \"Harry Potter and the Order of the Phoenix\" is breaking records on both sides of the Atlantic and he will reprise the role in the last two films.  Watch I-Reporter give her review of Potter's latest » . There is life beyond Potter, however. The Londoner has filmed a TV movie called \"My Boy Jack,\" about author Rudyard Kipling and his son, due for release later this year. He will also appear in \"December Boys,\" an Australian film about four boys who escape an orphanage. Earlier this year, he made his stage debut playing a tortured teenager in Peter Shaffer's \"Equus.\" Meanwhile, he is braced for even closer media scrutiny now that he's legally an adult: \"I just think I'm going to be more sort of fair game,\" he told Reuters. E-mail to a friend . Copyright 2007 Reuters. All rights reserved.This material may not be published, broadcast, rewritten, or redistributed.\n",
      "\n",
      "Harry Potter star Daniel Radcliffe gets £20M fortune as he turns 18 Monday .\n",
      "Young actor says he has no plans to fritter his cash away .\n",
      "Radcliffe's earnings from first five Potter films have been held in trust fund .\n"
     ]
    }
   ],
   "source": [
    "# Content example from dataset\n",
    "print(data[0]['article'])  # Text\n",
    "print()\n",
    "print(data[0]['highlights'])  # Summary"
   ]
  },
  {
   "cell_type": "markdown",
   "metadata": {},
   "source": [
    "## Funções Auxiliares"
   ]
  },
  {
   "cell_type": "code",
   "execution_count": 9,
   "metadata": {},
   "outputs": [],
   "source": [
    "# Function to get embedding from text\n",
    "def get_embedding(text, model):\n",
    "   text = text.replace(\"\\n\", \" \")\n",
    "   return client_openai.embeddings.create(input = [text], model=model).data[0].embedding"
   ]
  },
  {
   "cell_type": "code",
   "execution_count": 10,
   "metadata": {},
   "outputs": [],
   "source": [
    "# Calculate similarity between embeddings\n",
    "def cosine_similarity(vec1, vec2):\n",
    "    return np.dot(vec1, vec2) / (np.linalg.norm(vec1) * np.linalg.norm(vec2))"
   ]
  },
  {
   "cell_type": "code",
   "execution_count": 11,
   "metadata": {},
   "outputs": [],
   "source": [
    "# Split text in sentences\n",
    "def tokenize_sentences(text):\n",
    "    sentences = nltk.sent_tokenize(text)\n",
    "    sentences = [sentence.strip() for sentence in sentences]\n",
    "    return sentences"
   ]
  },
  {
   "cell_type": "code",
   "execution_count": 12,
   "metadata": {},
   "outputs": [],
   "source": [
    "# Assign clusters to embeddings and find their centroids\n",
    "def kmeans_clustering(data, n_clusters, iterations=25):\n",
    "    embeddings = np.array(data[\"embeddings\"].tolist())\n",
    "    kclusterer = KMeansClusterer(\n",
    "            n_clusters, \n",
    "            distance=nltk.cluster.util.cosine_distance,\n",
    "            repeats=iterations, \n",
    "            avoid_empty_clusters=True)\n",
    "    \n",
    "    assigned_clusters = kclusterer.cluster(embeddings, assign_clusters=True)\n",
    "    data['cluster'] = pd.Series(assigned_clusters, index=data.index)\n",
    "    data['centroid'] = data['cluster'].apply(lambda x: kclusterer.means()[x])\n",
    "    return data"
   ]
  },
  {
   "cell_type": "code",
   "execution_count": 13,
   "metadata": {},
   "outputs": [],
   "source": [
    "# Calculate distance of each embedding from its cluster centroid\n",
    "def distance_from_centroid(data):\n",
    "    def euclidean_distance(embedding, centroid):\n",
    "        return np.linalg.norm(np.array(embedding) - np.array(centroid))\n",
    "\n",
    "    # Apply to each row\n",
    "    data['distance_from_centroid'] = data.apply(\n",
    "        lambda row: euclidean_distance(row[\"embeddings\"], row[\"centroid\"]), axis=1)\n",
    "    return data"
   ]
  },
  {
   "cell_type": "markdown",
   "metadata": {},
   "source": [
    "## Implementação"
   ]
  },
  {
   "cell_type": "markdown",
   "metadata": {},
   "source": [
    "### Pré-Processamento do Texto\n",
    "Para obter resultados de melhor qualidade no dataset CNN/DailyMail, foi realizado um pré-processamento de texto nos artigos que iremos utilizar. Isso consistiu de:\n",
    "- Remover frases poluentes no início e fim dos artigos, que geralmente são informações referentes ao canal de notícias de onde o texto foi retirado e sem relação direta com o artigo em si.\n",
    "- Limpar o texto de espaços desnecessários e caracteres especiais soltos.\n",
    "- Remover frases muito curtas, com menos de 3 palavras.\n",
    "\n",
    "Devido ao fato da nossa solução usar embeddings gerados por LLMs treinadas em corpus massivo de dados, e que são capazes de captar as nuances e semântica intrínseca do texto ao invés de pura sintaxe, consideramos desnecessário aplicar técnicas de pré-processamento mais drásticas como remoção de stopwords e stemming, além de que nesse processo parte do significado e contexto poderia ser perdido, o que reduziria o desempenho."
   ]
  },
  {
   "cell_type": "code",
   "execution_count": 82,
   "metadata": {},
   "outputs": [],
   "source": [
    "# Remove sentences at the beginning and end of text that are not useful\n",
    "def remove_polluting_phrases(text):\n",
    "    start_phrase = text.find(\"--\")\n",
    "    if start_phrase != -1:\n",
    "        text = text[start_phrase + 3:]\n",
    "\n",
    "    end_phrase = text.find(\"E-mail to a friend\")\n",
    "    if end_phrase != -1:\n",
    "        text = text[:end_phrase]\n",
    "    \n",
    "    return text"
   ]
  },
  {
   "cell_type": "code",
   "execution_count": 83,
   "metadata": {},
   "outputs": [],
   "source": [
    "# Remove unnecessary spaces and stray special characters\n",
    "def clean_text(text):\n",
    "    text = re.sub(r'\\s+', ' ', text).strip()\n",
    "    text = re.sub(r'\\s+\\.', '.', text).strip()\n",
    "    text = re.sub(r'\\s[^\\w\\s]\\s', ' ', text)\n",
    "    return text"
   ]
  },
  {
   "cell_type": "code",
   "execution_count": 84,
   "metadata": {},
   "outputs": [],
   "source": [
    "# Remove sentences with few words\n",
    "def remove_short_sentences(text, min_length=3):\n",
    "    sentences = tokenize_sentences(text)\n",
    "    filtered_sentences = [sentence.strip() for sentence in sentences if len(sentence.split()) > min_length]\n",
    "    return ' '.join(filtered_sentences)"
   ]
  },
  {
   "cell_type": "code",
   "execution_count": 86,
   "metadata": {},
   "outputs": [],
   "source": [
    "def preprocess_text(text):\n",
    "    text = remove_polluting_phrases(text)\n",
    "    text = remove_short_sentences(text)\n",
    "    text = clean_text(text)\n",
    "    return text"
   ]
  },
  {
   "cell_type": "code",
   "execution_count": 90,
   "metadata": {},
   "outputs": [
    {
     "name": "stdout",
     "output_type": "stream",
     "text": [
      "No Preprocessing:\n",
      "LONDON, England (Reuters) -- Harry Potter star Daniel Radcliffe gains access to a reported £20 million ($41.1 million) fortune as he turns 18 on Monday, but he insists the money won't cast a spell on him. Daniel Radcliffe as Harry Potter in \"Harry Potter and the Order of the Phoenix\" To the disappointment of gossip columnists around the world, the young actor says he has no plans to fritter his cash away on fast cars, drink and celebrity parties. \"I don't plan to be one of those people who, as soon as they turn 18, suddenly buy themselves a massive sports car collection or something similar,\" he told an Australian interviewer earlier this month. \"I don't think I'll be particularly extravagant. \"The things I like buying are things that cost about 10 pounds -- books and CDs and DVDs.\" At 18, Radcliffe will be able to gamble in a casino, buy a drink in a pub or see the horror film \"Hostel: Part II,\" currently six places below his number one movie on the UK box office chart. Details of how he'll mark his landmark birthday are under wraps. His agent and publicist had no comment on his plans. \"I'll definitely have some sort of party,\" he said in an interview. \"Hopefully none of you will be reading about it.\" Radcliffe's earnings from the first five Potter films have been held in a trust fund which he has not been able to touch. Despite his growing fame and riches, the actor says he is keeping his feet firmly on the ground. \"People are always looking to say 'kid star goes off the rails,'\" he told reporters last month. \"But I try very hard not to go that way because it would be too easy for them.\" His latest outing as the boy wizard in \"Harry Potter and the Order of the Phoenix\" is breaking records on both sides of the Atlantic and he will reprise the role in the last two films.  Watch I-Reporter give her review of Potter's latest » . There is life beyond Potter, however. The Londoner has filmed a TV movie called \"My Boy Jack,\" about author Rudyard Kipling and his son, due for release later this year. He will also appear in \"December Boys,\" an Australian film about four boys who escape an orphanage. Earlier this year, he made his stage debut playing a tortured teenager in Peter Shaffer's \"Equus.\" Meanwhile, he is braced for even closer media scrutiny now that he's legally an adult: \"I just think I'm going to be more sort of fair game,\" he told Reuters. E-mail to a friend . Copyright 2007 Reuters. All rights reserved.This material may not be published, broadcast, rewritten, or redistributed.\n",
      "\n",
      "With Preprocessing:\n",
      "Harry Potter star Daniel Radcliffe gains access to a reported £20 million ($41.1 million) fortune as he turns 18 on Monday, but he insists the money won't cast a spell on him. Daniel Radcliffe as Harry Potter in \"Harry Potter and the Order of the Phoenix\" To the disappointment of gossip columnists around the world, the young actor says he has no plans to fritter his cash away on fast cars, drink and celebrity parties. \"I don't plan to be one of those people who, as soon as they turn 18, suddenly buy themselves a massive sports car collection or something similar,\" he told an Australian interviewer earlier this month. \"I don't think I'll be particularly extravagant. \"The things I like buying are things that cost about 10 pounds -- books and CDs and DVDs.\" At 18, Radcliffe will be able to gamble in a casino, buy a drink in a pub or see the horror film \"Hostel: Part II,\" currently six places below his number one movie on the UK box office chart. Details of how he'll mark his landmark birthday are under wraps. His agent and publicist had no comment on his plans. \"I'll definitely have some sort of party,\" he said in an interview. \"Hopefully none of you will be reading about it.\" Radcliffe's earnings from the first five Potter films have been held in a trust fund which he has not been able to touch. Despite his growing fame and riches, the actor says he is keeping his feet firmly on the ground. \"People are always looking to say 'kid star goes off the rails,'\" he told reporters last month. \"But I try very hard not to go that way because it would be too easy for them.\" His latest outing as the boy wizard in \"Harry Potter and the Order of the Phoenix\" is breaking records on both sides of the Atlantic and he will reprise the role in the last two films. Watch I-Reporter give her review of Potter's latest ». There is life beyond Potter, however. The Londoner has filmed a TV movie called \"My Boy Jack,\" about author Rudyard Kipling and his son, due for release later this year. He will also appear in \"December Boys,\" an Australian film about four boys who escape an orphanage. Earlier this year, he made his stage debut playing a tortured teenager in Peter Shaffer's \"Equus.\" Meanwhile, he is braced for even closer media scrutiny now that he's legally an adult: \"I just think I'm going to be more sort of fair game,\" he told Reuters.\n"
     ]
    }
   ],
   "source": [
    "# Sample data for testing\n",
    "text = data[0]['article']\n",
    "print(\"No Preprocessing:\")\n",
    "print(text)\n",
    "print(\"\\nWith Preprocessing:\")\n",
    "print(preprocess_text(text))"
   ]
  },
  {
   "cell_type": "markdown",
   "metadata": {},
   "source": [
    "### Sumarização"
   ]
  },
  {
   "cell_type": "code",
   "execution_count": 96,
   "metadata": {},
   "outputs": [],
   "source": [
    "# Summarize text\n",
    "def summarize_text(text, model, n_clusters, output_as_list=False):\n",
    "    # Preprocess text\n",
    "    text = preprocess_text(text)\n",
    "\n",
    "    # Create a dataframe with the text sentences\n",
    "    sentences = tokenize_sentences(text)\n",
    "    df_sentences = pd.DataFrame({\"sentences\" : sentences})\n",
    "\n",
    "    # Transform sentences into embeddings using an NLP model\n",
    "    df_sentences['embeddings'] = df_sentences['sentences'].apply(lambda x: get_embedding(x, model))\n",
    "\n",
    "    # Cluster sentence embeddings with KMeans\n",
    "    df_sentences = kmeans_clustering(df_sentences, n_clusters)\n",
    "\n",
    "    # Find distance of each embedding to its cluster's centroid\n",
    "    df_sentences = distance_from_centroid(df_sentences)\n",
    "\n",
    "    # Compose summary with each cluster's most meaninful sentence - embedding with the least distance to centroid\n",
    "    summary = df_sentences.sort_values('distance_from_centroid', ascending = True) \\\n",
    "                            .groupby('cluster').head(1) \\\n",
    "                            .sort_index()['sentences'] \\\n",
    "                            .tolist()\n",
    "    if output_as_list: \n",
    "        return summary\n",
    "    else:\n",
    "        # Format summary as a string\n",
    "        summary_str = ' '.join(summary)\n",
    "        return summary_str"
   ]
  },
  {
   "cell_type": "code",
   "execution_count": 97,
   "metadata": {},
   "outputs": [
    {
     "name": "stdout",
     "output_type": "stream",
     "text": [
      "Reference Summary:\n",
      "Harry Potter star Daniel Radcliffe gets £20M fortune as he turns 18 Monday .\n",
      "Young actor says he has no plans to fritter his cash away .\n",
      "Radcliffe's earnings from first five Potter films have been held in trust fund .\n",
      "\n",
      "Generated Summary:\n",
      "Daniel Radcliffe as Harry Potter in \"Harry Potter and the Order of the Phoenix\" To the disappointment of gossip columnists around the world, the young actor says he has no plans to fritter his cash away on fast cars, drink and celebrity parties.\n",
      "\"I don't plan to be one of those people who, as soon as they turn 18, suddenly buy themselves a massive sports car collection or something similar,\" he told an Australian interviewer earlier this month.\n",
      "\"People are always looking to say 'kid star goes off the rails,'\" he told reporters last month.\n"
     ]
    }
   ],
   "source": [
    "# Sample data for testing\n",
    "text = data[0]['article']\n",
    "model = \"text-embedding-3-large\"\n",
    "summary = summarize_text(text, model, 3, True)\n",
    "\n",
    "print(\"Reference Summary:\")\n",
    "print(data[0]['highlights'])\n",
    "\n",
    "print(\"\\nGenerated Summary:\")\n",
    "for sentence in summary:\n",
    "    print(sentence)"
   ]
  },
  {
   "cell_type": "markdown",
   "metadata": {},
   "source": [
    "## Avaliação da Solução\n",
    "Para tentar evitar o problema de tentar avaliar essa solução com uma métrica ROUGE, visto que os resumos de referência ('highlights') não foram criados da mesma forma que os nossos, que são resumos extrativos, tentamos uma abordagem diferente. Optamos por utilizar os próprios embeddings para avaliação: a ideia foi usar a similaridade entre o embeddings do resumo gerado e do resumo de referência como score de avaliação. Desde que o mesmo modelo de embedding seja utilizado para todos os resumos, a similaridade (ou distância de cosseno) entre eles é uma comparação válida.\n",
    "\n",
    "Essa é uma forma de avaliação parecida com o que foi usado no ROUGE-WE, discutido no artigo \"Better Summarization Evaluation with Word Embeddings for ROUGE\", de Jun-Ping Ng e Viktoria Abrech. O ROUGE-WE é uma métrica baseada no ROUGE, mas que usa de embeddings de palavras de forma a aliviar a perda de score que se teria devido a parafraseamento do texto. Neste trabalho, no entanto, usaremos embeddings de texto completo.\n",
    "\n",
    "Assim, vamos avaliar a solução conforme a média dos scores de similaridade usando os 50 primeiros artigos do dataset de treinamento do CNN/DailyMail. Vamos comparar os resultados usando 3 modelos de embeddings diferentes para sumarização do texto: o text-embedding-3-small, text-embedding-3-large, e text-embedding-ada-002. Para a avaliação em si, será usado apenas o text-embedding-3-small para manter a consistência e justiça da avaliação."
   ]
  },
  {
   "cell_type": "code",
   "execution_count": null,
   "metadata": {},
   "outputs": [],
   "source": []
  }
 ],
 "metadata": {
  "kernelspec": {
   "display_name": ".venv",
   "language": "python",
   "name": "python3"
  },
  "language_info": {
   "codemirror_mode": {
    "name": "ipython",
    "version": 3
   },
   "file_extension": ".py",
   "mimetype": "text/x-python",
   "name": "python",
   "nbconvert_exporter": "python",
   "pygments_lexer": "ipython3",
   "version": "3.8.10"
  }
 },
 "nbformat": 4,
 "nbformat_minor": 2
}
