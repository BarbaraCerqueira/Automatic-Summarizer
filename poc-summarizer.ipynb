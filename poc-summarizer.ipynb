{
 "cells": [
  {
   "cell_type": "markdown",
   "metadata": {},
   "source": [
    "# Sumarizador Automático de Texto usando Embeddings \n",
    "A proposta deste trabalho é desenvolver uma Prova de Conceito no intuito de demonstrar um sumarizador automático de texto capaz de gerar resumos extrativos de documentos usando embeddings para capturar a semântica das frases. Para os testes e avaliação, será utilizado o dataset CNN/DailyMail; ele contém artigos de notícias e seus resumos, e é amplamente utilizado para tarefas de sumarização. \n",
    "\n",
    "O pipeline de execução do sumarizador será composto, basicamente, pelas seguintes etapas: \n",
    "1. Transformar cada frase do texto em um vetor (embedding); \n",
    "2. Aplicar clusterização nesses embeddings para agrupar frases contextualmente similares; \n",
    "3. Obter as frases mais representativas de cada cluster; \n",
    "4. Compor o resumo extrativo a partir das frases obtidas.\n",
    "\n",
    "Neste projeto serão usados o banco de dados vetorial ``Milvus Standalone`` e o modelo de embedding ``text-embedding-3-large`` da OpenAI.\n",
    "\n",
    "```Observações:```\n",
    "\n",
    "A princípio, a ideia era realizar a busca por similaridade usando o Milvus, que é capaz de buscar embeddings em larga escala. No entanto, o Milvus opera em disco, e considerando que a quantidade de dados no caso deste trabalho em específico é pequena, não havia necessidade de usar um banco de dados vetorial, sendo mais eficiente e prático fazer o processamento completo em memória. Ainda assim, já que o Milvus já estava configurado, decidimos usá-lo apenas para armazenar os embeddings das sentenças dos 100 primeiros textos do dataset de treinamento do CNN/DailyMail, os quais serão usados para avaliação, de forma a evitar ter que refazer chamadas à API ao longo dos testes e incorrer em custos e processamento extras desnecessários.\n",
    "\n",
    "\n",
    "```Instruções de Uso:```\n",
    "\n",
    "- Para rodar o notebook, é necessário ter um servidor do Milvus rodando na máquina local. Para isso, é necessário ter o Docker instalado e em execução, e rodar os seguintes comandos no terminal:\n",
    "    1. Baixar os arquivos do Milvus:\n",
    "        ```sh\n",
    "        wget https://raw.githubusercontent.com/milvus-io/milvus/master/scripts/standalone_embed.sh\n",
    "        ```\n",
    "    2. Iniciar o Milvus\n",
    "        ```sh\n",
    "        bash standalone_embed.sh start\n",
    "        ```\n",
    " - Para parar o Milvus após o uso, usar: \n",
    "    ```sh\n",
    "    bash standalone_embed.sh stop\n",
    "    ```\n",
    "- Para deletar os dados do Milvus:\n",
    "    ```sh\n",
    "    bash standalone_embed.sh delete\n",
    "    ```\n",
    " - No caso de sistema operacional Windows, é necessário usar o WSL2."
   ]
  },
  {
   "cell_type": "markdown",
   "metadata": {},
   "source": [
    "---"
   ]
  },
  {
   "cell_type": "markdown",
   "metadata": {},
   "source": [
    "## Instalação de Dependências"
   ]
  },
  {
   "cell_type": "code",
   "execution_count": 78,
   "metadata": {},
   "outputs": [
    {
     "name": "stdout",
     "output_type": "stream",
     "text": [
      "/bin/pip:6: DeprecationWarning: pkg_resources is deprecated as an API. See https://setuptools.pypa.io/en/latest/pkg_resources.html\n",
      "  from pkg_resources import load_entry_point\n",
      "Requirement already satisfied: pymilvus==2.4.1 in /home/barbara/.local/lib/python3.8/site-packages (2.4.1)\n",
      "Requirement already satisfied: numpy in /home/barbara/.local/lib/python3.8/site-packages (1.24.4)\n",
      "Requirement already satisfied: pandas in /home/barbara/.local/lib/python3.8/site-packages (2.0.3)\n",
      "Requirement already satisfied: nltk in /home/barbara/.local/lib/python3.8/site-packages (3.8.1)\n",
      "Requirement already satisfied: datasets in /home/barbara/.local/lib/python3.8/site-packages (2.20.0)\n",
      "Requirement already satisfied: spacy in /home/barbara/.local/lib/python3.8/site-packages (3.7.5)\n",
      "Requirement already satisfied: openai in /home/barbara/.local/lib/python3.8/site-packages (1.35.14)\n",
      "Collecting scikit-learn\n",
      "  Using cached scikit_learn-1.3.2-cp38-cp38-manylinux_2_17_x86_64.manylinux2014_x86_64.whl (11.1 MB)\n",
      "Requirement already satisfied: setuptools>=67 in /home/barbara/.local/lib/python3.8/site-packages (from pymilvus==2.4.1) (70.3.0)\n",
      "Requirement already satisfied: grpcio<=1.60.0,>=1.49.1 in /home/barbara/.local/lib/python3.8/site-packages (from pymilvus==2.4.1) (1.60.0)\n",
      "Requirement already satisfied: protobuf>=3.20.0 in /home/barbara/.local/lib/python3.8/site-packages (from pymilvus==2.4.1) (5.27.2)\n",
      "Requirement already satisfied: environs<=9.5.0 in /home/barbara/.local/lib/python3.8/site-packages (from pymilvus==2.4.1) (9.5.0)\n",
      "Requirement already satisfied: ujson>=2.0.0 in /home/barbara/.local/lib/python3.8/site-packages (from pymilvus==2.4.1) (5.10.0)\n",
      "Requirement already satisfied: requests in /home/barbara/.local/lib/python3.8/site-packages (from pymilvus==2.4.1) (2.32.3)\n",
      "Requirement already satisfied: minio>=7.0.0 in /home/barbara/.local/lib/python3.8/site-packages (from pymilvus==2.4.1) (7.2.7)\n",
      "Requirement already satisfied: pyarrow>=12.0.0 in /home/barbara/.local/lib/python3.8/site-packages (from pymilvus==2.4.1) (16.1.0)\n",
      "Requirement already satisfied: azure-storage-blob in /home/barbara/.local/lib/python3.8/site-packages (from pymilvus==2.4.1) (12.20.0)\n",
      "Requirement already satisfied: scipy in /home/barbara/.local/lib/python3.8/site-packages (from pymilvus==2.4.1) (1.10.1)\n",
      "Requirement already satisfied: python-dateutil>=2.8.2 in /home/barbara/.local/lib/python3.8/site-packages (from pandas) (2.8.2)\n",
      "Requirement already satisfied: pytz>=2020.1 in /home/barbara/.local/lib/python3.8/site-packages (from pandas) (2023.3.post1)\n",
      "Requirement already satisfied: tzdata>=2022.1 in /home/barbara/.local/lib/python3.8/site-packages (from pandas) (2023.3)\n",
      "Requirement already satisfied: click in /home/barbara/.local/lib/python3.8/site-packages (from nltk) (8.1.7)\n",
      "Requirement already satisfied: joblib in /home/barbara/.local/lib/python3.8/site-packages (from nltk) (1.4.2)\n",
      "Requirement already satisfied: regex>=2021.8.3 in /home/barbara/.local/lib/python3.8/site-packages (from nltk) (2024.5.15)\n",
      "Requirement already satisfied: tqdm in /home/barbara/.local/lib/python3.8/site-packages (from nltk) (4.66.4)\n",
      "Requirement already satisfied: filelock in /home/barbara/.local/lib/python3.8/site-packages (from datasets) (3.15.4)\n",
      "Requirement already satisfied: pyarrow-hotfix in /home/barbara/.local/lib/python3.8/site-packages (from datasets) (0.6)\n",
      "Requirement already satisfied: dill<0.3.9,>=0.3.0 in /home/barbara/.local/lib/python3.8/site-packages (from datasets) (0.3.7)\n",
      "Requirement already satisfied: xxhash in /home/barbara/.local/lib/python3.8/site-packages (from datasets) (3.4.1)\n",
      "Requirement already satisfied: multiprocess in /home/barbara/.local/lib/python3.8/site-packages (from datasets) (0.70.16)\n",
      "Requirement already satisfied: fsspec[http]<=2024.5.0,>=2023.1.0 in /home/barbara/.local/lib/python3.8/site-packages (from datasets) (2024.5.0)\n",
      "Requirement already satisfied: aiohttp in /home/barbara/.local/lib/python3.8/site-packages (from datasets) (3.9.5)\n",
      "Requirement already satisfied: huggingface-hub>=0.21.2 in /home/barbara/.local/lib/python3.8/site-packages (from datasets) (0.23.5)\n",
      "Requirement already satisfied: packaging in /home/barbara/.local/lib/python3.8/site-packages (from datasets) (23.1)\n",
      "Requirement already satisfied: pyyaml>=5.1 in /usr/lib/python3/dist-packages (from datasets) (5.3.1)\n",
      "Requirement already satisfied: spacy-legacy<3.1.0,>=3.0.11 in /home/barbara/.local/lib/python3.8/site-packages (from spacy) (3.0.12)\n",
      "Requirement already satisfied: spacy-loggers<2.0.0,>=1.0.0 in /home/barbara/.local/lib/python3.8/site-packages (from spacy) (1.0.5)\n",
      "Requirement already satisfied: murmurhash<1.1.0,>=0.28.0 in /home/barbara/.local/lib/python3.8/site-packages (from spacy) (1.0.10)\n",
      "Requirement already satisfied: cymem<2.1.0,>=2.0.2 in /home/barbara/.local/lib/python3.8/site-packages (from spacy) (2.0.8)\n",
      "Requirement already satisfied: preshed<3.1.0,>=3.0.2 in /home/barbara/.local/lib/python3.8/site-packages (from spacy) (3.0.9)\n",
      "Requirement already satisfied: thinc<8.3.0,>=8.2.2 in /home/barbara/.local/lib/python3.8/site-packages (from spacy) (8.2.5)\n",
      "Requirement already satisfied: wasabi<1.2.0,>=0.9.1 in /home/barbara/.local/lib/python3.8/site-packages (from spacy) (1.1.3)\n",
      "Requirement already satisfied: srsly<3.0.0,>=2.4.3 in /home/barbara/.local/lib/python3.8/site-packages (from spacy) (2.4.8)\n",
      "Requirement already satisfied: catalogue<2.1.0,>=2.0.6 in /home/barbara/.local/lib/python3.8/site-packages (from spacy) (2.0.10)\n",
      "Requirement already satisfied: weasel<0.5.0,>=0.1.0 in /home/barbara/.local/lib/python3.8/site-packages (from spacy) (0.4.1)\n",
      "Requirement already satisfied: typer<1.0.0,>=0.3.0 in /home/barbara/.local/lib/python3.8/site-packages (from spacy) (0.12.3)\n",
      "Requirement already satisfied: pydantic!=1.8,!=1.8.1,<3.0.0,>=1.7.4 in /home/barbara/.local/lib/python3.8/site-packages (from spacy) (2.8.2)\n",
      "Requirement already satisfied: jinja2 in /home/barbara/.local/lib/python3.8/site-packages (from spacy) (3.1.4)\n",
      "Requirement already satisfied: langcodes<4.0.0,>=3.2.0 in /home/barbara/.local/lib/python3.8/site-packages (from spacy) (3.4.0)\n",
      "Requirement already satisfied: anyio<5,>=3.5.0 in /home/barbara/.local/lib/python3.8/site-packages (from openai) (4.4.0)\n",
      "Requirement already satisfied: distro<2,>=1.7.0 in /home/barbara/.local/lib/python3.8/site-packages (from openai) (1.9.0)\n",
      "Requirement already satisfied: httpx<1,>=0.23.0 in /home/barbara/.local/lib/python3.8/site-packages (from openai) (0.27.0)\n",
      "Requirement already satisfied: sniffio in /home/barbara/.local/lib/python3.8/site-packages (from openai) (1.3.1)\n",
      "Requirement already satisfied: typing-extensions<5,>=4.7 in /home/barbara/.local/lib/python3.8/site-packages (from openai) (4.8.0)\n",
      "Collecting threadpoolctl>=2.0.0\n",
      "  Using cached threadpoolctl-3.5.0-py3-none-any.whl (18 kB)\n",
      "Requirement already satisfied: marshmallow>=3.0.0 in /home/barbara/.local/lib/python3.8/site-packages (from environs<=9.5.0->pymilvus==2.4.1) (3.21.3)\n",
      "Requirement already satisfied: python-dotenv in /home/barbara/.local/lib/python3.8/site-packages (from environs<=9.5.0->pymilvus==2.4.1) (1.0.1)\n",
      "Requirement already satisfied: charset-normalizer<4,>=2 in /home/barbara/.local/lib/python3.8/site-packages (from requests->pymilvus==2.4.1) (3.3.2)\n",
      "Requirement already satisfied: idna<4,>=2.5 in /usr/lib/python3/dist-packages (from requests->pymilvus==2.4.1) (2.8)\n",
      "Requirement already satisfied: urllib3<3,>=1.21.1 in /usr/lib/python3/dist-packages (from requests->pymilvus==2.4.1) (1.25.8)\n",
      "Requirement already satisfied: certifi>=2017.4.17 in /usr/lib/python3/dist-packages (from requests->pymilvus==2.4.1) (2019.11.28)\n",
      "Requirement already satisfied: argon2-cffi in /home/barbara/.local/lib/python3.8/site-packages (from minio>=7.0.0->pymilvus==2.4.1) (23.1.0)\n",
      "Requirement already satisfied: pycryptodome in /home/barbara/.local/lib/python3.8/site-packages (from minio>=7.0.0->pymilvus==2.4.1) (3.20.0)\n",
      "Requirement already satisfied: azure-core>=1.28.0 in /home/barbara/.local/lib/python3.8/site-packages (from azure-storage-blob->pymilvus==2.4.1) (1.30.2)\n",
      "Requirement already satisfied: cryptography>=2.1.4 in /usr/lib/python3/dist-packages (from azure-storage-blob->pymilvus==2.4.1) (2.8)\n",
      "Requirement already satisfied: isodate>=0.6.1 in /home/barbara/.local/lib/python3.8/site-packages (from azure-storage-blob->pymilvus==2.4.1) (0.6.1)\n",
      "Requirement already satisfied: six>=1.5 in /usr/lib/python3/dist-packages (from python-dateutil>=2.8.2->pandas) (1.14.0)\n",
      "Requirement already satisfied: aiosignal>=1.1.2 in /home/barbara/.local/lib/python3.8/site-packages (from aiohttp->datasets) (1.3.1)\n",
      "Requirement already satisfied: attrs>=17.3.0 in /home/barbara/.local/lib/python3.8/site-packages (from aiohttp->datasets) (23.2.0)\n",
      "Requirement already satisfied: frozenlist>=1.1.1 in /home/barbara/.local/lib/python3.8/site-packages (from aiohttp->datasets) (1.4.1)\n",
      "Requirement already satisfied: multidict<7.0,>=4.5 in /home/barbara/.local/lib/python3.8/site-packages (from aiohttp->datasets) (6.0.5)\n",
      "Requirement already satisfied: yarl<2.0,>=1.0 in /home/barbara/.local/lib/python3.8/site-packages (from aiohttp->datasets) (1.9.4)\n",
      "Requirement already satisfied: async-timeout<5.0,>=4.0; python_version < \"3.11\" in /home/barbara/.local/lib/python3.8/site-packages (from aiohttp->datasets) (4.0.3)\n",
      "Requirement already satisfied: blis<0.8.0,>=0.7.8 in /home/barbara/.local/lib/python3.8/site-packages (from thinc<8.3.0,>=8.2.2->spacy) (0.7.11)\n",
      "Requirement already satisfied: confection<1.0.0,>=0.0.1 in /home/barbara/.local/lib/python3.8/site-packages (from thinc<8.3.0,>=8.2.2->spacy) (0.1.5)\n",
      "Requirement already satisfied: cloudpathlib<1.0.0,>=0.7.0 in /home/barbara/.local/lib/python3.8/site-packages (from weasel<0.5.0,>=0.1.0->spacy) (0.18.1)\n",
      "Requirement already satisfied: smart-open<8.0.0,>=5.2.1 in /home/barbara/.local/lib/python3.8/site-packages (from weasel<0.5.0,>=0.1.0->spacy) (7.0.4)\n",
      "Requirement already satisfied: shellingham>=1.3.0 in /home/barbara/.local/lib/python3.8/site-packages (from typer<1.0.0,>=0.3.0->spacy) (1.5.4)\n",
      "Requirement already satisfied: rich>=10.11.0 in /home/barbara/.local/lib/python3.8/site-packages (from typer<1.0.0,>=0.3.0->spacy) (13.7.1)\n",
      "Requirement already satisfied: annotated-types>=0.4.0 in /home/barbara/.local/lib/python3.8/site-packages (from pydantic!=1.8,!=1.8.1,<3.0.0,>=1.7.4->spacy) (0.7.0)\n",
      "Requirement already satisfied: pydantic-core==2.20.1 in /home/barbara/.local/lib/python3.8/site-packages (from pydantic!=1.8,!=1.8.1,<3.0.0,>=1.7.4->spacy) (2.20.1)\n",
      "Requirement already satisfied: MarkupSafe>=2.0 in /home/barbara/.local/lib/python3.8/site-packages (from jinja2->spacy) (2.1.5)\n",
      "Requirement already satisfied: language-data>=1.2 in /home/barbara/.local/lib/python3.8/site-packages (from langcodes<4.0.0,>=3.2.0->spacy) (1.2.0)\n",
      "Requirement already satisfied: exceptiongroup>=1.0.2; python_version < \"3.11\" in /home/barbara/.local/lib/python3.8/site-packages (from anyio<5,>=3.5.0->openai) (1.2.2)\n",
      "Requirement already satisfied: httpcore==1.* in /home/barbara/.local/lib/python3.8/site-packages (from httpx<1,>=0.23.0->openai) (1.0.5)\n",
      "Requirement already satisfied: argon2-cffi-bindings in /home/barbara/.local/lib/python3.8/site-packages (from argon2-cffi->minio>=7.0.0->pymilvus==2.4.1) (21.2.0)\n",
      "Requirement already satisfied: wrapt in /home/barbara/.local/lib/python3.8/site-packages (from smart-open<8.0.0,>=5.2.1->weasel<0.5.0,>=0.1.0->spacy) (1.16.0)\n",
      "Requirement already satisfied: markdown-it-py>=2.2.0 in /home/barbara/.local/lib/python3.8/site-packages (from rich>=10.11.0->typer<1.0.0,>=0.3.0->spacy) (3.0.0)\n",
      "Requirement already satisfied: pygments<3.0.0,>=2.13.0 in /home/barbara/.local/lib/python3.8/site-packages (from rich>=10.11.0->typer<1.0.0,>=0.3.0->spacy) (2.16.1)\n",
      "Requirement already satisfied: marisa-trie>=0.7.7 in /home/barbara/.local/lib/python3.8/site-packages (from language-data>=1.2->langcodes<4.0.0,>=3.2.0->spacy) (1.2.0)\n",
      "Requirement already satisfied: h11<0.15,>=0.13 in /home/barbara/.local/lib/python3.8/site-packages (from httpcore==1.*->httpx<1,>=0.23.0->openai) (0.14.0)\n",
      "Requirement already satisfied: cffi>=1.0.1 in /home/barbara/.local/lib/python3.8/site-packages (from argon2-cffi-bindings->argon2-cffi->minio>=7.0.0->pymilvus==2.4.1) (1.16.0)\n",
      "Requirement already satisfied: mdurl~=0.1 in /home/barbara/.local/lib/python3.8/site-packages (from markdown-it-py>=2.2.0->rich>=10.11.0->typer<1.0.0,>=0.3.0->spacy) (0.1.2)\n",
      "Requirement already satisfied: pycparser in /home/barbara/.local/lib/python3.8/site-packages (from cffi>=1.0.1->argon2-cffi-bindings->argon2-cffi->minio>=7.0.0->pymilvus==2.4.1) (2.22)\n",
      "Installing collected packages: threadpoolctl, scikit-learn\n",
      "Successfully installed scikit-learn-1.3.2 threadpoolctl-3.5.0\n"
     ]
    }
   ],
   "source": [
    "# Uncomment to install necessary libraries and packages\n",
    "# ! pip install pymilvus==2.4.1 numpy pandas nltk datasets spacy openai scikit-learn"
   ]
  },
  {
   "cell_type": "code",
   "execution_count": 91,
   "metadata": {},
   "outputs": [],
   "source": [
    "from pymilvus import MilvusClient, DataType, Collection, connections, utility\n",
    "from datasets import load_dataset, load_from_disk\n",
    "from nltk.cluster import KMeansClusterer\n",
    "from sklearn.cluster import KMeans\n",
    "from scipy.spatial import distance_matrix\n",
    "from dotenv import load_dotenv\n",
    "from openai import OpenAI\n",
    "from ast import literal_eval\n",
    "import pandas as pd\n",
    "import numpy as np\n",
    "import nltk\n",
    "import spacy\n",
    "import os"
   ]
  },
  {
   "cell_type": "code",
   "execution_count": 4,
   "metadata": {},
   "outputs": [
    {
     "name": "stdout",
     "output_type": "stream",
     "text": [
      "Defaulting to user installation because normal site-packages is not writeable\n",
      "Collecting en-core-web-sm==3.7.1\n",
      "  Downloading https://github.com/explosion/spacy-models/releases/download/en_core_web_sm-3.7.1/en_core_web_sm-3.7.1-py3-none-any.whl (12.8 MB)\n",
      "\u001b[2K     \u001b[90m━━━━━━━━━━━━━━━━━━━━━━━━━━━━━━━━━━━━━━━━\u001b[0m \u001b[32m12.8/12.8 MB\u001b[0m \u001b[31m39.0 MB/s\u001b[0m eta \u001b[36m0:00:00\u001b[0m00:01\u001b[0m00:01\u001b[0m\n",
      "\u001b[?25hRequirement already satisfied: spacy<3.8.0,>=3.7.2 in /home/barbara/.local/lib/python3.8/site-packages (from en-core-web-sm==3.7.1) (3.7.5)\n",
      "Requirement already satisfied: spacy-legacy<3.1.0,>=3.0.11 in /home/barbara/.local/lib/python3.8/site-packages (from spacy<3.8.0,>=3.7.2->en-core-web-sm==3.7.1) (3.0.12)\n",
      "Requirement already satisfied: spacy-loggers<2.0.0,>=1.0.0 in /home/barbara/.local/lib/python3.8/site-packages (from spacy<3.8.0,>=3.7.2->en-core-web-sm==3.7.1) (1.0.5)\n",
      "Requirement already satisfied: murmurhash<1.1.0,>=0.28.0 in /home/barbara/.local/lib/python3.8/site-packages (from spacy<3.8.0,>=3.7.2->en-core-web-sm==3.7.1) (1.0.10)\n",
      "Requirement already satisfied: cymem<2.1.0,>=2.0.2 in /home/barbara/.local/lib/python3.8/site-packages (from spacy<3.8.0,>=3.7.2->en-core-web-sm==3.7.1) (2.0.8)\n",
      "Requirement already satisfied: preshed<3.1.0,>=3.0.2 in /home/barbara/.local/lib/python3.8/site-packages (from spacy<3.8.0,>=3.7.2->en-core-web-sm==3.7.1) (3.0.9)\n",
      "Requirement already satisfied: thinc<8.3.0,>=8.2.2 in /home/barbara/.local/lib/python3.8/site-packages (from spacy<3.8.0,>=3.7.2->en-core-web-sm==3.7.1) (8.2.5)\n",
      "Requirement already satisfied: wasabi<1.2.0,>=0.9.1 in /home/barbara/.local/lib/python3.8/site-packages (from spacy<3.8.0,>=3.7.2->en-core-web-sm==3.7.1) (1.1.3)\n",
      "Requirement already satisfied: srsly<3.0.0,>=2.4.3 in /home/barbara/.local/lib/python3.8/site-packages (from spacy<3.8.0,>=3.7.2->en-core-web-sm==3.7.1) (2.4.8)\n",
      "Requirement already satisfied: catalogue<2.1.0,>=2.0.6 in /home/barbara/.local/lib/python3.8/site-packages (from spacy<3.8.0,>=3.7.2->en-core-web-sm==3.7.1) (2.0.10)\n",
      "Requirement already satisfied: weasel<0.5.0,>=0.1.0 in /home/barbara/.local/lib/python3.8/site-packages (from spacy<3.8.0,>=3.7.2->en-core-web-sm==3.7.1) (0.4.1)\n",
      "Requirement already satisfied: typer<1.0.0,>=0.3.0 in /home/barbara/.local/lib/python3.8/site-packages (from spacy<3.8.0,>=3.7.2->en-core-web-sm==3.7.1) (0.12.3)\n",
      "Requirement already satisfied: tqdm<5.0.0,>=4.38.0 in /home/barbara/.local/lib/python3.8/site-packages (from spacy<3.8.0,>=3.7.2->en-core-web-sm==3.7.1) (4.66.4)\n",
      "Requirement already satisfied: requests<3.0.0,>=2.13.0 in /usr/lib/python3/dist-packages (from spacy<3.8.0,>=3.7.2->en-core-web-sm==3.7.1) (2.22.0)\n",
      "Requirement already satisfied: pydantic!=1.8,!=1.8.1,<3.0.0,>=1.7.4 in /home/barbara/.local/lib/python3.8/site-packages (from spacy<3.8.0,>=3.7.2->en-core-web-sm==3.7.1) (2.8.2)\n",
      "Requirement already satisfied: jinja2 in /usr/lib/python3/dist-packages (from spacy<3.8.0,>=3.7.2->en-core-web-sm==3.7.1) (2.10.1)\n",
      "Requirement already satisfied: setuptools in /home/barbara/.local/lib/python3.8/site-packages (from spacy<3.8.0,>=3.7.2->en-core-web-sm==3.7.1) (70.3.0)\n",
      "Requirement already satisfied: packaging>=20.0 in /home/barbara/.local/lib/python3.8/site-packages (from spacy<3.8.0,>=3.7.2->en-core-web-sm==3.7.1) (23.1)\n",
      "Requirement already satisfied: langcodes<4.0.0,>=3.2.0 in /home/barbara/.local/lib/python3.8/site-packages (from spacy<3.8.0,>=3.7.2->en-core-web-sm==3.7.1) (3.4.0)\n",
      "Requirement already satisfied: numpy>=1.15.0 in /home/barbara/.local/lib/python3.8/site-packages (from spacy<3.8.0,>=3.7.2->en-core-web-sm==3.7.1) (1.24.4)\n",
      "Requirement already satisfied: language-data>=1.2 in /home/barbara/.local/lib/python3.8/site-packages (from langcodes<4.0.0,>=3.2.0->spacy<3.8.0,>=3.7.2->en-core-web-sm==3.7.1) (1.2.0)\n",
      "Requirement already satisfied: annotated-types>=0.4.0 in /home/barbara/.local/lib/python3.8/site-packages (from pydantic!=1.8,!=1.8.1,<3.0.0,>=1.7.4->spacy<3.8.0,>=3.7.2->en-core-web-sm==3.7.1) (0.7.0)\n",
      "Requirement already satisfied: pydantic-core==2.20.1 in /home/barbara/.local/lib/python3.8/site-packages (from pydantic!=1.8,!=1.8.1,<3.0.0,>=1.7.4->spacy<3.8.0,>=3.7.2->en-core-web-sm==3.7.1) (2.20.1)\n",
      "Requirement already satisfied: typing-extensions>=4.6.1 in /home/barbara/.local/lib/python3.8/site-packages (from pydantic!=1.8,!=1.8.1,<3.0.0,>=1.7.4->spacy<3.8.0,>=3.7.2->en-core-web-sm==3.7.1) (4.8.0)\n",
      "Requirement already satisfied: blis<0.8.0,>=0.7.8 in /home/barbara/.local/lib/python3.8/site-packages (from thinc<8.3.0,>=8.2.2->spacy<3.8.0,>=3.7.2->en-core-web-sm==3.7.1) (0.7.11)\n",
      "Requirement already satisfied: confection<1.0.0,>=0.0.1 in /home/barbara/.local/lib/python3.8/site-packages (from thinc<8.3.0,>=8.2.2->spacy<3.8.0,>=3.7.2->en-core-web-sm==3.7.1) (0.1.5)\n",
      "Requirement already satisfied: click>=8.0.0 in /home/barbara/.local/lib/python3.8/site-packages (from typer<1.0.0,>=0.3.0->spacy<3.8.0,>=3.7.2->en-core-web-sm==3.7.1) (8.1.7)\n",
      "Requirement already satisfied: shellingham>=1.3.0 in /home/barbara/.local/lib/python3.8/site-packages (from typer<1.0.0,>=0.3.0->spacy<3.8.0,>=3.7.2->en-core-web-sm==3.7.1) (1.5.4)\n",
      "Requirement already satisfied: rich>=10.11.0 in /home/barbara/.local/lib/python3.8/site-packages (from typer<1.0.0,>=0.3.0->spacy<3.8.0,>=3.7.2->en-core-web-sm==3.7.1) (13.7.1)\n",
      "Requirement already satisfied: cloudpathlib<1.0.0,>=0.7.0 in /home/barbara/.local/lib/python3.8/site-packages (from weasel<0.5.0,>=0.1.0->spacy<3.8.0,>=3.7.2->en-core-web-sm==3.7.1) (0.18.1)\n",
      "Requirement already satisfied: smart-open<8.0.0,>=5.2.1 in /home/barbara/.local/lib/python3.8/site-packages (from weasel<0.5.0,>=0.1.0->spacy<3.8.0,>=3.7.2->en-core-web-sm==3.7.1) (7.0.4)\n",
      "Requirement already satisfied: marisa-trie>=0.7.7 in /home/barbara/.local/lib/python3.8/site-packages (from language-data>=1.2->langcodes<4.0.0,>=3.2.0->spacy<3.8.0,>=3.7.2->en-core-web-sm==3.7.1) (1.2.0)\n",
      "Requirement already satisfied: markdown-it-py>=2.2.0 in /home/barbara/.local/lib/python3.8/site-packages (from rich>=10.11.0->typer<1.0.0,>=0.3.0->spacy<3.8.0,>=3.7.2->en-core-web-sm==3.7.1) (3.0.0)\n",
      "Requirement already satisfied: pygments<3.0.0,>=2.13.0 in /home/barbara/.local/lib/python3.8/site-packages (from rich>=10.11.0->typer<1.0.0,>=0.3.0->spacy<3.8.0,>=3.7.2->en-core-web-sm==3.7.1) (2.16.1)\n",
      "Requirement already satisfied: wrapt in /home/barbara/.local/lib/python3.8/site-packages (from smart-open<8.0.0,>=5.2.1->weasel<0.5.0,>=0.1.0->spacy<3.8.0,>=3.7.2->en-core-web-sm==3.7.1) (1.16.0)\n",
      "Requirement already satisfied: mdurl~=0.1 in /home/barbara/.local/lib/python3.8/site-packages (from markdown-it-py>=2.2.0->rich>=10.11.0->typer<1.0.0,>=0.3.0->spacy<3.8.0,>=3.7.2->en-core-web-sm==3.7.1) (0.1.2)\n",
      "\u001b[38;5;2m✔ Download and installation successful\u001b[0m\n",
      "You can now load the package via spacy.load('en_core_web_sm')\n",
      "\u001b[38;5;3m⚠ Restart to reload dependencies\u001b[0m\n",
      "If you are in a Jupyter or Colab notebook, you may need to restart Python in\n",
      "order to load all the package's dependencies. You can do this by selecting the\n",
      "'Restart kernel' or 'Restart runtime' option.\n"
     ]
    },
    {
     "name": "stderr",
     "output_type": "stream",
     "text": [
      "[nltk_data] Downloading package punkt to /home/barbara/nltk_data...\n",
      "[nltk_data]   Package punkt is already up-to-date!\n"
     ]
    },
    {
     "data": {
      "text/plain": [
       "True"
      ]
     },
     "execution_count": 4,
     "metadata": {},
     "output_type": "execute_result"
    }
   ],
   "source": [
    "# Uncomment to download relevant tools if not already downloaded\n",
    "# spacy.cli.download(\"en_core_web_sm\")\n",
    "# nltk.download('punkt')"
   ]
  },
  {
   "cell_type": "markdown",
   "metadata": {},
   "source": [
    "## Preparação do Milvus"
   ]
  },
  {
   "cell_type": "code",
   "execution_count": 7,
   "metadata": {},
   "outputs": [],
   "source": [
    "# Set up Milvus client\n",
    "client = MilvusClient(\n",
    "    uri=\"http://localhost:19530\"\n",
    ")"
   ]
  },
  {
   "cell_type": "code",
   "execution_count": 71,
   "metadata": {},
   "outputs": [],
   "source": [
    "# Create schema\n",
    "summarizer_schema = MilvusClient.create_schema(\n",
    "    auto_id=True,\n",
    "    enable_dynamic_field=True,\n",
    ")\n",
    "\n",
    "# Add fields to schema\n",
    "summarizer_schema.add_field(field_name=\"id\", datatype=DataType.INT64, is_primary=True, auto_id=True)\n",
    "summarizer_schema.add_field(field_name=\"text_id\", datatype=DataType.INT64)\n",
    "summarizer_schema.add_field(field_name=\"sentence_content\", datatype=DataType.VARCHAR, max_length = 1024)\n",
    "summarizer_schema.add_field(field_name=\"sentence_vector\", datatype=DataType.FLOAT_VECTOR, dim=3072)\n",
    "\n",
    "# Prepare index parameters\n",
    "index_params = client.prepare_index_params()\n",
    "\n",
    "# Add indexes\n",
    "index_params.add_index(field_name=\"id\")\n",
    "index_params.add_index(field_name=\"text_id\")\n",
    "index_params.add_index(field_name=\"sentence_vector\", index_type=\"AUTOINDEX\", metric_type=\"COSINE\")\n",
    "\n",
    "# Create a collection\n",
    "client.create_collection(\n",
    "    collection_name=\"news_articles\",\n",
    "    schema=summarizer_schema,\n",
    "    index_params=index_params\n",
    ")"
   ]
  },
  {
   "cell_type": "code",
   "execution_count": 70,
   "metadata": {},
   "outputs": [
    {
     "name": "stdout",
     "output_type": "stream",
     "text": [
      "Collection news_articles foi excluída com sucesso.\n"
     ]
    }
   ],
   "source": [
    "# client.drop_collection(\"news_articles\")\n",
    "# print(f\"Collection news_articles foi excluída com sucesso.\")"
   ]
  },
  {
   "cell_type": "markdown",
   "metadata": {},
   "source": [
    "## Conexão com a OpenAI"
   ]
  },
  {
   "cell_type": "code",
   "execution_count": 182,
   "metadata": {},
   "outputs": [],
   "source": [
    "# Load enviroment variables\n",
    "load_dotenv()\n",
    "\n",
    "# Configure client with API key\n",
    "client_openai = OpenAI(\n",
    "    api_key=os.getenv('API_KEY'),\n",
    ")"
   ]
  },
  {
   "cell_type": "markdown",
   "metadata": {},
   "source": [
    "## Preparação dos Dados"
   ]
  },
  {
   "cell_type": "code",
   "execution_count": 186,
   "metadata": {},
   "outputs": [],
   "source": [
    "# Load CNN/DailyMail Dataset\n",
    "dataset = load_dataset('cnn_dailymail', '3.0.0')"
   ]
  },
  {
   "cell_type": "code",
   "execution_count": 187,
   "metadata": {},
   "outputs": [],
   "source": [
    "# Get data that will be used for evaluation\n",
    "train = dataset['train']\n",
    "data= train.select(range(100))"
   ]
  },
  {
   "cell_type": "code",
   "execution_count": 206,
   "metadata": {},
   "outputs": [
    {
     "name": "stdout",
     "output_type": "stream",
     "text": [
      "LONDON, England (Reuters) -- Harry Potter star Daniel Radcliffe gains access to a reported £20 million ($41.1 million) fortune as he turns 18 on Monday, but he insists the money won't cast a spell on him. Daniel Radcliffe as Harry Potter in \"Harry Potter and the Order of the Phoenix\" To the disappointment of gossip columnists around the world, the young actor says he has no plans to fritter his cash away on fast cars, drink and celebrity parties. \"I don't plan to be one of those people who, as soon as they turn 18, suddenly buy themselves a massive sports car collection or something similar,\" he told an Australian interviewer earlier this month. \"I don't think I'll be particularly extravagant. \"The things I like buying are things that cost about 10 pounds -- books and CDs and DVDs.\" At 18, Radcliffe will be able to gamble in a casino, buy a drink in a pub or see the horror film \"Hostel: Part II,\" currently six places below his number one movie on the UK box office chart. Details of how he'll mark his landmark birthday are under wraps. His agent and publicist had no comment on his plans. \"I'll definitely have some sort of party,\" he said in an interview. \"Hopefully none of you will be reading about it.\" Radcliffe's earnings from the first five Potter films have been held in a trust fund which he has not been able to touch. Despite his growing fame and riches, the actor says he is keeping his feet firmly on the ground. \"People are always looking to say 'kid star goes off the rails,'\" he told reporters last month. \"But I try very hard not to go that way because it would be too easy for them.\" His latest outing as the boy wizard in \"Harry Potter and the Order of the Phoenix\" is breaking records on both sides of the Atlantic and he will reprise the role in the last two films.  Watch I-Reporter give her review of Potter's latest » . There is life beyond Potter, however. The Londoner has filmed a TV movie called \"My Boy Jack,\" about author Rudyard Kipling and his son, due for release later this year. He will also appear in \"December Boys,\" an Australian film about four boys who escape an orphanage. Earlier this year, he made his stage debut playing a tortured teenager in Peter Shaffer's \"Equus.\" Meanwhile, he is braced for even closer media scrutiny now that he's legally an adult: \"I just think I'm going to be more sort of fair game,\" he told Reuters. E-mail to a friend . Copyright 2007 Reuters. All rights reserved.This material may not be published, broadcast, rewritten, or redistributed.\n",
      "\n",
      "Harry Potter star Daniel Radcliffe gets £20M fortune as he turns 18 Monday .\n",
      "Young actor says he has no plans to fritter his cash away .\n",
      "Radcliffe's earnings from first five Potter films have been held in trust fund .\n"
     ]
    }
   ],
   "source": [
    "# Content example from dataset\n",
    "print(data[0]['article'])  # Text\n",
    "print()\n",
    "print(data[0]['highlights'])  # Summary"
   ]
  },
  {
   "cell_type": "markdown",
   "metadata": {},
   "source": [
    "## Funções Auxiliares"
   ]
  },
  {
   "cell_type": "code",
   "execution_count": null,
   "metadata": {},
   "outputs": [],
   "source": [
    "# Function to get embedding from text\n",
    "def get_embedding(text, model):\n",
    "   text = text.replace(\"\\n\", \" \")\n",
    "   return client_openai.embeddings.create(input = [text], model=model).data[0].embedding"
   ]
  },
  {
   "cell_type": "code",
   "execution_count": 102,
   "metadata": {},
   "outputs": [],
   "source": [
    "# Split text in sentences\n",
    "def tokenize_sentences(text):\n",
    "    sentences = nltk.sent_tokenize(text)\n",
    "    sentences = [sentence.strip() for sentence in sentences]\n",
    "    return sentences"
   ]
  },
  {
   "cell_type": "code",
   "execution_count": 191,
   "metadata": {},
   "outputs": [],
   "source": [
    "# Assign clusters to embeddings and find their centroids\n",
    "def kmeans_clustering(data, n_clusters, iterations=25):\n",
    "    embeddings = np.array(data[\"embeddings\"].tolist())\n",
    "    kclusterer = KMeansClusterer(\n",
    "            n_clusters, \n",
    "            distance=nltk.cluster.util.cosine_distance,\n",
    "            repeats=iterations, \n",
    "            avoid_empty_clusters=True)\n",
    "    \n",
    "    assigned_clusters = kclusterer.cluster(embeddings, assign_clusters=True)\n",
    "    data['cluster'] = pd.Series(assigned_clusters, index=data.index)\n",
    "    data['centroid'] = data['cluster'].apply(lambda x: kclusterer.means()[x])\n",
    "    return data"
   ]
  },
  {
   "cell_type": "code",
   "execution_count": 192,
   "metadata": {},
   "outputs": [],
   "source": [
    "# Calculate distance of each embedding from its cluster centroid\n",
    "def distance_from_centroid(data):\n",
    "    def euclidean_distance(embedding, centroid):\n",
    "        return np.linalg.norm(np.array(embedding) - np.array(centroid))\n",
    "\n",
    "    # Apply to each row\n",
    "    data['distance_from_centroid'] = data.apply(\n",
    "        lambda row: euclidean_distance(row[\"embeddings\"], row[\"centroid\"]), axis=1)\n",
    "    return data"
   ]
  },
  {
   "cell_type": "code",
   "execution_count": 194,
   "metadata": {},
   "outputs": [],
   "source": [
    "# Summarize text\n",
    "def summarize_text(text, model, n_clusters):\n",
    "    # Create a dataframe with the text sentences\n",
    "    sentences = tokenize_sentences(text)\n",
    "    df_sentences = pd.DataFrame({\"sentences\" : sentences})\n",
    "\n",
    "    # Transform sentences into embeddings using an NLP model\n",
    "    df_sentences['embeddings'] = df_sentences['sentences'].apply(lambda x: get_embedding(x, model))\n",
    "\n",
    "    # Cluster sentence embeddings with KMeans\n",
    "    df_sentences = kmeans_clustering(df_sentences, n_clusters, iterations)\n",
    "\n",
    "    # Find distance of each embedding to its cluster's centroid\n",
    "    df_sentences = distance_from_centroid(df_sentences)\n",
    "\n",
    "    # Compose summary with each cluster's most meaninful sentence - embedding with the least distance to centroid\n",
    "    summary = df_sentences.sort_values('distance_from_centroid', ascending = True) \\\n",
    "                            .groupby('cluster').head(1) \\\n",
    "                            .sort_index()['sentences'] \\\n",
    "                            .tolist()\n",
    "\n",
    "    # Format summary as a string\n",
    "    # summary_str = ' '.join(summary)\n",
    "    \n",
    "    return summary"
   ]
  },
  {
   "cell_type": "markdown",
   "metadata": {},
   "source": [
    "## Testes"
   ]
  },
  {
   "cell_type": "code",
   "execution_count": 183,
   "metadata": {},
   "outputs": [],
   "source": [
    "model_small = \"text-embedding-3-small\"\n",
    "model = \"text-embedding-3-large\""
   ]
  },
  {
   "cell_type": "code",
   "execution_count": 184,
   "metadata": {},
   "outputs": [
    {
     "name": "stdout",
     "output_type": "stream",
     "text": [
      "[0.0025332425720989704, 0.013405518606305122, -0.01072100643068552, 0.039066050201654434, 0.013431085273623466, -0.0039948103949427605, -0.05474701151251793, 0.07574586570262909, -0.032589130103588104, 0.01511849369853735, 0.0007084130775183439, 0.0603376179933548, -0.01924326829612255, -0.024885006248950958, 0.008223983459174633, -0.008812019601464272, 0.013115761801600456, 0.0057013933546841145, -0.007529418915510178, -0.011453920975327492, 0.0005528817418962717, 0.012127179652452469, -0.026759903877973557, 0.05505381524562836, -0.016456488519906998, 0.0012410545023158193, -0.008564873598515987, 0.03275957703590393, 0.01842513121664524, -0.014632724225521088, -0.005305108148604631, 0.014206611551344395, 0.006131767760962248, -0.009630156680941582, -0.03991827741265297, -0.016746245324611664, -0.003845670958980918, 0.002731385175138712, 0.01961824856698513, -0.006038022693246603, 0.032657310366630554, -0.03381633758544922, -0.04659973084926605, -0.0038243653252720833, 0.012246491387486458, 0.026436056941747665, 0.0406341478228569, -0.0028847858775407076, -0.061394378542900085, 4.65395423816517e-05, 0.039134230464696884, -0.009272221475839615, -0.0036922702565789223, -4.677257311413996e-05, -0.018748976290225983, 0.023368043825030327, 0.002682382008060813, -0.023180553689599037, -0.009476755745708942, -0.009340399876236916, -0.023027153685688972, -0.00242884480394423, 0.002669598674401641, 0.01591106317937374, -0.026265611872076988, -0.028702979907393456, -0.014198089018464088, -0.0010807294165715575, 0.027509862557053566, 0.052019890397787094, 0.00721409497782588, -0.002801693743094802, 0.01043124869465828, 0.015007703565061092, 0.01741950400173664, -0.00015899345453362912, 0.019464846700429916, -0.002435236470773816, -0.02502136304974556, 0.0270837489515543, 0.039577387273311615, 0.009297788143157959, -0.002908221911638975, -0.011232341639697552, 0.02471456117928028, -0.015050315298140049, -0.02350439876317978, -0.08181371539831161, 0.013865720480680466, -0.0060763731598854065, -0.006523791700601578, 0.006689975969493389, -0.025634964928030968, -0.020095495507121086, 0.0009289265726692975, 0.015595739707350731, 0.006268124096095562, -0.027935976162552834, -0.02188516966998577, 0.03255504369735718, -0.04513389989733696, -0.014163999818265438, 0.00428882846608758, -0.05481519177556038, 0.0273564625531435, 0.019072823226451874, -0.002239224500954151, 0.003117017447948456, 0.002812346676364541, 0.040327344089746475, -0.021902214735746384, -0.006212729029357433, -0.016882602125406265, -0.012433980591595173, -0.03374815732240677, -0.029657473787665367, -0.0012378585524857044, -0.07431412488222122, 0.0027526908088475466, -0.010780662298202515, -0.02834504470229149, -0.06279202550649643, 0.018254686146974564, -0.02074318565428257, -0.00014501162513624877, 0.004602021537721157, -0.0007041519274935126, 0.018578531220555305, -0.0046616774052381516, -0.021015899255871773, -0.03923649713397026, 0.01948189176619053, 0.009127343073487282, 0.025754276663064957, 0.08379088342189789, -0.018339907750487328, -0.01955007016658783, 0.04227042198181152, 0.017300192266702652, 0.050554059445858, -0.05161081999540329, -0.01131756417453289, 0.02024889551103115, -0.0121357012540102, -0.054610658437013626, -0.009510844945907593, 0.03207779675722122, 0.0030935811810195446, 0.00864157360047102, 0.016430921852588654, -0.027629174292087555, -0.020385252311825752, 0.007367495913058519, 0.025447474792599678, 0.007469763047993183, -0.02062387578189373, 0.017999017611145973, 0.0270837489515543, -0.02401573583483696, 0.05703097954392433, -0.010925540700554848, 0.008786452934145927, 0.017879705876111984, 0.008684185333549976, -0.034600384533405304, -0.036202572286129, 0.03845244646072388, -0.006008194759488106, -0.019447803497314453, 0.04169090837240219, -0.0014732860727235675, 0.006161595694720745, 0.0019164436962455511, -0.00949379988014698, -0.03175394982099533, 0.03248686343431473, 0.012587381526827812, 0.0262826569378376, -0.010601694695651531, 0.04056596755981445, -0.02483387291431427, 0.032776620239019394, 0.010712483897805214, 0.0008570200297981501, -0.013431085273623466, 0.006174379028379917, 0.04816782847046852, 0.016362743452191353, -0.024356625974178314, -0.015374161303043365, -0.0035047803539782763, -0.032350506633520126, 0.0019025950459763408, -0.0028357827104628086, 0.03732750937342644, -0.014990659430623055, -0.02993018552660942, -0.00682207103818655, -0.002872002311050892, -0.0034408634528517723, 0.03173690661787987, -0.021544279530644417, -0.011905600316822529, -0.0019952745642513037, -0.008258072659373283, 0.028089376166462898, -0.020964765921235085, 0.03695252910256386, 0.011888556182384491, 0.004840645007789135, 0.04987227916717529, -0.010414204560220242, 0.0019856870640069246, -0.011956733651459217, 0.001665037008933723, 0.0004934922326356173, -0.024356625974178314, -0.0014136303216218948, -0.010516472160816193, 0.009118820540606976, 0.006566402968019247, -0.04578159376978874, -0.018714888021349907, 0.01992504857480526, -0.08051833510398865, -0.00849243439733982, 0.056485556066036224, 2.4684599338797852e-05, 0.012723737396299839, 0.016175253316760063, -0.017572905868291855, 0.009459711611270905, -0.00886315293610096, 0.01866375468671322, -0.00033796095522120595, -0.006016717292368412, 0.017197925597429276, 0.013098717667162418, 0.021765857934951782, 0.0063277799636125565, -0.027612129226326942, 0.0052880640141665936, -0.030083585530519485, -0.03589576855301857, 0.0017289540264755487, 0.020521607249975204, -0.005100573878735304, -0.03270844370126724, 0.039645563811063766, -0.019959138706326485, -0.004316525999456644, 0.007597596850246191, 0.007849003188312054, 0.04274766892194748, 0.04066823422908783, 0.02137383446097374, 0.041145481169223785, -0.023674845695495605, 0.007614641450345516, -0.0025907678063958883, 0.012851571664214134, -0.00893133133649826, 0.017999017611145973, 0.011223819106817245, 0.02733941748738289, -0.005313630681484938, 0.04734969139099121, -0.0271519273519516, -0.0051772743463516235, -0.048065558075904846, 0.012570337392389774, -0.04659973084926605, 0.026146300137043, 0.019089868292212486, 0.024237314239144325, 0.012689648196101189, -0.026248568668961525, 0.004870472941547632, 0.005236930213868618, -0.010388637892901897, -0.03293002024292946, 0.005079268477857113, 0.0064598750323057175, -0.01543381717056036, -0.014786125160753727, -0.02376006729900837, 0.025004317983984947, 0.006289429496973753, 0.008287900127470493, -0.017385415732860565, -0.022345371544361115, -0.02878820151090622, -0.0017449331935495138, -0.033407267183065414, -0.016243431717157364, 0.02445889264345169, 0.026691725477576256, -0.043361272662878036, 0.030969901010394096, -0.009860257618129253, -0.002377711236476898, -0.014683857560157776, 0.00854782946407795, -0.02532816305756569, 0.041145481169223785, 0.03760022297501564, 0.036679815500974655, 0.01861262135207653, -0.06122393161058426, -0.05594012886285782, 0.01697634719312191, -0.03402087092399597, 0.015587218105793, -0.017436549067497253, -0.01034602615982294, -0.022839663550257683, -0.030833546072244644, -0.005207102280110121, 0.03494127467274666, -0.010448293760418892, -0.008564873598515987, -0.011922645382583141, -0.03773657605051994, 0.014010598883032799, 0.012996450066566467, 0.023913467302918434, 0.005697132553905249, 0.023436222225427628, -0.0012676864862442017, 0.01566391810774803, -0.012280579656362534, -0.019976183772087097, 0.02703261561691761, 0.006920076906681061, -0.02069205231964588, -0.032912977039813995, -0.017368370667099953, -0.034856051206588745, -0.015058837831020355, -0.004109860863536596, -0.009587544947862625, -0.018766021355986595, -0.01056760549545288, 0.00849243439733982, 0.008006665855646133, -0.014794647693634033, 0.06753040850162506, -0.014692380093038082, 0.000985386548563838, 0.04179317504167557, 0.0008223982877098024, -0.007912920787930489, 0.018527397885918617, 0.0037306202575564384, 0.034549251198768616, -0.006660148035734892, -0.016124119982123375, -0.006651625968515873, -0.00024687929544597864, 0.006907293573021889, -0.020521607249975204, -0.0020719750318676233, 0.02214083820581436, -0.01646501012146473, 0.04779284819960594, 0.014769081026315689, 0.04056596755981445, 0.01987391524016857, -0.004018246661871672, 0.023930512368679047, -0.03732750937342644, 0.023044196888804436, -0.0015127016231417656, 0.02004436030983925, -0.004772467073053122, -0.028958646580576897, 0.005842010956257582, 0.02495318464934826, 0.02031707391142845, 0.015859929844737053, 0.01698486879467964, -0.011053374037146568, 0.025072496384382248, -0.01772630587220192, 0.006050806492567062, 0.021459056064486504, -0.012544769793748856, 0.002950833411887288, -0.010294892825186253, 0.007030866574496031, 0.01546790637075901, 0.02483387291431427, -0.04946321249008179, 0.0006594100268557668, 0.00933187734335661, 0.057303693145513535, 0.004293089732527733, -0.001488200039602816, 0.05174717679619789, -0.01748768240213394, 0.015629829838871956, -0.019635291770100594, -0.013950943015515804, 0.007013821974396706, 0.033731114119291306, 0.007976837456226349, 0.004947173409163952, -0.002077301498502493, 0.026640592142939568, 0.04227042198181152, 0.009152909740805626, -0.044724833220243454, -0.0036496587563306093, 0.0002937517419923097, 0.001394455204717815, 0.0058334884233772755, 0.04711106792092323, 0.02074318565428257, -0.025788364931941032, -0.023419177159667015, 0.03763430938124657, 0.0025396342389285564, 0.01128347497433424, -0.027612129226326942, -0.013789020478725433, -0.0008106802124530077, 0.00703938864171505, 0.019158044829964638, 0.00542441988363862, -0.04462256655097008, -0.01835695281624794, -0.013874243013560772, -0.0034344717860221863, 0.020282983779907227, 0.0032874627504497766, 0.011931166984140873, 0.06054215133190155, -0.02866888977587223, -0.009919913485646248, -0.01275782659649849, -0.017112702131271362, -0.02387937903404236, 0.02169767953455448, -0.010397160425782204, -0.021765857934951782, -0.03695252910256386, -0.0263508353382349, -0.006954166106879711, 0.016933735460042953, -0.001658645342104137, -0.03535034507513046, 0.010107402689754963, -0.06115575507283211, -0.0181012861430645, -0.06940530240535736, -0.016422400251030922, -0.03362884745001793, 0.059621747583150864, 0.0062212515622377396, -0.021544279530644417, 0.03790702298283577, -0.021084077656269073, -0.01147096510976553, 0.010311937890946865, -0.015152582898736, -0.027015572413802147, -0.019209180027246475, 0.015263372100889683, -0.004109860863536596, 0.02111816592514515, -0.05607648566365242, -0.016933735460042953, -0.013132805936038494, 0.017393937334418297, 0.018510354682803154, 0.012655559927225113, -0.028566623106598854, -0.03282775357365608, -0.0037668398581445217, -0.008556351065635681, 0.006297952029854059, 0.04087277129292488, -0.009877301752567291, -0.0033577713184058666, -0.00820693839341402, 0.01449636835604906, 0.06817810237407684, 0.0017108441097661853, 0.012843049131333828, 0.03773657605051994, 0.036066215485334396, 0.013303251937031746, -0.011982301250100136, -0.014794647693634033, -0.009757990017533302, -0.016013331711292267, -0.011138596571981907, -0.029367715120315552, 0.01251068152487278, 0.031788039952516556, 0.017589949071407318, 0.01383163221180439, -0.003617700422182679, 0.025430431589484215, 0.004798033740371466, 0.02062387578189373, 0.00738880131393671, -0.0028400439769029617, -0.010422727093100548, 0.01260442566126585, -0.015808796510100365, -0.014019121415913105, 0.01011592522263527, 0.012118657119572163, -0.005134663078933954, -0.0011004371335729957, -0.014632724225521088, 0.016746245324611664, 0.025055451318621635, -0.01922622323036194, -0.010363071225583553, 0.008939852938055992, 0.02345326542854309, -0.01345665194094181, 0.031157391145825386, 0.02118634432554245, 0.017641082406044006, -0.029640428721904755, 0.049190498888492584, -0.013081672601401806, -0.03858880326151848, 0.023231687024235725, -0.007094783242791891, -0.01439410075545311, -0.02024889551103115, -0.0041396887972950935, -0.018834199756383896, 0.028839336708188057, -0.005092051811516285, 0.013465174473822117, 0.011965256184339523, 0.02369188889861107, -0.012263535521924496, 0.00817711092531681, 0.005373286549001932, 0.03572532534599304, 0.017555860802531242, -0.04421349614858627, 0.0017832834273576736, -0.02331691049039364, -0.02212379314005375, 0.023743022233247757, 0.0012005737517029047, 0.03453220799565315, 0.02149314619600773, 0.014675335958600044, -0.02275444008409977, -0.01786266267299652, -0.018339907750487328, -0.010840318165719509, -0.009510844945907593, -0.025890633463859558, 0.014752035960555077, -0.0014999181730672717, -0.012451025657355785, 0.007785086520016193, 0.004883256275206804, -0.006638842169195414, -0.021220432594418526, 0.006016717292368412, 0.006566402968019247, -0.0012005737517029047, -0.008880197070538998, -0.04097503796219826, 0.00668145390227437, 0.03073127754032612, 0.0543038547039032, -0.0010445098159834743, -0.010524993762373924, -0.01247659232467413, -0.000454076798632741, -0.029691562056541443, 0.005292324814945459, 0.002151871332898736, -0.014939526095986366, 0.024305492639541626, -0.0039010655600577593, -0.028771158307790756, -0.04694062098860741, 0.028651846572756767, 0.011181208305060863, 0.01842513121664524, 0.05420158803462982, 0.04015690088272095, 0.009510844945907593, 0.0004982860409654677, 0.0034089048858731985, -0.006813548970967531, 0.00874384120106697, -0.020078450441360474, 0.006357607897371054, 0.011019284836947918, 0.019004644826054573, -0.005739743821322918, -0.02716897241771221, 0.01633717678487301, 0.028276866301894188, 0.01084883976727724, 0.005616170819848776, 0.01336290780454874, -0.007968314923346043, -0.026009945198893547, -2.649891030159779e-05, 0.004205736331641674, 0.01185446698218584, -0.014198089018464088, 0.009255177341401577, 0.010576128028333187, 0.004704288672655821, 0.01653318852186203, 0.02860071323812008, -0.044793009757995605, 0.013635619543492794, -0.00814302172511816, -0.00028229993768036366, 0.05011090263724327, -0.016243431717157364, 0.003803059458732605, 0.0020815625321120024, 0.008398689329624176, -0.02583950012922287, 0.012093090452253819, -0.017121225595474243, 0.02244763821363449, 0.0341913178563118, 0.031157391145825386, 0.014163999818265438, 0.018118329346179962, 0.004261131398379803, -0.0165928453207016, 0.05917859077453613, 0.007989620789885521, 0.00764020811766386, -0.0887678861618042, -0.021731769666075706, 0.0072907954454422, -0.04578159376978874, 0.0312426146119833, 0.02897569164633751, -0.0009422426228411496, 0.007580552250146866, -0.0010578258661553264, 0.0073930625803768635, 0.010013658553361893, 0.05467883497476578, 0.0007462305948138237, 0.017572905868291855, 0.016703633591532707, -0.026129256933927536, -0.00013549065624829382, -0.0027143405750393867, -0.03770248964428902, -0.00571843795478344, -0.02866888977587223, 0.00864157360047102, 0.005066485144197941, -0.000740904186386615, -0.017709260806441307, -0.0011025676503777504, 0.03257208690047264, 0.015536083839833736, -0.027714397758245468, -0.006851898971945047, -0.01584288477897644, 0.012544769793748856, 0.0010929801501333714, -0.014470801688730717, 0.015587218105793, -0.008321989327669144, 0.015263372100889683, 0.00864583533257246, 0.007917181588709354, 0.026998527348041534, 0.016388310119509697, 0.035998035222291946, 0.00016338775458279997, -0.02081136405467987, 0.01297940593212843, 0.02691330388188362, -0.009894346818327904, -0.0062212515622377396, 0.020760230720043182, 0.034481074661016464, 0.0068646823056042194, 0.024885006248950958, 0.014556024223566055, 0.00820693839341402, -0.005663043353706598, -0.023402132093906403, -0.01430035661906004, -0.023589622229337692, -0.00999661348760128, -0.018748976290225983, -0.004951434209942818, 0.031344879418611526, -0.018442176282405853, -0.011828900314867496, -0.0243395809084177, -0.018186507746577263, 0.006016717292368412, 0.003513302654027939, 0.014385579153895378, 0.023248732089996338, 0.0292313601821661, 3.6993610592617188e-06, -0.028583668172359467, 0.01602185331285, -0.03035629913210869, -0.033475447446107864, 0.02759508602321148, -0.010755094699561596, 0.03437880799174309, -0.05116766318678856, -0.015041792765259743, 0.00754220224916935, -0.021731769666075706, 0.020027317106723785, -0.009314833208918571, 0.018118329346179962, -0.0026440320070832968, -0.014683857560157776, -0.018339907750487328, 0.0650419071316719, 0.013158372603356838, 0.006191423628479242, 0.03715706244111061, -0.005275280214846134, -0.005334936082363129, -0.009067687205970287, -0.008245288394391537, 0.033168643712997437, -0.0032448514830321074, -0.03449811786413193, -0.0073845405131578445, 0.0007904398371465504, -0.007013821974396706, -0.008888719603419304, -0.015024748630821705, 0.0044954936020076275, 0.010490904562175274, -0.0156553965061903, -0.03364589065313339, 0.025686098262667656, -0.05982628092169762, -0.004371920600533485, 0.05512199178338051, 0.0062425569631159306, 0.024373671039938927, -0.034668564796447754, 0.021390877664089203, -0.05474701151251793, -0.019209180027246475, -0.016609888523817062, 0.02331691049039364, -0.0038307569921016693, 0.02331691049039364, -0.012459547258913517, -0.04015690088272095, 0.004925867542624474, 0.0025204590056091547, 0.010286370292305946, 0.01866375468671322, -0.0072524454444646835, 0.023862333968281746, 0.00775099778547883, -0.015536083839833736, 0.00296361674554646, -0.009263698942959309, -0.007652991451323032, 0.009118820540606976, -0.006609014235436916, -0.03199257329106331, -0.018646709620952606, 0.01608150824904442, -0.012851571664214134, 0.019089868292212486, 0.028379132971167564, -0.015058837831020355, -0.02452707104384899, 0.009885824285447598, 0.011445398442447186, 0.0014487846055999398, 0.038247913122177124, -0.013661186210811138, -0.002876263577491045, -0.030134718865156174, -0.00999661348760128, 0.017777439206838608, -0.0055820816196501255, 0.005224146880209446, 0.01003070268779993, -0.006809287704527378, 0.0126385148614645, 0.027134884148836136, 0.005778093822300434, 0.024748649448156357, -0.028754113242030144, 0.013218028470873833, -0.015604262240231037, 0.008735318668186665, -0.007985359989106655, 0.00578661635518074, 0.01910691149532795, 0.015894019976258278, -0.01767517253756523, 0.048372361809015274, -0.01910691149532795, -0.005194318946450949, 0.006945644039660692, -0.013269162736833096, 0.007418629247695208, 0.0009225349058397114, 0.01411286648362875, 0.000702021352481097, 0.010610216297209263, 0.03589576855301857, 0.03490718826651573, 0.01987391524016857, -0.004700027871876955, -0.003298115450888872, -0.012186835519969463, 0.008155805058777332, 0.0006141355261206627, -0.0054372032172977924, -0.016609888523817062, 0.021424967795610428, -0.01115564163774252, 0.042474955320358276, 0.025566786527633667, 0.024186180904507637, -0.022583995014429092, 0.000782450195401907, -0.02797006443142891, 0.009553455747663975, -0.002416061470285058, 0.023998690769076347, -0.03468560799956322, 0.015996286645531654, 0.0031894566491246223, 0.004712811205536127, 0.024169135838747025, 0.026129256933927536, 0.013405518606305122, 0.018783066421747208, -0.005126141011714935, 0.013277684338390827, -0.0032384595833718777, 0.0012218793854117393, 0.006442830432206392, -0.0019164436962455511, -0.005369025282561779, 0.0018930075457319617, -0.0016224257415160537, -0.0016799509758129716, 0.017087135463953018, -0.017428025603294373, 0.005628954153507948, -0.028242778033018112, -0.015263372100889683, -0.01034602615982294, -0.005995411425828934, -0.009800601750612259, 0.003956460393965244, -0.020709097385406494, -0.001932422979734838, -0.017896750941872597, 0.026009945198893547, -0.006344824098050594, 0.0008000273955985904, -0.027254195883870125, -0.0330493338406086, 0.019533025100827217, -0.03644119203090668, -0.018561488017439842, -0.010405682027339935, -0.028890470042824745, -0.023163508623838425, 0.0001057293193298392, 0.02030002884566784, -0.01880011148750782, -0.0054286811500787735, 0.039202407002449036, 0.006191423628479242, -0.04809964820742607, 0.014760558493435383, 0.026504235342144966, -0.005011090077459812, -0.02602698840200901, -0.013695275411009789, 0.03879333660006523, 0.011172685772180557, -0.010874406434595585, 0.003400382585823536, 0.00596984475851059, 0.011130074970424175, -0.019703470170497894, -0.014973615296185017, 0.02364075556397438, 0.015757663175463676, 0.05375843122601509, 0.002573723206296563, 0.027680307626724243, 0.015229282900691032, -0.006715542636811733, -0.024816827848553658, -0.03093581274151802, -0.05150855332612991, 0.006694237235933542, 0.01376345381140709, 0.017112702131271362, -0.024782739579677582, 0.031344879418611526, 0.04588386043906212, -0.0014423929387703538, -0.012740782462060452, -0.009042120538651943, 0.0029231358785182238, 0.009033598005771637, 0.003700792323797941, 0.005398853216320276, 0.008432778529822826, -1.3132939784554765e-05, -0.0009987025987356901, -0.0018685059621930122, 0.019822781905531883, 0.008880197070538998, -0.01326064020395279, 0.0075251576490700245, -0.01948189176619053, -0.034174270927906036, 0.002761213108897209, 0.017300192266702652, 0.018936466425657272, -0.020214805379509926, 0.009604590013623238, -0.015348594635725021, -0.0031958483159542084, 0.002123108599334955, 0.0034344717860221863, 0.0003355640801601112, -0.04080459102988243, 0.006719803903251886, -0.00012936527491547167, 0.0041056000627577305, 0.022601040080189705, 0.014888392761349678, -0.027748486027121544, 0.026453102007508278, 0.001143048400990665, -0.005684348754584789, -0.006579186301678419, -0.01602185331285, 0.008922808803617954, 0.014513412490487099, 0.015587218105793, 0.006702759303152561, -0.0012943185865879059, -0.01910691149532795, 0.008594701997935772, -0.00015779501700308174, -0.021237477660179138, 0.03490718826651573, -0.019260313361883163, 0.015732096508145332, 0.03739568591117859, -0.0042440867982804775, -0.012595904059708118, 0.015689484775066376, -0.012621470727026463, 0.011530620977282524, 0.0363389253616333, -0.022328326478600502, 0.0056928712874650955, 0.013303251937031746, -0.005258236080408096, -0.030884679406881332, 0.010132970288395882, -0.05109948664903641, 0.01392537634819746, -0.016712157055735588, 0.009604590013623238, -0.00949379988014698, -0.012178312987089157, -0.001878093578852713, 0.006400219164788723, -0.0009949741652235389, 0.03681617230176926, 0.01193968951702118, 0.008530784398317337, -0.03294706717133522, -0.0165246669203043, -0.0008479651296511292, 0.006630320101976395, 0.009877301752567291, -0.02186812460422516, 0.0160900317132473, -0.003841409692540765, -0.03562305495142937, -0.008241027593612671, 0.03708888590335846, 0.010192626155912876, 0.018783066421747208, 0.045474790036678314, -0.015075881965458393, -0.003555913921445608, 0.02169767953455448, 0.022720351815223694, 0.022549906745553017, 0.01232319138944149, 0.04513389989733696, -0.011837422847747803, -0.0232657752931118, -0.008948375470936298, -0.008155805058777332, 0.025174763053655624, 0.001488200039602816, 0.0029167442116886377, 0.02803824283182621, 0.010209670290350914, -0.02244763821363449, -0.02181699126958847, -0.009459711611270905, 0.009800601750612259, -0.0048917788080871105, 0.0020048622973263264, -0.019379625096917152, -0.0022775745019316673, -0.06337153911590576, -0.026197435334324837, 0.00974946841597557, -0.010917018167674541, -0.01999322697520256, -0.012076045386493206, -0.0031191480811685324, 0.0060678506270051, 0.02551565319299698, -0.02345326542854309, 0.0004402281192597002, -0.005931494757533073, 0.0008005599956959486, 0.0034472551196813583, -0.02583950012922287, 0.038759250193834305, -0.00432078680023551, -0.0008868479053489864, 0.00027830511680804193, -0.020282983779907227, -0.02495318464934826, 0.03811155632138252, -0.009272221475839615, 0.005015351343899965, -0.010303415358066559, 0.039372850209474564, -0.010098881088197231, 0.005305108148604631, -0.022839663550257683, 0.006025239359587431, -0.010899973101913929, 0.002448019804432988, -0.02081136405467987, 0.03817973658442497, -0.015450861304998398, 0.008402951061725616, -0.0018440044950693846, 0.026981482282280922, -0.0165928453207016, 0.0080791050568223, -0.00460628280416131, -0.0014775472227483988, 0.009204043075442314, 0.0030573615804314613, 0.0021689157001674175, -0.01361005287617445, -9.547596710035577e-05, -0.027237150818109512, 0.0023010107688605785, -0.009383010677993298, -0.019652336835861206, 0.024424804374575615, -0.013277684338390827, -0.04581568390130997, 0.026691725477576256, -0.015101448632776737, 0.032350506633520126, -0.016047419980168343, -0.02897569164633751, -0.011453920975327492, -0.0314471498131752, 0.01683999039232731, 0.012093090452253819, -0.030969901010394096, -0.014283311553299427, -0.013022016733884811, 0.0021561323665082455, -0.0021295002661645412, 0.009434144012629986, -0.01165845524519682, 0.010158536955714226, 0.011164163239300251, -0.017087135463953018, 0.007030866574496031, -0.0038158430252224207, 0.02469751611351967, 0.007371756713837385, 0.01753881573677063, 0.03339022397994995, -0.005351980682462454, -0.01784561760723591, 0.0050537013448774815, -0.012783393263816833, 0.009468233212828636, 0.014854303561151028, -0.006050806492567062, 0.000484703661641106, -0.03892969340085983, -0.0034706913866102695, 0.0036773562896996737, -0.01660136692225933, 0.012774871662259102, 0.008113193325698376, -0.012144223786890507, 0.0076444693841040134, 0.02885637991130352, 0.005684348754584789, 0.002970008412376046, 0.03270844370126724, -0.00164266605861485, 0.014811691828072071, 0.009945480152964592, -0.015876974910497665, -0.005492598284035921, -0.009459711611270905, -0.006796504370868206, -0.011402786709368229, -0.02125452272593975, 0.005130401812493801, 0.010158536955714226, -0.0004618000821210444, 0.010303415358066559, -0.01697634719312191, -0.023402132093906403, -0.000740904186386615, -0.01828877441585064, 0.00012736787903122604, -0.0060976785607635975, -0.006698498036712408, -0.029077958315610886, 0.00015646341489627957, 0.010414204560220242, 0.017760394141077995, 0.034106094390153885, -0.006881726905703545, 4.107996937818825e-05, -0.02086249738931656, -0.028140509501099586, -0.030339254066348076, 0.0005408973665907979, 0.00041759086889214814, 0.012493636459112167, -0.006928599439561367, -0.012936794199049473, 0.010542038828134537, -0.018936466425657272, 0.014905436895787716, -0.01562130730599165, -0.01096815150231123, -0.03845244646072388, -0.023350998759269714, 0.026367880403995514, -0.02514067478477955, 0.004542365670204163, -0.008309205994009972, 0.01260442566126585, -0.01395946554839611, -0.032793667167425156, -0.010107402689754963, -0.015391205437481403, 0.014513412490487099, 0.0002892242919187993, 0.0060976785607635975, -0.011095985770225525, 0.022174926474690437, -0.03500945493578911, 0.006485441699624062, -0.01861262135207653, 0.0011920514516532421, -0.0036304837558418512, 0.013064628466963768, -0.01898759976029396, 0.0032022399827837944, -0.009067687205970287, 0.007589074783027172, 0.017504727467894554, -0.0005451584584079683, -0.004798033740371466, -0.0005046777077950537, 0.006055067293345928, 0.014573068358004093, -0.010064791887998581, -0.03211188316345215, 0.006072111893445253, -0.01992504857480526, 0.002940180478617549, -0.015868453308939934, 0.003255504183471203, 0.01474351342767477, 0.015450861304998398, -0.018510354682803154, -0.0005052103661000729, 0.005556514952331781, 0.0019409452797845006, -0.006694237235933542, 0.013396996073424816, 0.014513412490487099, 0.008705491200089455, 0.02948702685534954, -0.0025140673387795687, -0.013558919541537762, -0.0002400881057837978, 0.007755258586257696, 0.012911227531731129, -0.022788530215620995, 0.005842010956257582, -0.010167058557271957, 0.015919586643576622, -0.005795138422399759, -0.002335099969059229, 0.0135759636759758, 0.011309042572975159, 0.0012218793854117393, 0.023538488894701004, -0.0033258129842579365, -0.033782247453927994, -0.042781755328178406, 0.009476755745708942, 0.010397160425782204, 0.033100467175245285, -0.0007382409530691803, -0.010951107367873192, 0.0025119369383901358, 0.01640535518527031, -0.0048917788080871105, 0.005986889358609915, 0.006131767760962248, 0.022652173414826393, -0.0076657747849822044, 0.018254686146974564, -0.005198580212891102, 0.025413386523723602, 0.0068689435720443726, -0.043974872678518295, 0.012110134586691856, -0.005394591949880123, 0.011607320979237556, -0.04325900226831436, 0.02672581560909748, 0.012314668856561184, -0.0001676488755038008, -0.007363234646618366, -0.01880011148750782, -0.0015691615408286452, 0.00020666485943365842, -0.014530457556247711, -0.0011739416513592005, 0.02878820151090622, 0.01131756417453289, -0.02023185044527054, 0.023811200633645058, -0.00517301307991147, -0.02004436030983925, 0.025754276663064957, 0.022021526470780373, 0.027390550822019577, -0.025737231597304344, -0.003745534224435687, -0.002273313468322158, 0.01550199557095766, 0.0005645998753607273, -0.00924665480852127, 0.02174881286919117, 0.03049265407025814, -0.0013049714034423232, 0.018152419477701187, 0.014726469293236732, 0.01135165337473154, 0.005403114482760429, 0.005224146880209446, 0.005905927624553442, 0.007691341917961836, 0.003336465684697032, 0.013004972599446774, 0.03333909064531326, -0.004077902529388666, -0.003506910987198353, -0.015544606372714043, -0.0013305381871759892, -0.04700879752635956, 0.011862989515066147, -0.011828900314867496, 0.016550233587622643, -0.00902507547289133, -0.005062223877757788, -0.014513412490487099, -0.006204206962138414, 0.0018610490951687098, -0.019345534965395927, -0.005181535612791777, -0.009340399876236916, 0.0019366841297596693, 0.004267523065209389, 0.019959138706326485, -0.014291834086179733, 0.0028293910436332226, 0.010593172162771225, -0.02069205231964588, -0.0032001095823943615, 0.0014764819061383605, 0.02137383446097374, -0.042849935591220856, 0.013448130339384079, -0.007938487455248833, -0.02759508602321148, -0.021578367799520493, 0.018902378156781197, 0.024816827848553658, -0.027680307626724243, -0.002869871910661459, 0.0021923519670963287, 0.0031809343490749598, 0.0048917788080871105, 0.009775035083293915, 0.013013494201004505, -0.0005171947996132076, -0.008130238391458988, 0.012229446321725845, 0.012706693261861801, -0.008381645195186138, -0.005411636549979448, 0.0015925978077575564, 0.006830593105405569, 0.007491068448871374, 0.00260781217366457, 0.003366293618455529, -0.0001797664735931903, -0.014624202623963356, -0.009544934146106243, 0.0017822181107476354, 0.012655559927225113, 0.00996252428740263, -0.002737776841968298, 0.0018408086616545916, -0.020419340580701828, -0.002699426608160138, -0.05184944346547127, -0.016183776780962944, -0.011164163239300251, -0.01723201386630535, -0.0018397433450445533, -0.000608809117693454, 0.02773144096136093, -0.032350506633520126, -0.002731385175138712, -0.0011707458179444075, -0.008726797066628933, -0.02558383159339428, -0.009391533210873604, 0.003451516153290868, -0.003543130587786436, 0.05058814957737923, -0.011010763235390186, 0.007299317512661219, 0.005351980682462454, -0.010013658553361893, -0.0014956570230424404, -0.01143687590956688, 0.007197050377726555, -0.012629993259906769, -0.0013294728705659509, 0.022413549944758415, 0.010712483897805214, 0.016831468790769577, 0.008803497068583965, 0.007337667979300022, -0.039441030472517014, 0.013661186210811138, 0.006485441699624062, 0.024032779037952423, 0.016243431717157364, -0.011564710177481174, 0.02031707391142845, 0.03275957703590393, -0.0283620897680521, 0.015791751444339752, -0.0033130294177681208, -0.031532369554042816, -2.551685247453861e-05, 0.0035665668547153473, -0.0006562141934409738, 0.0014029773883521557, -0.012749304063618183, 0.0018440044950693846, -0.043974872678518295, -0.017896750941872597, -0.007124611176550388, 0.022652173414826393, -0.01093406230211258, -0.0051644910126924515, -0.006694237235933542, -0.01546790637075901, -0.030884679406881332, 0.006506747100502253, -0.01873193308711052, 0.008211200125515461, -0.014257744885981083, -0.0014839388895779848, -0.003632614389061928, -0.008871675468981266, -0.045236170291900635, -0.024799782782793045, -0.024407759308815002, 0.011488009244203568, 0.0018706365954130888, 0.012544769793748856, -0.012195357121527195, 0.0022583995014429092, -0.02270330674946308, -0.016609888523817062, -0.045167990028858185, 0.010507949627935886, -0.007895875722169876, -0.02565200999379158, -0.0021816992666572332, 0.022328326478600502, 0.02050456404685974, 0.01898759976029396, 0.010772139765322208, 0.015629829838871956, -0.022277193143963814, -0.013840153813362122, 0.010167058557271957, -0.018067196011543274, 0.0055479928851127625, -0.002586506539955735, -0.00048736686585471034, 0.0422363318502903, 0.0054158978164196014, 0.008794974535703659, -0.00148180837277323, 0.010763617232441902, -0.005991150625050068, 0.029214315116405487, -0.011581754311919212, 0.002335099969059229, -0.010576128028333187, 0.011181208305060863, 0.0028272606432437897, -8.522262214682996e-05, 0.00046552857384085655, -0.024305492639541626, -0.009229609742760658, 0.009945480152964592, -0.0271519273519516, 0.009689812548458576, 0.0028059547767043114, -0.022805573418736458, 0.0023627972695976496, -0.017001913860440254, -0.02256694994866848, 0.02024889551103115, -0.001970773097127676, -0.006025239359587431, -0.018033107742667198, -0.0076657747849822044, 0.009877301752567291, 0.01379754301160574, -0.017828572541475296, -0.002601420506834984, 0.012016389518976212, -0.012459547258913517, -0.018936466425657272, 0.007674297317862511, -0.012723737396299839, -0.027237150818109512, -0.005100573878735304, -0.004137558396905661, -0.004955695476382971, -0.013183940201997757, 0.006046545226126909, 0.0161582101136446, -0.024629337713122368, 0.007652991451323032, 0.036304838955402374, 0.0043847039341926575, -0.001233597518876195, 0.017811527475714684, -0.03451516106724739, -0.014172522351145744, -0.006732587236911058, -0.0006189292762428522, -0.023402132093906403, -0.0272882841527462, -0.005739743821322918, 0.026367880403995514, 0.010439771227538586, 0.005266758147627115, 0.01046533789485693, 0.008488173596560955, -0.008390167728066444, -0.002663207007572055, 0.012919750064611435, 0.02086249738931656, 0.002405408537015319, -0.01426626741886139, -0.012894182465970516, -0.004977001342922449, 0.007414368446916342, -0.005910188890993595, 0.004972740076482296, -0.003330074017867446, 0.01049942709505558, 0.0156553965061903, -0.008888719603419304, -0.0009992353152483702, -0.025038406252861023, 0.011888556182384491, -0.015689484775066376, -0.03640710562467575, -0.002801693743094802, -0.03896378353238106, 0.01931144669651985, 0.025686098262667656, 0.01216979045420885, -0.01426626741886139, -0.005224146880209446, 0.015092927031219006, -0.008854630403220654, -0.008415734395384789, -0.0025140673387795687, -0.016072986647486687, -0.005782355088740587, 0.014726469293236732, 0.01683999039232731, -0.0030445782467722893, -0.00012716813944280148, 0.015510517172515392, 0.0002699160249903798, -0.006719803903251886, -0.012485113926231861, -0.011240864172577858, 0.02640196867287159, -0.005565037485212088, 0.01621786504983902, -0.0002669864916242659, -0.004883256275206804, -0.009204043075442314, 0.02162950113415718, -0.00032198172993957996, 0.023061241954565048, -0.004235564265400171, 0.01376345381140709, -0.004763944540172815, 0.012391369789838791, 0.03483900800347328, -0.012050478719174862, -0.009553455747663975, -0.024816827848553658, 0.005454247817397118, -0.0020240372978150845, -0.003739142557606101, -0.01936258003115654, -0.0002022705739364028, 0.018305819481611252, -0.0027420378755778074, 0.014956570230424404, 0.02652128040790558, 0.016797378659248352, 0.009297788143157959, 0.011726632714271545, 0.005471292417496443, -0.013320296071469784, 0.002279705135151744, -0.005096313077956438, -0.004101338796317577, -0.0262144785374403, 0.024782739579677582, -0.01247659232467413, 0.022294238209724426, 0.004461404401808977, -0.006297952029854059, 0.0066047534346580505, -0.002260530134662986, 0.011828900314867496, 0.006920076906681061, 0.01723201386630535, 0.020981809124350548, 0.010755094699561596, -0.012050478719174862, 0.0071288724429905415, 0.012493636459112167, 0.001700191292911768, 0.03390156105160713, 0.009059164673089981, 0.036747995764017105, 0.0016959302593022585, -0.00360704748891294, -0.009638678282499313, -0.02004436030983925, 0.006008194759488106, 0.03149828314781189, 0.015561651438474655, -0.0043847039341926575, 3.305705831735395e-05, 0.01427478902041912, -0.02219197154045105, 0.018783066421747208, -0.014325923286378384, -0.0019899483304470778, -0.0026461624074727297, 0.0028911775443702936, 0.005492598284035921, -0.021578367799520493, 0.011206774972379208, -0.008466867730021477, 0.02130565606057644, -0.006860421039164066, 0.00911029800772667, 0.006336302030831575, 0.008914286270737648, 0.011300520040094852, -0.02345326542854309, -0.013149851001799107, 0.013286206871271133, 0.013627097941935062, 0.013277684338390827, 0.004521060269325972, -0.01084883976727724, -0.007456979714334011, 0.005202841013669968, 0.017138268798589706, -0.031413059681653976, 0.021646546199917793, 0.023794155567884445, 0.004009724594652653, 0.008624529466032982, 0.005884622223675251, 0.007397323846817017, 0.019038734957575798, -0.0028357827104628086, 0.00357508915476501, 0.009229609742760658, 0.005624693352729082, -0.0009614177397452295, 0.00754220224916935, 0.010022180154919624, -0.0166610237210989, -0.008705491200089455, -0.005705654621124268, 0.011309042572975159, 0.012246491387486458, 0.02935067191720009, 0.008777930401265621, -0.025669055059552193, -0.004086424596607685, -0.011675499379634857, -0.029896095395088196, -0.00036379406810738146, -0.0009768643649294972, 0.00974946841597557, -0.014973615296185017, -0.0033215517178177834, -0.003234198549762368, 0.010738050565123558, 0.006323518697172403, 0.009979569353163242, 0.00033929257187992334, 0.0002918874961324036, -0.012689648196101189, 0.013269162736833096, -0.0014391971053555608, -0.013669708743691444, -0.013933898881077766, 0.013695275411009789, -0.027833709493279457, -0.024424804374575615, -0.032469820231199265, 0.006954166106879711, 0.003523955587297678, -0.007226878311485052, -0.02986200712621212, -0.02106703259050846, -0.027066705748438835, 0.010456816293299198, -0.011743677780032158, 0.00582922762259841, 0.02251581661403179, -0.02841322310268879, 0.01917508989572525, 0.021476101130247116, -0.018084241077303886, 0.0014168261550366879, -0.006805026438087225, 0.011811855249106884, -0.007469763047993183, 0.014325923286378384, 0.03640710562467575, -0.015323027968406677, 0.02539634145796299, 0.002957225078716874, -0.027305329218506813, -0.00961311161518097, 0.00715017830953002, 0.00010759356518974528, 0.004150341730564833, -0.02289079688489437, 0.004367659334093332, -0.007968314923346043, -0.001987817697227001, -0.007844742387533188, 0.004305873066186905, -0.008880197070538998, -0.0005142652662470937, 0.008650096133351326, -0.00275056017562747, -0.015237805433571339, 0.01685703545808792, -0.0008032232290133834, -0.005880360957235098, 0.011684021912515163, 0.012740782462060452, -0.0011963126016780734, -0.013899809680879116, -0.008373122662305832, 0.010917018167674541, -0.003947937861084938, -0.0009678094065748155, 0.011530620977282524, 0.0032001095823943615, -0.001781152794137597, -0.0040054633282125, -0.008130238391458988, 0.023419177159667015, 0.00396285206079483, 0.012936794199049473, -0.018339907750487328, -0.016234910115599632, -0.020709097385406494, 0.014564546756446362, -0.003771101124584675, 0.004968478810042143, -0.005633215419948101, 0.021544279530644417, -0.02647014707326889, -0.009902868419885635, -0.011428353376686573, 0.007209834177047014, -0.02502136304974556, 0.0005837749922648072, 0.025856543332338333, 0.010260803624987602, -0.013200984336435795, 0.005390331149101257, 0.0014626332558691502, -0.005087790545076132, 0.05167900025844574, -0.011897077783942223, -0.0004570063319988549, -0.01684851199388504, 0.0071416557766497135, 0.02445889264345169, 0.01310723926872015, -0.003500519320368767, 0.01873193308711052, 0.01583436317741871, -0.0036219614557921886, -0.001426413655281067, -0.006050806492567062, -0.01345665194094181, -0.01043124869465828, -0.01486282516270876, 0.003675225656479597, -0.019515980035066605, 0.02219197154045105, -0.032418686896562576, -0.0020080581307411194, -0.008151544257998466, 0.01929440163075924, 0.00600393395870924, 0.022157881408929825, 0.02364075556397438, 0.007269489578902721, 0.017879705876111984, 0.015305982902646065, 0.01854444295167923, -0.01784561760723591, 0.003417427185922861, -0.0011281344341114163, 0.0011100246338173747, 0.017572905868291855, 0.013226551003754139, 0.01578322984278202, 0.00019814260303974152, 0.00014421265223063529, 0.014283311553299427, -0.014095822349190712, 0.02093067578971386, 0.006366129964590073, 0.012451025657355785, -0.0054372032172977924, -0.018118329346179962, -0.006762415170669556, -0.002731385175138712, -0.01329472940415144, -0.0005747200921177864, -0.005458509083837271, -0.0021209779661148787, -0.0018695712788030505, 0.002174242166802287, 0.01772630587220192, 0.0007909724954515696, 0.019260313361883163, 0.010167058557271957, -2.8529604605864733e-05, 0.011607320979237556, -0.01511849369853735, 0.0007078804192133248, -0.010192626155912876, -0.014283311553299427, 0.0157235749065876, 0.014573068358004093, -0.00015886028995737433, -0.003513302654027939, 0.009894346818327904, 0.015749141573905945, -0.006447091232985258, -0.035554878413677216, -0.016925213858485222, -0.005322152748703957, -0.010772139765322208, -0.01449636835604906, -0.0146497692912817, -0.00040534010622650385, 0.014155478216707706, 0.006770937237888575, -0.008454084396362305, -0.034668564796447754, -0.009621634148061275, 0.008053537458181381, 0.015979241579771042, 0.009093253873288631, 0.013064628466963768, 0.013814587146043777, 0.0037924067582935095, -0.017947884276509285, 0.002234963234513998, 0.01297940593212843, -0.015510517172515392, 0.004504015669226646, -0.013558919541537762, 0.017692215740680695, 0.022345371544361115, -0.01034602615982294, 0.006050806492567062, -0.0023841029033064842, 5.68927607673686e-05, 0.0007558181532658637, 0.014061733148992062, -0.011164163239300251, 0.011343130841851234, -0.045917950570583344, -0.005620432086288929, 0.009536411613225937, 0.008607485331594944, 0.0002617932332213968, 0.014317400753498077, -0.013593008741736412, -0.006941382773220539, 0.025975855067372322, 0.009971046820282936, 0.004700027871876955, -0.010507949627935886, -0.003713575890287757, 0.0034983886871486902, 0.009272221475839615, -0.010371592827141285, -0.0014871347229927778, -0.023419177159667015, -0.013490741141140461, -0.030305165797472, -0.003317290684208274, 0.008062059991061687, -0.015195193700492382, -0.01621786504983902, -0.019089868292212486, -0.00042558048153296113, -0.008905763737857342, 0.011871511116623878, -0.01251068152487278, -0.0036794866900891066, 0.0041460804641246796, 0.002386233536526561, -0.024100957438349724, 0.010132970288395882, 0.02212379314005375, 0.008147282525897026, 0.009988091886043549, 0.003481344087049365, 0.0077893477864563465, 0.006161595694720745, 0.004717072006314993, -0.011760721914470196, -0.016754766926169395, 0.011121552437543869, -0.022277193143963814, -0.005645998753607273, -0.007414368446916342, -0.006263862829655409, -0.001095110666938126, -0.022976018488407135, 0.003197978949174285, -0.016626933589577675, 0.006609014235436916, 0.02086249738931656, -0.012740782462060452, -0.014948047697544098, 0.005330675281584263, 0.0038158430252224207, 0.012272058054804802, -0.0013326688203960657, 0.033850427716970444, -0.004084294196218252, -0.020777275785803795, -0.0038605849258601665, -0.0010018984321504831, 0.010448293760418892, 0.007013821974396706, -0.01003070268779993, 0.015587218105793, -0.000537967833224684, 0.010414204560220242, -0.019089868292212486, 0.0028059547767043114, 0.0009065556805580854, -0.016703633591532707, -0.002899699844419956, -0.013550397008657455, -0.01922622323036194, -0.012331713922321796, 0.032912977039813995, 0.01317541766911745, 0.01987391524016857, -0.002556678606197238, 0.008002404123544693, 0.000657279510051012, -0.038247913122177124, -0.01741950400173664, 0.020146628841757774, -0.009979569353163242, 0.019942093640565872, -0.002782518742606044, 0.014155478216707706, -0.0011931167682632804, -0.0008879132219590247, -0.033424314111471176, 0.002234963234513998, -0.025481564924120903, -0.026981482282280922, -0.008351816795766354, 0.023419177159667015, 0.014803169295191765, -0.004414531867951155, 0.015876974910497665, 0.02352144382894039, 0.0015510517405346036, -0.01654171198606491, -0.015152582898736, 0.008002404123544693, -1.7543876310810447e-05, -0.0008117454708553851, 0.0023052720353007317, -0.015945153310894966, 0.004836383741348982, 0.005079268477857113, 0.009093253873288631, 0.010243759490549564, 0.012629993259906769, -0.01689964532852173, 0.025805409997701645, 0.02570314332842827, 0.019072823226451874, -0.009306310676038265, 0.02464638277888298, -0.015876974910497665, 0.023657800629734993, -0.01760699413716793, -0.010380115360021591, -0.003984157461673021, -0.011334609240293503, -0.0033449879847466946, 0.010380115360021591, 0.010064791887998581, 0.01081475056707859, -0.016695111989974976, -0.0005361035582609475, 0.005863316357135773, -0.0012889922363683581, -0.00015832766075618565, -0.0005342393415048718, -0.006455613765865564, 0.0181012861430645, -0.05249713733792305, -0.014726469293236732, -0.00037497954326681793, -0.008236766792833805, 0.005671565420925617, -0.011164163239300251, 0.014419668354094028, -0.02495318464934826, 0.009894346818327904, 0.00924665480852127, 0.009885824285447598, 0.004580716136842966, -0.006191423628479242, -0.020964765921235085, -0.014445235021412373, -0.0014796778559684753, -0.0036475283559411764, 0.004542365670204163, 0.000989115098491311, 0.0007190658943727612, 0.009186998941004276, -0.0004189224564470351, -0.03100399114191532, 0.0022477468010038137, -0.008888719603419304, 0.012928271666169167, -0.002899699844419956, -0.01562130730599165, 0.004154602997004986, 0.01980573683977127, -0.017692215740680695, 0.006438569165766239, -0.011215297505259514, -0.00596984475851059, -0.006357607897371054, -0.006161595694720745, 0.019822781905531883, -0.014044688083231449, 0.022430595010519028, 0.009272221475839615, -0.0036794866900891066, 0.025311119854450226, -0.0016629064921289682, -0.011010763235390186, -0.002739907242357731, 0.002940180478617549, -0.020521607249975204, -0.007870309054851532, -0.0054414644837379456, 0.00026632071239873767, 0.0012580989859998226, -0.0034195578191429377, -0.01336290780454874, 0.007699863985180855, 0.00564173748716712, -0.010857362300157547, 0.005028134677559137, 0.03214597329497337, -0.011394265107810497, 0.011044852435588837, -0.013183940201997757, -0.004406009800732136, 0.0019377494463697076, -0.010763617232441902, 0.0004013452853541821, 0.01784561760723591, 0.01805015094578266, -0.0077893477864563465, 0.0049130842089653015, -0.011598799377679825, 0.02099885419011116, 0.0027910408098250628, 0.011862989515066147, -0.006881726905703545, 0.014036166481673717, -0.00020440113439690322, -0.013030539266765118, -0.03463447466492653, 0.01786266267299652, -0.007964054122567177, -0.0061104618944227695, -0.005432942416518927, 0.0010333242826163769, 0.013379951938986778, 0.003178803948685527, 0.010951107367873192, -0.0029550944454967976, 0.008194155059754848, -0.007410107180476189, -0.0032299375161528587, 0.011811855249106884, 0.00832625012844801, 0.013269162736833096, -0.01924326829612255, 0.015766184777021408, 0.024237314239144325, 0.0007973641622811556, 0.03093581274151802, -0.008100409992039204, 0.016950780525803566, -0.01634569838643074, 0.00857765693217516, 0.0039884187281131744, -0.023402132093906403, -0.010559082962572575, -0.002637640107423067, 0.006600492168217897, -0.017138268798589706, 0.0020528000313788652, 0.006830593105405569, -0.005211363546550274, -0.011019284836947918, -0.024305492639541626, -0.02162950113415718, 0.0036965312901884317, 0.030646055936813354, 0.015092927031219006, -0.003210762282833457, 0.003078667214140296, -0.009485278278589249, 0.008586179465055466, 0.011121552437543869, 0.003197978949174285, 0.017070092260837555, -0.009161432273685932, -0.0047809891402721405, 0.00166184117551893, 0.016200819984078407, 0.00921256560832262, 0.033287957310676575, -0.004461404401808977, 0.009860257618129253, -0.0382138229906559, -0.003922371193766594, -0.006259601563215256, 0.00882906373590231, -0.006920076906681061, 0.011181208305060863, -0.004035291261970997, -0.011726632714271545, -0.008275116793811321, 0.0031681510154157877, 0.015510517172515392, 0.000444489240180701, -0.014837258495390415, 0.005726960487663746, -0.007597596850246191, -0.008300683461129665, -0.02633379027247429, -0.01609855331480503, -0.012127179652452469, 0.0017374762101098895, 0.0018248293781653047, 0.021407922729849815, 0.012485113926231861, -0.0046275886707007885, 0.0029593557119369507, 0.007780825719237328, -0.007197050377726555, 0.025106584653258324, 0.013865720480680466, -0.01043124869465828, 0.030458565801382065, 0.005488337017595768, 0.020777275785803795, 0.01641387678682804, 0.012885660864412785, 0.010056269355118275, -0.01235728058964014, -0.011845944449305534, 5.3963231039233506e-05, 0.013414041139185429, 0.009519367478787899, -0.002531111938878894, 0.003157498314976692, 0.023589622229337692, 0.011300520040094852, -0.005901666823774576, 0.007870309054851532, -0.011777766980230808, -0.011479487642645836, -0.007482546381652355, 0.002141218399628997, -0.026998527348041534, 0.000975799048319459, 0.014675335958600044, 0.008036493323743343, -0.0071288724429905415, -0.011607320979237556, 0.0002615269331727177, 0.020163672044873238, 0.0037284898571670055, 0.007367495913058519, 0.011922645382583141, -0.007103305775672197, -0.011121552437543869, -0.009519367478787899, -0.020828409120440483, 0.004152472130954266, -0.002872002311050892, -0.004989784676581621, 0.032282330095767975, -0.0024075391702353954, 0.007802131120115519, -0.011453920975327492, 0.01232319138944149, 0.00039442096021957695, -0.010618738830089569, 0.006630320101976395, -0.03264026343822479, -0.007205572910606861, 0.0038499319925904274, 0.0006237230845727026, -0.010456816293299198, -0.010942584834992886, -0.0141469556838274, -0.00528380274772644, -0.004861950874328613, -0.009519367478787899, 0.02691330388188362, -0.006719803903251886, 0.0011973778018727899, -0.019515980035066605, 0.0035900031216442585, -0.005219885613769293, 0.012382847256958485, 0.02118634432554245, -0.007371756713837385, -0.001378475921228528, -0.015297461301088333, 0.005999672692269087, -0.01178628858178854, -0.013286206871271133, -0.013558919541537762, -0.025754276663064957, -0.011223819106817245, 0.005778093822300434, 0.02716897241771221, 0.011095985770225525, -0.014223655685782433, -0.01081475056707859, 0.00499830674380064, 0.004486971069127321, 0.017572905868291855, -0.0014317401219159365, -0.014027643948793411, -0.0023798418696969748, -1.490563681727508e-05, 0.017521770671010017, -0.009732423350214958, -0.005390331149101257, 0.047315601259469986, 0.024373671039938927, 0.026316745206713676, -0.005859055556356907, 0.02401573583483696, 0.019260313361883163, 0.023674845695495605, -0.0032576348166912794, 0.011624366044998169, 0.01178628858178854, 0.00457219360396266, -0.01228910218924284, 0.014990659430623055, 0.0050323959439992905, -0.007418629247695208, -0.01765812747180462, -0.014070254750549793, -0.015689484775066376, -0.008705491200089455, 0.013320296071469784, 0.012544769793748856, -0.014232178218662739, -0.027424640953540802, -0.004452881868928671, 0.02024889551103115, -0.019890960305929184, -0.011897077783942223, -0.013115761801600456, -0.014547501690685749, -0.004048074595630169, 0.008292160928249359, 0.007376017980277538, 0.020453428849577904, -0.004942912142723799, 0.012783393263816833, 0.014061733148992062, -0.003907457459717989, -0.02043638564646244, -0.002882655244320631, -0.011803333647549152, 0.0008410407463088632, -0.0030999728478491306, -0.012220923788845539, 0.030219942331314087, -0.0049130842089653015, -0.022089704871177673, 0.01641387678682804, -0.03879333660006523, 0.0023500139359384775, 0.01275782659649849, -0.0071416557766497135, 0.007154439110308886, -0.013388474471867085, -0.025669055059552193, -0.005859055556356907, 0.021220432594418526, 0.029401805251836777, -0.0014924611896276474, -0.0015158974565565586, 0.0042504784651100636, -0.003964982461184263, -0.009877301752567291, 0.011726632714271545, -0.014590113423764706, 0.029401805251836777, 0.031174436211586, -0.014385579153895378, -0.01310723926872015, 0.000834116421174258, 0.005897405557334423, 0.004073641262948513, 0.0011750069679692388, 0.017760394141077995, -0.00914438720792532, -0.014377056621015072, 0.000818137195892632, -0.003926632460206747, 0.020709097385406494, 0.003400382585823536, -0.008036493323743343, -0.012723737396299839, -0.011326086707413197, -0.000592829892411828, -0.00567582668736577, 0.030969901010394096, 0.011095985770225525, -0.0010056269820779562, -0.006651625968515873, -0.012076045386493206, 0.015476427972316742, 0.0009736684733070433, 0.0013102978700771928, 0.006600492168217897, 0.014138433150947094, -0.010192626155912876, 0.003166020382195711, 0.009928436018526554, -0.0021625240333378315, 0.018016062676906586, -0.005726960487663746, 0.0068689435720443726, 0.01646501012146473, -0.0065706642344594, 6.784519791835919e-05, -0.013396996073424816, -0.013967988081276417, -0.006664409302175045, -0.004665938671678305, 0.000779254361987114, -0.005190057680010796, 0.016516145318746567, -0.0016852773260325193, -0.021476101130247116, -0.007427151780575514, 0.005837749689817429, -0.014564546756446362, 0.007094783242791891, 0.02314646542072296, 0.016192298382520676, 0.004423053935170174, -0.021339744329452515, 0.012451025657355785, 0.008880197070538998, 0.0032533735502511263, -0.020385252311825752, 0.007597596850246191, 0.003864845959469676, -0.041656818240880966, -0.02834504470229149, 0.01376345381140709, 0.017197925597429276, -0.015075881965458393, 0.009272221475839615, -0.03371407091617584, 0.013431085273623466, 0.017692215740680695, 0.011010763235390186, -0.00035873398883268237, 0.012408413924276829, -0.00795553158968687, 0.0272882841527462, 0.001674624509178102, 0.00911029800772667, -0.004048074595630169, -0.0029806613456457853, 0.012894182465970516, 0.015178149566054344, 0.0031766733154654503, 0.0014019121881574392, 0.003675225656479597, 0.008543567731976509, 0.005381808616220951, 0.008603223599493504, -0.000850095646455884, -0.0041205137968063354, 0.007687080651521683, 0.006084895227104425, -0.007614641450345516, -0.009340399876236916, 0.0029231358785182238, 0.007972576655447483, 0.001388063421472907, -0.0165928453207016, -0.0015638351906090975, -0.01873193308711052, -0.014879870228469372, 0.003583611221984029, 0.011530620977282524, 0.003317290684208274, -0.0004247815231792629, 0.007286534179002047, 0.01583436317741871, 0.009544934146106243, -0.020282983779907227, -0.021084077656269073, 0.01577470824122429, 0.012297624722123146, -0.0009417099645361304, -0.01566391810774803, 0.0023393610026687384, -0.008752363733947277, -0.001146244234405458, 0.002744168508797884, 0.007503851782530546, 0.0015446600737050176, 0.0029380498453974724, -0.01310723926872015, 0.002586506539955735, 0.0007707321201451123, -0.006400219164788723, -0.020282983779907227, 0.014334444887936115, 0.0020432122983038425, 0.03490718826651573, 0.012570337392389774, 0.007239661645144224, 0.017325758934020996, -0.0008772604051046073, -0.016695111989974976, -0.0008980333805084229, -0.004597760736942291, 0.02866888977587223, -0.006131767760962248, -0.006476919166743755, 0.014061733148992062, -0.005765310488641262, -0.02023185044527054, 0.007133133709430695, 0.022976018488407135, -0.011181208305060863, -0.0012485114857554436, -0.013627097941935062, 0.0062297736294567585, 0.012425458058714867, 0.007878831587731838, 0.014922481030225754, -0.0006812483188696206, 0.015894019976258278, -0.04370216280221939, 0.003178803948685527, -0.018970556557178497, -0.00703938864171505, -0.012024912051856518, 0.008794974535703659, -0.0069882553070783615, -0.007081999909132719, -0.009902868419885635, 0.01395946554839611, -0.005974106024950743, -0.002984922379255295, -0.030066542327404022, 0.018595576286315918, -0.04104321449995041, 0.010047747753560543, -0.009059164673089981, -0.008070582523941994, 0.026811037212610245, 0.00012543704360723495, 0.009357444010674953, -0.031839173287153244, -0.00854782946407795, -0.002699426608160138, -0.01131756417453289, 0.025549743324518204, -0.003310899017378688, -0.004717072006314993, -0.011666976846754551, 0.0014168261550366879, 0.007197050377726555, 0.0161582101136446, 0.0017449331935495138, 0.017555860802531242, -0.01376345381140709, 0.016959302127361298, 0.012220923788845539, -0.004305873066186905, 0.006157334428280592, 0.003719967557117343, 0.0009864518651738763, 0.005351980682462454, -0.007222617510706186, -0.008219721727073193, 0.008292160928249359, 0.023350998759269714, -0.004704288672655821, -0.008846107870340347, 0.025686098262667656, 0.000995506765320897, -0.001561704557389021, -0.013789020478725433, -0.005479814484715462, -0.010371592827141285, -0.006813548970967531, -0.020282983779907227, -0.0035537832882255316, -0.0012762087862938643, 0.026248568668961525, -0.02036820724606514, -0.013865720480680466, -0.02074318565428257, -0.006954166106879711, 0.00870975200086832, -0.005390331149101257, 0.024186180904507637, 0.021765857934951782, -0.015536083839833736, -0.0009624829981476068, 0.012561814859509468, 0.010209670290350914, 0.004440098535269499, 0.008130238391458988, -0.0005789811839349568, -0.005253974813967943, 0.019652336835861206, 0.007589074783027172, 0.00832625012844801, -0.01461568009108305, 0.017624039202928543, -0.002032559597864747, 0.012723737396299839, 0.00482360040768981, 0.01216979045420885, -0.020470473915338516, -0.00550112035125494, -0.029691562056541443, 0.020640918985009193, -0.011581754311919212, -0.01672067865729332, 0.0031042341142892838, 0.0005773832672275603, 0.004930128809064627, -0.0007888419204391539, -0.021834036335349083, -0.005104835145175457, 0.017572905868291855, -0.01753881573677063, 0.030577877536416054, 2.763077281997539e-05, 0.005586342886090279, 0.0004751161322928965, 0.0015020486898720264, 0.008939852938055992, -0.0035473916213959455, 0.008223983459174633, -0.013396996073424816, 0.021407922729849815, 0.00048070886987261474, -0.00242884480394423, 0.005633215419948101, 0.008786452934145927, 0.0017854139441624284, -0.03281071037054062, -0.008999508805572987, -0.009826168417930603, -0.024169135838747025, -0.014530457556247711, -0.0035175636876374483, -0.0067453705705702305, -0.0008357143378816545, 0.004610544070601463, -0.0031148868147283792, -0.006204206962138414, 0.01660136692225933, 0.002018710831180215, 0.006881726905703545, -0.0036858783569186926, 0.012553292326629162, 0.0027654741425067186, 0.013115761801600456, 0.009084731340408325, -0.0029742694459855556, 0.003187326015904546, 0.0262144785374403, -0.0029103525448590517, 0.03350953385233879, 0.01591106317937374, -0.0031191480811685324, -0.00443157646805048, -0.01260442566126585, -0.006042283959686756, 0.019601203501224518, -0.01153914351016283, 0.008812019601464272, -0.0077978698536753654, 0.007546463515609503, -0.004602021537721157, -0.0068902489729225636, -0.006153073627501726, 0.012911227531731129, -0.0003491464303806424, 0.001520158490166068, 0.010243759490549564, 0.0005270486581139266, -0.005884622223675251, 0.007580552250146866, -0.007371756713837385, 0.008662879467010498, 0.01395946554839611, 0.0004199877439532429, -0.00833051186054945, -0.01922622323036194, 0.0031681510154157877, -0.0033151600509881973, -0.04629293084144592, 0.007047911174595356, 0.004708549939095974, -0.037259332835674286, 0.0041119917295873165, -0.005769571755081415, 0.012084567919373512, -0.012536248192191124, 0.009221088141202927, 0.004832122940570116, 0.0029827917460352182, -0.008087626658380032, 0.005914450157433748, 0.006873204372823238, 0.008671401999890804, -0.0008591505466029048, 0.002015514997765422, 0.008407211862504482, 0.008083365857601166, -0.006127506494522095, -0.00864157360047102, -0.013533352874219418, -0.00011638214346021414, 0.022243104875087738, 0.007520896382629871, -0.002731385175138712, 0.0340549610555172, -0.019328491762280464, -0.017964929342269897, -0.0012943185865879059, 0.02294193021953106, -0.01866375468671322, -5.492864511325024e-05, -0.015510517172515392, -0.0029870530124753714, 0.003268287517130375, 0.004751161206513643, -0.007772303186357021, -0.0052965860813856125, 0.00546703115105629, -0.006609014235436916, 0.007874570786952972, 0.005884622223675251, -0.011811855249106884, 0.011479487642645836, 0.02899273671209812, -0.00592723349109292, -0.006762415170669556, 0.02144201286137104, 0.007341928780078888, -0.011095985770225525, 0.0330493338406086, 0.0003917577560059726, 0.0010706091998144984, -0.006800765171647072, -0.025055451318621635, 0.007874570786952972, 0.003442994086071849, 0.029589295387268066, 0.007652991451323032, 0.003374815918505192, -0.006638842169195414, -0.021459056064486504, -0.010303415358066559, 0.003700792323797941, -0.01578322984278202, 0.0013475827872753143, -0.010473860427737236, -0.004989784676581621, 0.008454084396362305, 0.008956898003816605, 0.020095495507121086, 0.011769244447350502, 0.004150341730564833, -0.0009912456152960658, -0.0034131661523133516, -0.0005009492160752416, 0.011556187644600868, -0.01885124482214451, 0.016141165047883987, 0.028634801506996155, 0.021084077656269073, 0.01150505430996418, 0.013933898881077766, -0.0026440320070832968, -0.0014423929387703538, 0.022993063554167747, -0.0273564625531435, 0.008343295194208622, -0.0011877903016284108, -0.011530620977282524, 0.0016000547911971807, 0.003146845381706953, 0.0018535921117290854, 0.008914286270737648, -0.03408905118703842, -0.002573723206296563, 0.005092051811516285, -0.0037924067582935095, -0.0019153784960508347, 0.0033854686189442873, 0.0033577713184058666, 0.014360012486577034, -0.008351816795766354, 0.0062084682285785675, 0.01197377871721983, -0.01873193308711052, 0.008714012801647186, -0.0006407676264643669, 0.014734991826117039, 0.015348594635725021, 0.005330675281584263, 0.010891451500356197, -0.016942257061600685, 0.0009465037728659809, -0.0024565421044826508, -0.02282261848449707, -0.012186835519969463, 0.02539634145796299, 0.012084567919373512, -0.0064598750323057175, -0.00524971354752779, 0.01728314720094204, -0.003053100546821952, 0.0017151052597910166, 0.0015031140064820647, -0.01698486879467964, -0.010738050565123558, -0.011931166984140873, 0.07008708268404007, 0.010081836022436619, -0.006332040764391422, 0.01225501298904419, -0.009417099878191948, 0.009544934146106243, 0.00474689994007349, 0.004141819663345814, -0.015067359432578087, 0.010882928967475891, 0.012212402187287807, -0.004580716136842966, 0.005339197348803282, -0.013661186210811138, -0.0026610763743519783, 0.015340072102844715, 0.003700792323797941, 0.023282820358872414, -0.02476569451391697, 0.01511849369853735, -0.005339197348803282, -0.022226059809327126, 0.02023185044527054, 0.01691669039428234, 0.015348594635725021, -0.003272548783570528, 0.01779448427259922, -0.02023185044527054, -0.024475937709212303, 0.005207102280110121, -0.005744004622101784, 0.017504727467894554, 0.0024096695706248283, -0.0014317401219159365, -0.016396833583712578, -0.000753687578253448, 0.0035111720208078623, 0.014888392761349678, -0.0031745426822453737, 0.010789183899760246, -0.009076209738850594, -0.004197214264422655, -0.017274625599384308, -0.006157334428280592, -0.0018365475116297603, -0.008696968667209148, 0.00424621719866991, 0.012519203126430511, -0.014129910618066788, -0.0005329077248461545, 0.002012319164350629, 0.005820705089718103, 0.0042590005323290825, -0.0003890945517923683, -0.0075251576490700245, -0.009357444010674953, 0.006621798034757376, -0.0140787772834301, 0.0042504784651100636, -0.017376892268657684, -0.004499754402786493, 0.020214805379509926, -7.050840213196352e-05, -0.02338508702814579, -0.0057013933546841145, -0.004229172598570585, 0.016626933589577675, 0.017274625599384308, -0.02967451699078083, 0.023930512368679047, -0.02647014707326889, 0.0165928453207016, -0.014786125160753727, -0.008300683461129665, -0.013720842078328133, -0.010951107367873192, 0.008313466794788837, -0.005769571755081415, 0.025174763053655624, -0.014803169295191765, -0.0027100795414298773, -0.013183940201997757, -0.00182269886136055, -0.007763781119138002, -0.0011196122504770756, 0.0038989349268376827, 0.06671226769685745, 0.0002091949136229232, -0.005411636549979448, 0.011044852435588837, 0.006101939827203751, -0.004763944540172815, -0.0018993992125615478, -0.01741950400173664, 0.005637476686388254, -7.47029553167522e-05, -0.0047809891402721405, 0.015220760367810726, 0.03572532534599304, 0.00924665480852127, -0.007316362112760544, -0.008769407868385315, -0.023044196888804436, -0.0024608031380921602, 0.003185195615515113, -0.003783884458243847, -0.005343458615243435, 0.015442339703440666, 0.0040992083959281445, -0.02212379314005375, -0.002831521676853299, -0.008454084396362305, 0.008820541203022003, 0.010013658553361893, 0.011743677780032158, 0.06381469964981079, -0.009229609742760658, -0.010167058557271957, -0.010226714424788952, 0.010899973101913929, 0.014189566485583782, 0.011888556182384491, -0.03569123521447182, 0.013047583401203156, -0.008275116793811321, -0.023419177159667015, 0.00845834519714117, -0.0020858237985521555, -0.017692215740680695, -0.010831795632839203, -0.006199945695698261, -0.0033641629852354527, 0.0085137402638793, 0.02369188889861107, 0.0012027042685076594, -0.020419340580701828, 0.010294892825186253, -0.01442818995565176, -0.003756187157705426, 0.019788693636655807, 0.013976510614156723, 0.028617756441235542, -0.007959793321788311, -0.006528052967041731, -0.00042558048153296113, 0.010618738830089569, 0.0038669765926897526, -0.0011750069679692388, -0.010917018167674541, -0.009186998941004276, -0.03068014420568943, 0.0017108441097661853, 0.004691505338996649, 0.002940180478617549, -0.02067500911653042, 0.0021944826003164053, -0.013627097941935062, -0.004190822597593069, 0.01430035661906004, -0.009016553871333599, -0.015808796510100365, 0.006438569165766239, 0.012578858993947506, -0.021527234464883804, -0.007947009988129139, -0.021919257938861847, 0.00036539198481477797, -0.010823273099958897, -0.020981809124350548, -0.0027974327094852924, -0.017709260806441307, -0.01131756417453289, 0.010132970288395882, -0.023913467302918434, 0.0038307569921016693, -0.025413386523723602, 0.004580716136842966, 0.0047809891402721405, -0.0004159929230809212, -0.0047937724739313126, -0.010559082962572575, -0.012263535521924496, 0.010235236957669258, 0.019601203501224518, -0.0038882822263985872, 0.012408413924276829, -0.0022200492676347494, -0.00339399091899395, 0.023112375289201736, -0.008633051998913288, 0.00026072797481901944, 0.0027846491429954767, -0.0013933898881077766, 0.004199344664812088, 0.0018493309617042542, -0.004849167075008154, 0.0007771237869746983, -0.010840318165719509, 0.025413386523723602, 0.005522426217794418, -0.003400382585823536, 0.004086424596607685, 0.03763430938124657, -0.0321800634264946, -0.015144060365855694, -0.00510909641161561, -0.020794320851564407, 0.008441301062703133, -0.006417263764888048, -0.020606830716133118, 0.007192789576947689, -0.006796504370868206, 0.0008229309460148215, -0.005931494757533073, 0.0005614040419459343, 0.02106703259050846, -0.007209834177047014, 0.0029550944454967976, -0.01354187447577715, -0.0014913958730176091, 0.009936957620084286, 0.023402132093906403, -0.010831795632839203, -0.005390331149101257, 0.0031106257811188698, 0.0012772741029039025, 0.0027782574761658907, 0.0020911500323563814, 0.0005789811839349568, 0.015186671167612076, -0.029384760186076164, -0.0032832014840096235, -0.011147119104862213, -0.015936629846692085, 0.021578367799520493, 0.006378913298249245, -0.006928599439561367, 0.008556351065635681, 0.008539306931197643, 0.004167386330664158, -0.02471456117928028, 0.009757990017533302, 0.00020173793018329889, -0.004201475530862808, -0.03262322023510933, 0.018186507746577263, -0.01786266267299652, 0.0020634527318179607, -0.008812019601464272, -0.013388474471867085, -0.005322152748703957, 0.014726469293236732, 0.002976400079205632, 0.020419340580701828, 0.002733515575528145, 0.02106703259050846, 0.015629829838871956, -0.006485441699624062, 0.002405408537015319, -0.006204206962138414, 0.0023627972695976496, 0.012374324724078178, 0.007567768916487694, -0.01524632703512907, 0.007508113048970699, -0.031225569546222687, -0.003187326015904546, -0.006728325970470905, -0.011794811114668846, 0.021271565929055214, -0.0165246669203043, -0.003777492791414261, 0.008760885335505009, -0.021356789395213127, -0.014828736893832684, 0.007593335583806038, -0.002367058303207159, -0.04789511486887932, -0.005611909553408623, 0.022601040080189705, -0.01691669039428234, 0.01634569838643074, -0.011249386705458164, -0.0013262770371511579, -0.007635946851223707, -0.009817645885050297, 0.009076209738850594, 0.009297788143157959, -0.014658290892839432, 0.0006460940348915756]\n"
     ]
    }
   ],
   "source": [
    "a = get_embedding('texto de teste', model)\n",
    "print(a)"
   ]
  },
  {
   "cell_type": "code",
   "execution_count": 199,
   "metadata": {},
   "outputs": [
    {
     "name": "stdout",
     "output_type": "stream",
     "text": [
      "LONDON, England (Reuters) -- Harry Potter star Daniel Radcliffe gains access to a reported £20 million ($41.1 million) fortune as he turns 18 on Monday, but he insists the money won't cast a spell on him.\n",
      "There is life beyond Potter, however.\n",
      "Earlier this year, he made his stage debut playing a tortured teenager in Peter Shaffer's \"Equus.\"\n",
      "Copyright 2007 Reuters.\n"
     ]
    }
   ],
   "source": [
    "summary = summarize_text(text=data[0]['article'], model=model, n_clusters=4)\n",
    "for sentence in summary:\n",
    "    print(sentence)"
   ]
  },
  {
   "cell_type": "markdown",
   "metadata": {},
   "source": [
    "## Implementação"
   ]
  },
  {
   "cell_type": "markdown",
   "metadata": {},
   "source": [
    "### Pré-Processamento"
   ]
  },
  {
   "cell_type": "code",
   "execution_count": null,
   "metadata": {},
   "outputs": [],
   "source": []
  },
  {
   "cell_type": "markdown",
   "metadata": {},
   "source": [
    "## Avaliação da Solução"
   ]
  },
  {
   "cell_type": "code",
   "execution_count": null,
   "metadata": {},
   "outputs": [],
   "source": []
  }
 ],
 "metadata": {
  "kernelspec": {
   "display_name": ".venv",
   "language": "python",
   "name": "python3"
  },
  "language_info": {
   "codemirror_mode": {
    "name": "ipython",
    "version": 3
   },
   "file_extension": ".py",
   "mimetype": "text/x-python",
   "name": "python",
   "nbconvert_exporter": "python",
   "pygments_lexer": "ipython3",
   "version": "3.8.10"
  }
 },
 "nbformat": 4,
 "nbformat_minor": 2
}
