{
 "cells": [
  {
   "cell_type": "markdown",
   "metadata": {},
   "source": [
    "# Sumarizador Automático de Texto usando Embeddings \n",
    "A proposta deste trabalho é desenvolver uma Prova de Conceito no intuito de demonstrar um sumarizador automático de texto capaz de gerar resumos extrativos de documentos usando embeddings para capturar a semântica das frases. Para os testes e avaliação, será utilizado o dataset CNN/DailyMail; ele contém artigos de notícias e seus resumos, e é amplamente utilizado para tarefas de sumarização. \n",
    "\n",
    "O pipeline de execução do sumarizador será composto, basicamente, pelas seguintes etapas: \n",
    "1. Pré-processar o texto\n",
    "2. Transformar cada frase do texto em um vetor (embedding); \n",
    "3. Aplicar clusterização nesses embeddings para agrupar frases contextualmente similares; \n",
    "4. Obter as frases mais representativas de cada cluster; \n",
    "5. Compor o resumo extrativo a partir das frases obtidas.\n",
    "\n",
    "Neste trabalho serão usados os modelos de embedding da OpenAI ``text-embedding-3-small``, ``text-embedding-3-large`` e ``text-embedding-ada-002``, sendo necessário acesso a uma chave de API da OpenAI para reproduzir."
   ]
  },
  {
   "cell_type": "markdown",
   "metadata": {},
   "source": [
    "---"
   ]
  },
  {
   "cell_type": "markdown",
   "metadata": {},
   "source": [
    "## Instalação de Dependências"
   ]
  },
  {
   "cell_type": "code",
   "execution_count": 1,
   "metadata": {},
   "outputs": [],
   "source": [
    "# Uncomment to install necessary libraries and packages\n",
    "# ! pip install numpy pandas nltk datasets spacy openai scikit-learn"
   ]
  },
  {
   "cell_type": "code",
   "execution_count": 2,
   "metadata": {},
   "outputs": [],
   "source": [
    "from datasets import load_dataset\n",
    "from nltk.cluster import KMeansClusterer\n",
    "from dotenv import load_dotenv\n",
    "from openai import OpenAI\n",
    "import pandas as pd\n",
    "import numpy as np\n",
    "import nltk\n",
    "import os\n",
    "import re"
   ]
  },
  {
   "cell_type": "code",
   "execution_count": 2,
   "metadata": {},
   "outputs": [],
   "source": [
    "# Uncomment to download relevant tools if not already downloaded\n",
    "# spacy.cli.download(\"en_core_web_sm\")\n",
    "# nltk.download('punkt')"
   ]
  },
  {
   "cell_type": "markdown",
   "metadata": {},
   "source": [
    "## Conexão com a OpenAI"
   ]
  },
  {
   "cell_type": "code",
   "execution_count": 3,
   "metadata": {},
   "outputs": [],
   "source": [
    "# Load enviroment variables\n",
    "load_dotenv()\n",
    "\n",
    "# Configure client with API key\n",
    "client_openai = OpenAI(\n",
    "    api_key=os.getenv('API_KEY'),\n",
    ")"
   ]
  },
  {
   "cell_type": "markdown",
   "metadata": {},
   "source": [
    "## Preparação dos Dados"
   ]
  },
  {
   "cell_type": "code",
   "execution_count": 4,
   "metadata": {},
   "outputs": [],
   "source": [
    "# Load CNN/DailyMail Dataset\n",
    "dataset = load_dataset('cnn_dailymail', '3.0.0')"
   ]
  },
  {
   "cell_type": "code",
   "execution_count": 19,
   "metadata": {},
   "outputs": [],
   "source": [
    "# Get data that will be used for evaluation\n",
    "train = dataset['train']\n",
    "data = train.select(range(20))"
   ]
  },
  {
   "cell_type": "code",
   "execution_count": 6,
   "metadata": {},
   "outputs": [
    {
     "name": "stdout",
     "output_type": "stream",
     "text": [
      "LONDON, England (Reuters) -- Harry Potter star Daniel Radcliffe gains access to a reported £20 million ($41.1 million) fortune as he turns 18 on Monday, but he insists the money won't cast a spell on him. Daniel Radcliffe as Harry Potter in \"Harry Potter and the Order of the Phoenix\" To the disappointment of gossip columnists around the world, the young actor says he has no plans to fritter his cash away on fast cars, drink and celebrity parties. \"I don't plan to be one of those people who, as soon as they turn 18, suddenly buy themselves a massive sports car collection or something similar,\" he told an Australian interviewer earlier this month. \"I don't think I'll be particularly extravagant. \"The things I like buying are things that cost about 10 pounds -- books and CDs and DVDs.\" At 18, Radcliffe will be able to gamble in a casino, buy a drink in a pub or see the horror film \"Hostel: Part II,\" currently six places below his number one movie on the UK box office chart. Details of how he'll mark his landmark birthday are under wraps. His agent and publicist had no comment on his plans. \"I'll definitely have some sort of party,\" he said in an interview. \"Hopefully none of you will be reading about it.\" Radcliffe's earnings from the first five Potter films have been held in a trust fund which he has not been able to touch. Despite his growing fame and riches, the actor says he is keeping his feet firmly on the ground. \"People are always looking to say 'kid star goes off the rails,'\" he told reporters last month. \"But I try very hard not to go that way because it would be too easy for them.\" His latest outing as the boy wizard in \"Harry Potter and the Order of the Phoenix\" is breaking records on both sides of the Atlantic and he will reprise the role in the last two films.  Watch I-Reporter give her review of Potter's latest » . There is life beyond Potter, however. The Londoner has filmed a TV movie called \"My Boy Jack,\" about author Rudyard Kipling and his son, due for release later this year. He will also appear in \"December Boys,\" an Australian film about four boys who escape an orphanage. Earlier this year, he made his stage debut playing a tortured teenager in Peter Shaffer's \"Equus.\" Meanwhile, he is braced for even closer media scrutiny now that he's legally an adult: \"I just think I'm going to be more sort of fair game,\" he told Reuters. E-mail to a friend . Copyright 2007 Reuters. All rights reserved.This material may not be published, broadcast, rewritten, or redistributed.\n",
      "\n",
      "Harry Potter star Daniel Radcliffe gets £20M fortune as he turns 18 Monday .\n",
      "Young actor says he has no plans to fritter his cash away .\n",
      "Radcliffe's earnings from first five Potter films have been held in trust fund .\n"
     ]
    }
   ],
   "source": [
    "# Content example from dataset\n",
    "print(data[0]['article'])  # Text\n",
    "print()\n",
    "print(data[0]['highlights'])  # Summary"
   ]
  },
  {
   "cell_type": "markdown",
   "metadata": {},
   "source": [
    "## Funções Auxiliares"
   ]
  },
  {
   "cell_type": "code",
   "execution_count": 7,
   "metadata": {},
   "outputs": [],
   "source": [
    "# Function to get embedding from text\n",
    "def get_embedding(text, model):\n",
    "   text = text.replace(\"\\n\", \" \")\n",
    "   return client_openai.embeddings.create(input = [text], model=model).data[0].embedding"
   ]
  },
  {
   "cell_type": "code",
   "execution_count": 8,
   "metadata": {},
   "outputs": [],
   "source": [
    "# Calculate similarity between embeddings\n",
    "def cosine_similarity(vec1, vec2):\n",
    "    return np.dot(vec1, vec2) / (np.linalg.norm(vec1) * np.linalg.norm(vec2))"
   ]
  },
  {
   "cell_type": "code",
   "execution_count": 9,
   "metadata": {},
   "outputs": [],
   "source": [
    "# Split text in sentences\n",
    "def tokenize_sentences(text):\n",
    "    sentences = nltk.sent_tokenize(text)\n",
    "    sentences = [sentence.strip() for sentence in sentences]\n",
    "    return sentences"
   ]
  },
  {
   "cell_type": "code",
   "execution_count": 10,
   "metadata": {},
   "outputs": [],
   "source": [
    "# Assign clusters to embeddings and find their centroids\n",
    "def kmeans_clustering(data, n_clusters, iterations=25):\n",
    "    embeddings = np.array(data[\"embeddings\"].tolist())\n",
    "    kclusterer = KMeansClusterer(\n",
    "            n_clusters, \n",
    "            distance=nltk.cluster.util.cosine_distance,\n",
    "            repeats=iterations, \n",
    "            avoid_empty_clusters=True)\n",
    "    \n",
    "    assigned_clusters = kclusterer.cluster(embeddings, assign_clusters=True)\n",
    "    data['cluster'] = pd.Series(assigned_clusters, index=data.index)\n",
    "    data['centroid'] = data['cluster'].apply(lambda x: kclusterer.means()[x])\n",
    "    return data"
   ]
  },
  {
   "cell_type": "code",
   "execution_count": 11,
   "metadata": {},
   "outputs": [],
   "source": [
    "# Calculate distance of each embedding from its cluster centroid\n",
    "def distance_from_centroid(data):\n",
    "    def euclidean_distance(embedding, centroid):\n",
    "        return np.linalg.norm(np.array(embedding) - np.array(centroid))\n",
    "\n",
    "    # Apply to each row\n",
    "    data['distance_from_centroid'] = data.apply(\n",
    "        lambda row: euclidean_distance(row[\"embeddings\"], row[\"centroid\"]), axis=1)\n",
    "    return data"
   ]
  },
  {
   "cell_type": "markdown",
   "metadata": {},
   "source": [
    "## Implementação"
   ]
  },
  {
   "cell_type": "markdown",
   "metadata": {},
   "source": [
    "### Pré-Processamento do Texto\n",
    "Para obter resultados de melhor qualidade no dataset CNN/DailyMail, foi realizado um pré-processamento de texto nos artigos que iremos utilizar. Isso consistiu de:\n",
    "- Remover frases poluentes no início e fim dos artigos, que geralmente são informações referentes ao canal de notícias de onde o texto foi retirado e sem relação direta com o artigo em si.\n",
    "- Limpar o texto de espaços desnecessários e caracteres especiais soltos.\n",
    "- Remover frases muito curtas, com menos de 3 palavras.\n",
    "\n",
    "Devido ao fato da nossa solução usar embeddings gerados por LLMs treinadas em corpus massivo de dados, e que são capazes de captar as nuances e semântica intrínseca do texto ao invés de pura sintaxe, consideramos desnecessário aplicar técnicas de pré-processamento mais drásticas como remoção de stopwords e stemming, além de que nesse processo parte do significado e contexto poderia ser perdido, o que reduziria o desempenho."
   ]
  },
  {
   "cell_type": "code",
   "execution_count": 67,
   "metadata": {},
   "outputs": [],
   "source": [
    "# Remove sentences at the beginning and end of text that are not useful\n",
    "def remove_polluting_phrases(text):\n",
    "    text = re.sub(r\"Editor's note:\", '', text, flags=re.IGNORECASE).strip()\n",
    "\n",
    "    start_phrase = text.find(\"--\")\n",
    "    if start_phrase != -1:\n",
    "        text = text[start_phrase + 3:]\n",
    "\n",
    "    end_phrase = text.find(\"E-mail to a friend\")\n",
    "    if end_phrase != -1:\n",
    "        text = text[:end_phrase]\n",
    "    \n",
    "    return text"
   ]
  },
  {
   "cell_type": "code",
   "execution_count": 13,
   "metadata": {},
   "outputs": [],
   "source": [
    "# Remove unnecessary spaces and stray special characters\n",
    "def clean_text(text):\n",
    "    text = re.sub(r'\\s+', ' ', text).strip()\n",
    "    text = re.sub(r'\\s+\\.', '.', text).strip()\n",
    "    text = re.sub(r'\\s[^\\w\\s]\\s', ' ', text)\n",
    "    return text"
   ]
  },
  {
   "cell_type": "code",
   "execution_count": 14,
   "metadata": {},
   "outputs": [],
   "source": [
    "# Remove sentences with few words\n",
    "def remove_short_sentences(text, min_length=3):\n",
    "    sentences = tokenize_sentences(text)\n",
    "    filtered_sentences = [sentence.strip() for sentence in sentences if len(sentence.split()) > min_length]\n",
    "    return ' '.join(filtered_sentences)"
   ]
  },
  {
   "cell_type": "code",
   "execution_count": 15,
   "metadata": {},
   "outputs": [],
   "source": [
    "def preprocess_text(text):\n",
    "    text = remove_polluting_phrases(text)\n",
    "    text = remove_short_sentences(text)\n",
    "    text = clean_text(text)\n",
    "    return text"
   ]
  },
  {
   "cell_type": "code",
   "execution_count": 16,
   "metadata": {},
   "outputs": [
    {
     "name": "stdout",
     "output_type": "stream",
     "text": [
      "No Preprocessing:\n",
      "LONDON, England (Reuters) -- Harry Potter star Daniel Radcliffe gains access to a reported £20 million ($41.1 million) fortune as he turns 18 on Monday, but he insists the money won't cast a spell on him. Daniel Radcliffe as Harry Potter in \"Harry Potter and the Order of the Phoenix\" To the disappointment of gossip columnists around the world, the young actor says he has no plans to fritter his cash away on fast cars, drink and celebrity parties. \"I don't plan to be one of those people who, as soon as they turn 18, suddenly buy themselves a massive sports car collection or something similar,\" he told an Australian interviewer earlier this month. \"I don't think I'll be particularly extravagant. \"The things I like buying are things that cost about 10 pounds -- books and CDs and DVDs.\" At 18, Radcliffe will be able to gamble in a casino, buy a drink in a pub or see the horror film \"Hostel: Part II,\" currently six places below his number one movie on the UK box office chart. Details of how he'll mark his landmark birthday are under wraps. His agent and publicist had no comment on his plans. \"I'll definitely have some sort of party,\" he said in an interview. \"Hopefully none of you will be reading about it.\" Radcliffe's earnings from the first five Potter films have been held in a trust fund which he has not been able to touch. Despite his growing fame and riches, the actor says he is keeping his feet firmly on the ground. \"People are always looking to say 'kid star goes off the rails,'\" he told reporters last month. \"But I try very hard not to go that way because it would be too easy for them.\" His latest outing as the boy wizard in \"Harry Potter and the Order of the Phoenix\" is breaking records on both sides of the Atlantic and he will reprise the role in the last two films.  Watch I-Reporter give her review of Potter's latest » . There is life beyond Potter, however. The Londoner has filmed a TV movie called \"My Boy Jack,\" about author Rudyard Kipling and his son, due for release later this year. He will also appear in \"December Boys,\" an Australian film about four boys who escape an orphanage. Earlier this year, he made his stage debut playing a tortured teenager in Peter Shaffer's \"Equus.\" Meanwhile, he is braced for even closer media scrutiny now that he's legally an adult: \"I just think I'm going to be more sort of fair game,\" he told Reuters. E-mail to a friend . Copyright 2007 Reuters. All rights reserved.This material may not be published, broadcast, rewritten, or redistributed.\n",
      "\n",
      "With Preprocessing:\n",
      "Harry Potter star Daniel Radcliffe gains access to a reported £20 million ($41.1 million) fortune as he turns 18 on Monday, but he insists the money won't cast a spell on him. Daniel Radcliffe as Harry Potter in \"Harry Potter and the Order of the Phoenix\" To the disappointment of gossip columnists around the world, the young actor says he has no plans to fritter his cash away on fast cars, drink and celebrity parties. \"I don't plan to be one of those people who, as soon as they turn 18, suddenly buy themselves a massive sports car collection or something similar,\" he told an Australian interviewer earlier this month. \"I don't think I'll be particularly extravagant. \"The things I like buying are things that cost about 10 pounds -- books and CDs and DVDs.\" At 18, Radcliffe will be able to gamble in a casino, buy a drink in a pub or see the horror film \"Hostel: Part II,\" currently six places below his number one movie on the UK box office chart. Details of how he'll mark his landmark birthday are under wraps. His agent and publicist had no comment on his plans. \"I'll definitely have some sort of party,\" he said in an interview. \"Hopefully none of you will be reading about it.\" Radcliffe's earnings from the first five Potter films have been held in a trust fund which he has not been able to touch. Despite his growing fame and riches, the actor says he is keeping his feet firmly on the ground. \"People are always looking to say 'kid star goes off the rails,'\" he told reporters last month. \"But I try very hard not to go that way because it would be too easy for them.\" His latest outing as the boy wizard in \"Harry Potter and the Order of the Phoenix\" is breaking records on both sides of the Atlantic and he will reprise the role in the last two films. Watch I-Reporter give her review of Potter's latest ». There is life beyond Potter, however. The Londoner has filmed a TV movie called \"My Boy Jack,\" about author Rudyard Kipling and his son, due for release later this year. He will also appear in \"December Boys,\" an Australian film about four boys who escape an orphanage. Earlier this year, he made his stage debut playing a tortured teenager in Peter Shaffer's \"Equus.\" Meanwhile, he is braced for even closer media scrutiny now that he's legally an adult: \"I just think I'm going to be more sort of fair game,\" he told Reuters.\n"
     ]
    }
   ],
   "source": [
    "# Sample data for testing\n",
    "text = data[0]['article']\n",
    "print(\"No Preprocessing:\")\n",
    "print(text)\n",
    "print(\"\\nWith Preprocessing:\")\n",
    "print(preprocess_text(text))"
   ]
  },
  {
   "cell_type": "markdown",
   "metadata": {},
   "source": [
    "### Sumarização"
   ]
  },
  {
   "cell_type": "code",
   "execution_count": 63,
   "metadata": {},
   "outputs": [],
   "source": [
    "# Summarize text\n",
    "def summarize_text(text, model, n_clusters=3, output_as_list=False):\n",
    "    # Preprocess text\n",
    "    text = preprocess_text(text)\n",
    "\n",
    "    # Create a dataframe with the text sentences\n",
    "    sentences = tokenize_sentences(text)\n",
    "    df_sentences = pd.DataFrame({\"sentences\" : sentences})\n",
    "\n",
    "    # Transform sentences into embeddings using an NLP model\n",
    "    df_sentences['embeddings'] = df_sentences['sentences'].apply(lambda x: get_embedding(x, model))\n",
    "\n",
    "    # Cluster sentence embeddings with KMeans\n",
    "    df_sentences = kmeans_clustering(df_sentences, n_clusters)\n",
    "\n",
    "    # Find distance of each embedding to its cluster's centroid\n",
    "    df_sentences = distance_from_centroid(df_sentences)\n",
    "\n",
    "    # Compose summary with each cluster's most meaninful sentence - embedding with the least distance to centroid\n",
    "    summary = df_sentences.sort_values('distance_from_centroid', ascending = True) \\\n",
    "                            .groupby('cluster').head(1) \\\n",
    "                            .sort_index()['sentences'] \\\n",
    "                            .tolist()\n",
    "    if output_as_list: \n",
    "        return summary\n",
    "    else:\n",
    "        # Format summary as a string\n",
    "        summary_str = ' '.join(summary)\n",
    "        return summary_str"
   ]
  },
  {
   "cell_type": "code",
   "execution_count": 18,
   "metadata": {},
   "outputs": [
    {
     "name": "stdout",
     "output_type": "stream",
     "text": [
      "Reference Summary:\n",
      "Harry Potter star Daniel Radcliffe gets £20M fortune as he turns 18 Monday .\n",
      "Young actor says he has no plans to fritter his cash away .\n",
      "Radcliffe's earnings from first five Potter films have been held in trust fund .\n",
      "\n",
      "Generated Summary:\n",
      "Harry Potter star Daniel Radcliffe gains access to a reported £20 million ($41.1 million) fortune as he turns 18 on Monday, but he insists the money won't cast a spell on him.\n",
      "\"People are always looking to say 'kid star goes off the rails,'\" he told reporters last month.\n",
      "There is life beyond Potter, however.\n"
     ]
    }
   ],
   "source": [
    "# Sample data for testing\n",
    "text = data[0]['article']\n",
    "model = \"text-embedding-3-large\"\n",
    "summary = summarize_text(text, model, 3, True)\n",
    "\n",
    "print(\"Reference Summary:\")\n",
    "print(data[0]['highlights'])\n",
    "\n",
    "print(\"\\nGenerated Summary:\")\n",
    "for sentence in summary:\n",
    "    print(sentence)"
   ]
  },
  {
   "cell_type": "markdown",
   "metadata": {},
   "source": [
    "## Avaliação da Solução\n",
    "Para tentar evitar o problema de tentar avaliar essa solução com uma métrica ROUGE, visto que os resumos de referência ('highlights') não foram criados da mesma forma que os nossos, que são resumos extrativos, tentamos uma abordagem diferente. Optamos por utilizar os próprios embeddings para avaliação: a ideia foi usar a similaridade entre o embeddings do resumo gerado e do resumo de referência como score de avaliação. Desde que o mesmo modelo de embedding seja utilizado para todos os resumos, a similaridade (ou distância de cosseno) entre eles é uma comparação válida.\n",
    "\n",
    "Essa é uma forma de avaliação parecida com o que foi usado no ROUGE-WE, discutido no artigo \"Better Summarization Evaluation with Word Embeddings for ROUGE\", de Jun-Ping Ng e Viktoria Abrech. O ROUGE-WE é uma métrica baseada no ROUGE, mas que usa de embeddings de palavras de forma a aliviar a perda de score que se teria devido a parafraseamento do texto. Neste trabalho, no entanto, usaremos embeddings de texto completo.\n",
    "\n",
    "Assim, vamos avaliar a solução conforme a média dos scores de similaridade usando os 20 primeiros artigos do dataset de treinamento do CNN/DailyMail. Vamos comparar os resultados usando 3 modelos de embeddings diferentes para sumarização do texto: o text-embedding-3-small, text-embedding-3-large, e text-embedding-ada-002. Para a avaliação em si, será usado apenas o text-embedding-3-small para que os embeddings da avaliação sejam gerados no mesmo espaço vetorial e suas distâncias sejam comparáveis, de forma a garantir a consistência e justiça da avaliação."
   ]
  },
  {
   "cell_type": "markdown",
   "metadata": {},
   "source": [
    "### Geração dos Resumos"
   ]
  },
  {
   "cell_type": "code",
   "execution_count": 72,
   "metadata": {},
   "outputs": [
    {
     "data": {
      "text/html": [
       "<div>\n",
       "<style scoped>\n",
       "    .dataframe tbody tr th:only-of-type {\n",
       "        vertical-align: middle;\n",
       "    }\n",
       "\n",
       "    .dataframe tbody tr th {\n",
       "        vertical-align: top;\n",
       "    }\n",
       "\n",
       "    .dataframe thead th {\n",
       "        text-align: right;\n",
       "    }\n",
       "</style>\n",
       "<table border=\"1\" class=\"dataframe\">\n",
       "  <thead>\n",
       "    <tr style=\"text-align: right;\">\n",
       "      <th></th>\n",
       "      <th>article</th>\n",
       "      <th>highlights</th>\n",
       "      <th>id</th>\n",
       "    </tr>\n",
       "  </thead>\n",
       "  <tbody>\n",
       "    <tr>\n",
       "      <th>0</th>\n",
       "      <td>LONDON, England (Reuters) -- Harry Potter star...</td>\n",
       "      <td>Harry Potter star Daniel Radcliffe gets £20M f...</td>\n",
       "      <td>42c027e4ff9730fbb3de84c1af0d2c506e41c3e4</td>\n",
       "    </tr>\n",
       "    <tr>\n",
       "      <th>1</th>\n",
       "      <td>Editor's note: In our Behind the Scenes series...</td>\n",
       "      <td>Mentally ill inmates in Miami are housed on th...</td>\n",
       "      <td>ee8871b15c50d0db17b0179a6d2beab35065f1e9</td>\n",
       "    </tr>\n",
       "    <tr>\n",
       "      <th>2</th>\n",
       "      <td>MINNEAPOLIS, Minnesota (CNN) -- Drivers who we...</td>\n",
       "      <td>NEW: \"I thought I was going to die,\" driver sa...</td>\n",
       "      <td>06352019a19ae31e527f37f7571c6dd7f0c5da37</td>\n",
       "    </tr>\n",
       "    <tr>\n",
       "      <th>3</th>\n",
       "      <td>WASHINGTON (CNN) -- Doctors removed five small...</td>\n",
       "      <td>Five small polyps found during procedure; \"non...</td>\n",
       "      <td>24521a2abb2e1f5e34e6824e0f9e56904a2b0e88</td>\n",
       "    </tr>\n",
       "    <tr>\n",
       "      <th>4</th>\n",
       "      <td>(CNN)  -- The National Football League has ind...</td>\n",
       "      <td>NEW: NFL chief, Atlanta Falcons owner critical...</td>\n",
       "      <td>7fe70cc8b12fab2d0a258fababf7d9c6b5e1262a</td>\n",
       "    </tr>\n",
       "  </tbody>\n",
       "</table>\n",
       "</div>"
      ],
      "text/plain": [
       "                                             article  ...                                        id\n",
       "0  LONDON, England (Reuters) -- Harry Potter star...  ...  42c027e4ff9730fbb3de84c1af0d2c506e41c3e4\n",
       "1  Editor's note: In our Behind the Scenes series...  ...  ee8871b15c50d0db17b0179a6d2beab35065f1e9\n",
       "2  MINNEAPOLIS, Minnesota (CNN) -- Drivers who we...  ...  06352019a19ae31e527f37f7571c6dd7f0c5da37\n",
       "3  WASHINGTON (CNN) -- Doctors removed five small...  ...  24521a2abb2e1f5e34e6824e0f9e56904a2b0e88\n",
       "4  (CNN)  -- The National Football League has ind...  ...  7fe70cc8b12fab2d0a258fababf7d9c6b5e1262a\n",
       "\n",
       "[5 rows x 3 columns]"
      ]
     },
     "execution_count": 72,
     "metadata": {},
     "output_type": "execute_result"
    }
   ],
   "source": [
    "data_df = data.to_pandas()  # contains 20 articles\n",
    "data_df.head()"
   ]
  },
  {
   "cell_type": "code",
   "execution_count": 61,
   "metadata": {},
   "outputs": [],
   "source": [
    "# Get articles and validation summaries we will use for evaluation\n",
    "articles = data_df[\"article\"].tolist()\n",
    "ref_summaries = data_df[\"highlights\"].tolist()"
   ]
  },
  {
   "cell_type": "code",
   "execution_count": 71,
   "metadata": {},
   "outputs": [],
   "source": [
    "# Generate articles' summaries with our text summarizer\n",
    "model = \"text-embedding-3-large\"\n",
    "gen_summaries = [summarize_text(text=article, model=model, n_clusters=3) for article in articles]"
   ]
  },
  {
   "cell_type": "markdown",
   "metadata": {},
   "source": [
    "### Comparar com os Resumos de Referência"
   ]
  },
  {
   "cell_type": "code",
   "execution_count": 73,
   "metadata": {},
   "outputs": [],
   "source": [
    "# Função para avaliar a solução usando similaridade entre embeddings\n",
    "def evaluate_summaries(generated_summaries, reference_summaries, embedding_model=\"text-embedding-3-small\"):\n",
    "    similarities = []\n",
    "    \n",
    "    for gen_summary, ref_summary in zip(generated_summaries, reference_summaries):\n",
    "        gen_embedding = get_embedding(gen_summary, embedding_model)\n",
    "        ref_embedding = get_embedding(ref_summary, embedding_model)\n",
    "        \n",
    "        similarity = cosine_similarity(gen_embedding, ref_embedding)\n",
    "        similarities.append(similarity)\n",
    "    \n",
    "    mean_similarity = np.mean(similarities)\n",
    "    return mean_similarity"
   ]
  },
  {
   "cell_type": "code",
   "execution_count": 74,
   "metadata": {},
   "outputs": [],
   "source": [
    "score = evaluate_summaries(gen_summaries, ref_summaries)"
   ]
  },
  {
   "cell_type": "code",
   "execution_count": 75,
   "metadata": {},
   "outputs": [
    {
     "data": {
      "text/plain": [
       "0.7003374909642245"
      ]
     },
     "execution_count": 75,
     "metadata": {},
     "output_type": "execute_result"
    }
   ],
   "source": [
    "score"
   ]
  },
  {
   "cell_type": "code",
   "execution_count": null,
   "metadata": {},
   "outputs": [],
   "source": []
  },
  {
   "cell_type": "code",
   "execution_count": 77,
   "metadata": {},
   "outputs": [],
   "source": [
    "# Generate articles' summaries with our text summarizer\n",
    "model = \"text-embedding-3-large\"\n",
    "gen_summaries2 = [summarize_text(text=article, model=model, n_clusters=4) for article in articles]"
   ]
  },
  {
   "cell_type": "code",
   "execution_count": 79,
   "metadata": {},
   "outputs": [
    {
     "data": {
      "text/plain": [
       "['Daniel Radcliffe as Harry Potter in \"Harry Potter and the Order of the Phoenix\" To the disappointment of gossip columnists around the world, the young actor says he has no plans to fritter his cash away on fast cars, drink and celebrity parties. Radcliffe\\'s earnings from the first five Potter films have been held in a trust fund which he has not been able to touch. \"People are always looking to say \\'kid star goes off the rails,\\'\" he told reporters last month. He will also appear in \"December Boys,\" an Australian film about four boys who escape an orphanage.',\n",
       " 'He says the arrests often result from confrontations with police. Imagine cutting holes for arms and feet in a heavy wool sleeping bag -- that\\'s kind of what they look like. Starting in 2008, many inmates who would otherwise have been brought to the \"forgotten floor\" will instead be sent to a new mental health facility -- the first step on a journey toward long-term treatment, not just punishment. And, for Leifman, justice is served.',\n",
       " 'Drivers who were on the Minneapolis bridge when it collapsed told harrowing tales of survival. He said several vehicles slid past him into the water. It was just complete chaos.\" After the bridge settled and his car remained upright, \"I just put in park, turned the key off and said, \\'Oh, I\\'m alive,\\' he said.',\n",
       " 'The polyps were removed and sent to the National Naval Medical Center in Bethesda, Maryland, for routine microscopic examination, spokesman Scott Stanzel said. Bush is in good humor, Stanzel said, and will resume his activities at Camp David. Snow said on Friday that Bush had polyps removed during colonoscopies before becoming president. The American Cancer Society recommends that people without high risk factors or symptoms begin getting screened for signs of colorectal cancer at age 50.',\n",
       " \"In an additional summary of facts, signed by Vick and filed with the agreement, Vick admitted buying pit bulls and the property used for training and fighting the dogs, but the statement said he did not bet on the fights or receive any of the money won. The judge in the case will have the final say over the plea agreement. In the plea deal, Vick agreed to cooperate with investigators and provide all information he may have on any criminal activity and to testify if necessary. After Vick's indictment last month, Goodell ordered the quarterback not to report to the Falcons training camp, and the league is reviewing the case.\",\n",
       " 'Dressed in a Superman shirt, 5-year-old Youssif held his sister\\'s hand Friday, seemingly unaware that millions of people across the world have been touched by his story. He talked about how he tried in vain to get help for his son in Baghdad, leaving \"no stone unturned\" on a mission to help his boy. Youssif\\'s parents said they know it\\'s going to be a lengthy and difficult process and that adjusting to their stay in America may not be easy. CNN Iraqi staff central to bringing this story together were also overwhelmed with the generosity coming from people outside of their border.',\n",
       " 'Suha, 37, is a mother of three. She says her husband thinks she is cleaning houses when she leaves home. Because of the circumstance, she is forced to do such things.\" According to Rahim and Mohammed, most of the women they encounter say they are driven to prostitution by a desperate desire for survival in the dangerously violent and unforgiving circumstances in Iraq.',\n",
       " 'A key rebel commander and fugitive from a U.S. drug trafficking indictment was killed over the weekend in an air attack on a guerrilla encampment, the Colombian military said Monday. Tomas Medina Caracas, known popularly as \"El Negro Acacio,\" was a member of the high command of the Fuerzas Armadas Revolucionarias de Colombia and, according to Colombian and U.S. officials, helped manage the group\\'s extensive cocaine trafficking network. He had been in the cross-hairs of the U.S. Justice Department since 2002. U.S. officials alleged Medina Caracas managed the rebel group\\'s sales of cocaine to international drug traffickers, who in turn smuggled it into the United States.',\n",
       " 'White House press secretary Tony Snow, who is undergoing treatment for cancer, will step down from his post September 14 and be replaced by deputy press secretary Dana Perino, the White House announced Friday. President Bush told reporters Friday that he will \"sadly accept\" Snow\\'s resignation. Snow had been an anchor for \"Fox News Sunday\" and a political analyst for the Fox News Channel, which he joined in 1996. \"The tumors are stable -- they are not growing,\" Snow said of the results from an MRI and a CAT scan.',\n",
       " 'Police and FBI agents are investigating the discovery of an empty rocket launcher tube on the front lawn of a Jersey City, New Jersey, home, FBI spokesman Sean Quinn said. A neighbor, Joe Quinn, said the object lying on Desai\\'s lawn looked military, was brown, had a handle and strap, and \"both ends were open, like you could shoot something with it.\" According to the Web site Globalsecurity.org, a loaded M136 AT4 anti-tank weapon has a 40-inch-long fiberglass-wrapped tube and weighs just 4 pounds. It is used once and discarded.',\n",
       " '\"While the President continues to stay-the-course with his failed strategy in Iraq, paid for by the taxpayers, American lives are being lost and there is still no political solution within the Iraqi government. A recent CNN/Opinion Research Corporation poll found that almost two-thirds of Americans -- 64 percent -- now oppose the Iraq war, and 72 percent say that even if Petraeus reports progress, it won\\'t change their opinion. \"Today, in defiance of the critics, Japan... stands as one of the world\\'s great free societies.\" Speaking about the Korean War, Bush will note that at the time \"critics argued that the war was futile, that we never should have sent our troops in, or that America\\'s intervention was divisive here at home.\"',\n",
       " \"June 29, 2007: Police defuse a bomb consisting of 200 liters of fuel, gas cylinders and nails found in an abandoned car in Haymarket, central London. April 1992: A huge IRA car bomb in London's financial district kills three people and wounds 91. (Read about Lockerbie bomber) October 1984: Five people die in an IRA bomb attack on a hotel in Brighton, southern England, where Prime Minister Margaret Thatcher and her cabinet are staying for the Conservative Party's annual conference. December 1983: An IRA bomb at London's Harrods department store kills six people.\",\n",
       " '\"I like Bremen and would only have wanted to come here.\" Carlos Alberto started his career with Fluminense, and helped them to lift the Campeonato Carioca in 2002. Early in 2005, he moved to Corinthians, where he impressed as they won the Brasileirão,but in 2006 Corinthians had a poor season and Carlos Alberto found himself at odds with manager, Emerson Leão. Bundesliga champions VfB Stuttgart said on Sunday that they would sign a loan agreement with Real Zaragoza on Monday for Ewerthon, the third top Brazilian player to join the German league in three days.',\n",
       " \"Bush is scheduled to have the medical procedure, expected to take about 2 1/2 hours, at the presidential retreat at Camp David, Maryland, Snow said. Bush's last colonoscopy was in June 2002, and no abnormalities were found, Snow said. A colonoscopy is the most sensitive test for colon cancer, rectal cancer and polyps, small clumps of cells that can become cancerous, according to the Mayo Clinic. Snow himself is undergoing chemotherapy for cancer that began in his colon and spread to his liver.\",\n",
       " 'Al Casciato of the San Francisco police. \"It was fairly mild.\" The quake was centered about two miles east-northeast of Oakland, at a depth of 3.6 miles, the USGS said. The shaking lasted about 50 seconds, said CNN meteorologist Chad Myers.',\n",
       " '\"Last night, a difficult decision was made to end the search,\" President Bush said in a statement. \"The grueling around-the-clock rescue operation that claimed three lives and injured six others has also taken a tremendous toll on the many brave rescuers and the local community, and our thoughts and prayers are with them all,\" Chao said in a statement. \"And basically, through all the information we\\'ve gleaned over the past nearly four weeks in terms of the conditions we found, in terms of the air readings we found down there and... everything else, we just don\\'t know where else we can put a hole to get any other information.\" Work resumed Friday, this time at the fourth hole, but the camera could only descend about 7 feet, he said.',\n",
       " \"At least 14 people were killed and 60 others wounded Thursday when a bomb ripped through a crowd waiting to see Algeria's president in Batna, east of the capital of Algiers, the Algerie Presse Service reported. A wounded person gets first aid shortly after Thursday's attack in Batna, Algeria. There was no immediate claim of responsibility for the bombing. Algeria faces a continuing Islamic insurgency, according to the CIA.\",\n",
       " \"Now, David Beckham is headed for the Hollywood Hills as he takes his game to U.S. Major League Soccer. CNN will look back at the life of Beckham, the wonderfully talented youngster who fulfilled his dream of playing for Manchester United, his marriage to pop star Victoria, and the trials and tribulations of playing for England. We'll look at the highs (scoring against Greece), the lows (being sent off during the World Cup), the Man. We talk to some of the former greats who came before him and examine what impact these overseas stars had on U.S. soccer and look at what is different now.\",\n",
       " 'Colony collapse disorder has killed millions of bees -- up to 90 percent of colonies in some U.S. beekeeping operations -- imperiling the crops largely dependent upon bees for pollination, such as oranges, blueberries, apples and almonds. \"Other stressors on the colony are likely involved.\" Researchers also say varroa mites affect all hives on the U.S. mainland but are not found in Australia. \"The next step is to ascertain whether IAPV, alone or in concert with other factors, can induce CCD [colony collapse disorder] in healthy bees,\" said Ian Lipkin, director of the Center for Infection and Immunity at Columbia University Mailman School of Public Health.',\n",
       " 'Fearful customers line up to withdraw cash from a Northern Rock branch in southeast London on Friday. Long lines formed before counters opened at the Northern Rock building society, one of the UK\\'s top five lenders, as worried customers ignored reassurances from the bank and the government. The British Bankers\\' Association has urged customers to \"calm down,\" according to the UK Press Association. Northern Rock will be able to carry on its business.\"']"
      ]
     },
     "execution_count": 79,
     "metadata": {},
     "output_type": "execute_result"
    }
   ],
   "source": [
    "gen_summaries2"
   ]
  },
  {
   "cell_type": "code",
   "execution_count": 78,
   "metadata": {},
   "outputs": [
    {
     "data": {
      "text/plain": [
       "0.692719589444643"
      ]
     },
     "execution_count": 78,
     "metadata": {},
     "output_type": "execute_result"
    }
   ],
   "source": [
    "score2 = evaluate_summaries(gen_summaries2, ref_summaries)\n",
    "score2"
   ]
  }
 ],
 "metadata": {
  "kernelspec": {
   "display_name": ".venv",
   "language": "python",
   "name": "python3"
  },
  "language_info": {
   "codemirror_mode": {
    "name": "ipython",
    "version": 3
   },
   "file_extension": ".py",
   "mimetype": "text/x-python",
   "name": "python",
   "nbconvert_exporter": "python",
   "pygments_lexer": "ipython3",
   "version": "3.8.10"
  }
 },
 "nbformat": 4,
 "nbformat_minor": 2
}
